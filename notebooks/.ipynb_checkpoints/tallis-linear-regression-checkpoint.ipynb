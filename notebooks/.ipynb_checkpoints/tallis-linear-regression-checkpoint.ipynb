{
 "cells": [
  {
   "cell_type": "markdown",
   "metadata": {},
   "source": [
    "\n",
    "# Regression models to predict property prices in Tallkrogen"
   ]
  },
  {
   "cell_type": "code",
   "execution_count": 174,
   "metadata": {},
   "outputs": [],
   "source": [
    "import pandas as pd\n",
    "import matplotlib.pyplot as plt\n",
    "from sklearn.linear_model import Ridge, SGDRegressor, Lasso, LinearRegression\n",
    "from sklearn.ensemble import RandomForestRegressor\n",
    "from sklearn.metrics import r2_score\n",
    "from sklearn.model_selection import train_test_split\n",
    "from subprocess import check_output\n"
   ]
  },
  {
   "cell_type": "markdown",
   "metadata": {},
   "source": [
    "### Call the Node Hemnet scraper which saves .json data file of sold properties in Tallkrogen\n",
    "#### not needed as scraper can be called directly"
   ]
  },
  {
   "cell_type": "code",
   "execution_count": 2,
   "metadata": {},
   "outputs": [],
   "source": [
    "#check_output(['npm', 'run start'])"
   ]
  },
  {
   "cell_type": "markdown",
   "metadata": {},
   "source": [
    "### Read in sold property json as dataframe"
   ]
  },
  {
   "cell_type": "code",
   "execution_count": 232,
   "metadata": {},
   "outputs": [],
   "source": [
    "tallkrogen_sold_prices_df = pd.read_json(\"../data/soldData.json\", dtype={\n",
    "    'address': \"string\",\n",
    "    'soldDate': \"string\",\n",
    "    'livingArea': int,\n",
    "    'extraArea': int,\n",
    "    'land': int,\n",
    "    'rooms': int,\n",
    "    'houseType': \"string\",\n",
    "    'assignment': \"string\",\n",
    "    'askingPrice': int,\n",
    "    'soldPrice': int\n",
    "})\n"
   ]
  },
  {
   "cell_type": "code",
   "execution_count": 233,
   "metadata": {},
   "outputs": [
    {
     "data": {
      "text/html": [
       "<div>\n",
       "<style scoped>\n",
       "    .dataframe tbody tr th:only-of-type {\n",
       "        vertical-align: middle;\n",
       "    }\n",
       "\n",
       "    .dataframe tbody tr th {\n",
       "        vertical-align: top;\n",
       "    }\n",
       "\n",
       "    .dataframe thead th {\n",
       "        text-align: right;\n",
       "    }\n",
       "</style>\n",
       "<table border=\"1\" class=\"dataframe\">\n",
       "  <thead>\n",
       "    <tr style=\"text-align: right;\">\n",
       "      <th></th>\n",
       "      <th>address</th>\n",
       "      <th>soldDate</th>\n",
       "      <th>livingArea</th>\n",
       "      <th>extraArea</th>\n",
       "      <th>land</th>\n",
       "      <th>rooms</th>\n",
       "      <th>houseType</th>\n",
       "      <th>assignment</th>\n",
       "      <th>askingPrice</th>\n",
       "      <th>soldPrice</th>\n",
       "    </tr>\n",
       "  </thead>\n",
       "  <tbody>\n",
       "    <tr>\n",
       "      <th>0</th>\n",
       "      <td>Herrhagsvägen 91</td>\n",
       "      <td>2022-04-20</td>\n",
       "      <td>65</td>\n",
       "      <td>65</td>\n",
       "      <td>506</td>\n",
       "      <td>5</td>\n",
       "      <td>Villa</td>\n",
       "      <td>Äganderätt</td>\n",
       "      <td>7000000</td>\n",
       "      <td>7000000</td>\n",
       "    </tr>\n",
       "    <tr>\n",
       "      <th>1</th>\n",
       "      <td>Kulstötarvägen 29</td>\n",
       "      <td>2022-04-26</td>\n",
       "      <td>83</td>\n",
       "      <td>79</td>\n",
       "      <td>526</td>\n",
       "      <td>6</td>\n",
       "      <td>Villa</td>\n",
       "      <td>Äganderätt</td>\n",
       "      <td>7750000</td>\n",
       "      <td>8700000</td>\n",
       "    </tr>\n",
       "    <tr>\n",
       "      <th>2</th>\n",
       "      <td>Maratonvägen 104</td>\n",
       "      <td>2021-08-24</td>\n",
       "      <td>123</td>\n",
       "      <td>71</td>\n",
       "      <td>609</td>\n",
       "      <td>5</td>\n",
       "      <td>Villa</td>\n",
       "      <td>Äganderätt</td>\n",
       "      <td>9500000</td>\n",
       "      <td>10150000</td>\n",
       "    </tr>\n",
       "    <tr>\n",
       "      <th>3</th>\n",
       "      <td>Diskusvägen 29</td>\n",
       "      <td>2022-02-22</td>\n",
       "      <td>68</td>\n",
       "      <td>68</td>\n",
       "      <td>553</td>\n",
       "      <td>5</td>\n",
       "      <td>Villa</td>\n",
       "      <td>Äganderätt</td>\n",
       "      <td>9100000</td>\n",
       "      <td>9100000</td>\n",
       "    </tr>\n",
       "    <tr>\n",
       "      <th>4</th>\n",
       "      <td>Träningsvägen 3</td>\n",
       "      <td>2021-07-02</td>\n",
       "      <td>52</td>\n",
       "      <td>52</td>\n",
       "      <td>337</td>\n",
       "      <td>5</td>\n",
       "      <td>Villa</td>\n",
       "      <td>Äganderätt</td>\n",
       "      <td>6995000</td>\n",
       "      <td>7450000</td>\n",
       "    </tr>\n",
       "    <tr>\n",
       "      <th>5</th>\n",
       "      <td>Diskusvägen 31</td>\n",
       "      <td>2021-08-15</td>\n",
       "      <td>83</td>\n",
       "      <td>69</td>\n",
       "      <td>551</td>\n",
       "      <td>4</td>\n",
       "      <td>Villa</td>\n",
       "      <td>Äganderätt</td>\n",
       "      <td>7495000</td>\n",
       "      <td>8800000</td>\n",
       "    </tr>\n",
       "    <tr>\n",
       "      <th>6</th>\n",
       "      <td>Hanvedsgatan 8</td>\n",
       "      <td>2022-06-22</td>\n",
       "      <td>69</td>\n",
       "      <td>65</td>\n",
       "      <td>459</td>\n",
       "      <td>4</td>\n",
       "      <td>Villa</td>\n",
       "      <td>Tomträtt</td>\n",
       "      <td>7795000</td>\n",
       "      <td>8650000</td>\n",
       "    </tr>\n",
       "    <tr>\n",
       "      <th>7</th>\n",
       "      <td>Mörkövägen 50</td>\n",
       "      <td>2022-05-09</td>\n",
       "      <td>69</td>\n",
       "      <td>67</td>\n",
       "      <td>599</td>\n",
       "      <td>5</td>\n",
       "      <td>Villa</td>\n",
       "      <td>Tomträtt</td>\n",
       "      <td>8295000</td>\n",
       "      <td>6950000</td>\n",
       "    </tr>\n",
       "    <tr>\n",
       "      <th>8</th>\n",
       "      <td>Olympiavägen 77</td>\n",
       "      <td>2022-02-16</td>\n",
       "      <td>65</td>\n",
       "      <td>65</td>\n",
       "      <td>452</td>\n",
       "      <td>6</td>\n",
       "      <td>Villa</td>\n",
       "      <td>Äganderätt</td>\n",
       "      <td>5995000</td>\n",
       "      <td>8300000</td>\n",
       "    </tr>\n",
       "    <tr>\n",
       "      <th>9</th>\n",
       "      <td>Olympiavägen 95</td>\n",
       "      <td>2021-11-09</td>\n",
       "      <td>50</td>\n",
       "      <td>50</td>\n",
       "      <td>475</td>\n",
       "      <td>4</td>\n",
       "      <td>Villa</td>\n",
       "      <td>Äganderätt</td>\n",
       "      <td>6995000</td>\n",
       "      <td>8500000</td>\n",
       "    </tr>\n",
       "  </tbody>\n",
       "</table>\n",
       "</div>"
      ],
      "text/plain": [
       "             address    soldDate livingArea extraArea land  rooms houseType  \\\n",
       "0   Herrhagsvägen 91  2022-04-20         65        65  506      5     Villa   \n",
       "1  Kulstötarvägen 29  2022-04-26         83        79  526      6     Villa   \n",
       "2   Maratonvägen 104  2021-08-24        123        71  609      5     Villa   \n",
       "3     Diskusvägen 29  2022-02-22         68        68  553      5     Villa   \n",
       "4    Träningsvägen 3  2021-07-02         52        52  337      5     Villa   \n",
       "5     Diskusvägen 31  2021-08-15         83        69  551      4     Villa   \n",
       "6     Hanvedsgatan 8  2022-06-22         69        65  459      4     Villa   \n",
       "7      Mörkövägen 50  2022-05-09         69        67  599      5     Villa   \n",
       "8    Olympiavägen 77  2022-02-16         65        65  452      6     Villa   \n",
       "9    Olympiavägen 95  2021-11-09         50        50  475      4     Villa   \n",
       "\n",
       "   assignment askingPrice  soldPrice  \n",
       "0  Äganderätt     7000000    7000000  \n",
       "1  Äganderätt     7750000    8700000  \n",
       "2  Äganderätt     9500000   10150000  \n",
       "3  Äganderätt     9100000    9100000  \n",
       "4  Äganderätt     6995000    7450000  \n",
       "5  Äganderätt     7495000    8800000  \n",
       "6    Tomträtt     7795000    8650000  \n",
       "7    Tomträtt     8295000    6950000  \n",
       "8  Äganderätt     5995000    8300000  \n",
       "9  Äganderätt     6995000    8500000  "
      ]
     },
     "execution_count": 233,
     "metadata": {},
     "output_type": "execute_result"
    }
   ],
   "source": [
    "tallkrogen_sold_prices_df.head(10)"
   ]
  },
  {
   "cell_type": "code",
   "execution_count": 234,
   "metadata": {},
   "outputs": [
    {
     "data": {
      "text/plain": [
       "(250, 10)"
      ]
     },
     "execution_count": 234,
     "metadata": {},
     "output_type": "execute_result"
    }
   ],
   "source": [
    "tallkrogen_sold_prices_df.shape"
   ]
  },
  {
   "cell_type": "code",
   "execution_count": 235,
   "metadata": {},
   "outputs": [
    {
     "data": {
      "text/plain": [
       "address        object\n",
       "soldDate       object\n",
       "livingArea     object\n",
       "extraArea      object\n",
       "land           object\n",
       "rooms           int64\n",
       "houseType      object\n",
       "assignment     object\n",
       "askingPrice    object\n",
       "soldPrice       int64\n",
       "dtype: object"
      ]
     },
     "execution_count": 235,
     "metadata": {},
     "output_type": "execute_result"
    }
   ],
   "source": [
    "tallkrogen_sold_prices_df.dtypes"
   ]
  },
  {
   "cell_type": "markdown",
   "metadata": {},
   "source": [
    "### Checking each attribute to confirm its type is accurate"
   ]
  },
  {
   "cell_type": "code",
   "execution_count": 236,
   "metadata": {},
   "outputs": [],
   "source": [
    "def checkAttribute(row): \n",
    "    try:\n",
    "        str(row[\"address\"])\n",
    "    except:\n",
    "        return False\n",
    "    try:\n",
    "        str(row[\"soldDate\"])\n",
    "    except:\n",
    "        return False\n",
    "    try:\n",
    "        float(row[\"livingArea\"])\n",
    "    except:\n",
    "        return False\n",
    "    try:\n",
    "        float(row[\"extraArea\"])\n",
    "    except:\n",
    "        return False\n",
    "    try:\n",
    "        float(row[\"land\"])\n",
    "    except:\n",
    "        return False\n",
    "    try:\n",
    "        float(row[\"rooms\"])\n",
    "    except:\n",
    "        return False\n",
    "    try:\n",
    "        str(row[\"houseType\"])\n",
    "    except:\n",
    "        return False\n",
    "    try:\n",
    "        str(row[\"assignment\"])\n",
    "    except:\n",
    "        return False\n",
    "    try:\n",
    "        float(row[\"askingPrice\"])\n",
    "    except:\n",
    "        return False\n",
    "    try:\n",
    "        float(row[\"soldPrice\"])\n",
    "    except:\n",
    "        return False\n",
    "    return True"
   ]
  },
  {
   "cell_type": "code",
   "execution_count": 237,
   "metadata": {},
   "outputs": [],
   "source": [
    "for index, row in tallkrogen_sold_prices_df.iterrows():\n",
    "    if checkAttribute(row) == False:\n",
    "        tallkrogen_sold_prices_df.drop(index=index, inplace=True)"
   ]
  },
  {
   "cell_type": "code",
   "execution_count": 238,
   "metadata": {},
   "outputs": [
    {
     "data": {
      "text/html": [
       "<div>\n",
       "<style scoped>\n",
       "    .dataframe tbody tr th:only-of-type {\n",
       "        vertical-align: middle;\n",
       "    }\n",
       "\n",
       "    .dataframe tbody tr th {\n",
       "        vertical-align: top;\n",
       "    }\n",
       "\n",
       "    .dataframe thead th {\n",
       "        text-align: right;\n",
       "    }\n",
       "</style>\n",
       "<table border=\"1\" class=\"dataframe\">\n",
       "  <thead>\n",
       "    <tr style=\"text-align: right;\">\n",
       "      <th></th>\n",
       "      <th>address</th>\n",
       "      <th>soldDate</th>\n",
       "      <th>livingArea</th>\n",
       "      <th>extraArea</th>\n",
       "      <th>land</th>\n",
       "      <th>rooms</th>\n",
       "      <th>houseType</th>\n",
       "      <th>assignment</th>\n",
       "      <th>askingPrice</th>\n",
       "      <th>soldPrice</th>\n",
       "    </tr>\n",
       "  </thead>\n",
       "  <tbody>\n",
       "    <tr>\n",
       "      <th>0</th>\n",
       "      <td>Herrhagsvägen 91</td>\n",
       "      <td>2022-04-20</td>\n",
       "      <td>65</td>\n",
       "      <td>65</td>\n",
       "      <td>506</td>\n",
       "      <td>5</td>\n",
       "      <td>Villa</td>\n",
       "      <td>Äganderätt</td>\n",
       "      <td>7000000</td>\n",
       "      <td>7000000</td>\n",
       "    </tr>\n",
       "    <tr>\n",
       "      <th>1</th>\n",
       "      <td>Kulstötarvägen 29</td>\n",
       "      <td>2022-04-26</td>\n",
       "      <td>83</td>\n",
       "      <td>79</td>\n",
       "      <td>526</td>\n",
       "      <td>6</td>\n",
       "      <td>Villa</td>\n",
       "      <td>Äganderätt</td>\n",
       "      <td>7750000</td>\n",
       "      <td>8700000</td>\n",
       "    </tr>\n",
       "    <tr>\n",
       "      <th>2</th>\n",
       "      <td>Maratonvägen 104</td>\n",
       "      <td>2021-08-24</td>\n",
       "      <td>123</td>\n",
       "      <td>71</td>\n",
       "      <td>609</td>\n",
       "      <td>5</td>\n",
       "      <td>Villa</td>\n",
       "      <td>Äganderätt</td>\n",
       "      <td>9500000</td>\n",
       "      <td>10150000</td>\n",
       "    </tr>\n",
       "    <tr>\n",
       "      <th>3</th>\n",
       "      <td>Diskusvägen 29</td>\n",
       "      <td>2022-02-22</td>\n",
       "      <td>68</td>\n",
       "      <td>68</td>\n",
       "      <td>553</td>\n",
       "      <td>5</td>\n",
       "      <td>Villa</td>\n",
       "      <td>Äganderätt</td>\n",
       "      <td>9100000</td>\n",
       "      <td>9100000</td>\n",
       "    </tr>\n",
       "    <tr>\n",
       "      <th>4</th>\n",
       "      <td>Träningsvägen 3</td>\n",
       "      <td>2021-07-02</td>\n",
       "      <td>52</td>\n",
       "      <td>52</td>\n",
       "      <td>337</td>\n",
       "      <td>5</td>\n",
       "      <td>Villa</td>\n",
       "      <td>Äganderätt</td>\n",
       "      <td>6995000</td>\n",
       "      <td>7450000</td>\n",
       "    </tr>\n",
       "    <tr>\n",
       "      <th>5</th>\n",
       "      <td>Diskusvägen 31</td>\n",
       "      <td>2021-08-15</td>\n",
       "      <td>83</td>\n",
       "      <td>69</td>\n",
       "      <td>551</td>\n",
       "      <td>4</td>\n",
       "      <td>Villa</td>\n",
       "      <td>Äganderätt</td>\n",
       "      <td>7495000</td>\n",
       "      <td>8800000</td>\n",
       "    </tr>\n",
       "    <tr>\n",
       "      <th>6</th>\n",
       "      <td>Hanvedsgatan 8</td>\n",
       "      <td>2022-06-22</td>\n",
       "      <td>69</td>\n",
       "      <td>65</td>\n",
       "      <td>459</td>\n",
       "      <td>4</td>\n",
       "      <td>Villa</td>\n",
       "      <td>Tomträtt</td>\n",
       "      <td>7795000</td>\n",
       "      <td>8650000</td>\n",
       "    </tr>\n",
       "    <tr>\n",
       "      <th>7</th>\n",
       "      <td>Mörkövägen 50</td>\n",
       "      <td>2022-05-09</td>\n",
       "      <td>69</td>\n",
       "      <td>67</td>\n",
       "      <td>599</td>\n",
       "      <td>5</td>\n",
       "      <td>Villa</td>\n",
       "      <td>Tomträtt</td>\n",
       "      <td>8295000</td>\n",
       "      <td>6950000</td>\n",
       "    </tr>\n",
       "    <tr>\n",
       "      <th>8</th>\n",
       "      <td>Olympiavägen 77</td>\n",
       "      <td>2022-02-16</td>\n",
       "      <td>65</td>\n",
       "      <td>65</td>\n",
       "      <td>452</td>\n",
       "      <td>6</td>\n",
       "      <td>Villa</td>\n",
       "      <td>Äganderätt</td>\n",
       "      <td>5995000</td>\n",
       "      <td>8300000</td>\n",
       "    </tr>\n",
       "    <tr>\n",
       "      <th>9</th>\n",
       "      <td>Olympiavägen 95</td>\n",
       "      <td>2021-11-09</td>\n",
       "      <td>50</td>\n",
       "      <td>50</td>\n",
       "      <td>475</td>\n",
       "      <td>4</td>\n",
       "      <td>Villa</td>\n",
       "      <td>Äganderätt</td>\n",
       "      <td>6995000</td>\n",
       "      <td>8500000</td>\n",
       "    </tr>\n",
       "  </tbody>\n",
       "</table>\n",
       "</div>"
      ],
      "text/plain": [
       "             address    soldDate livingArea extraArea land  rooms houseType  \\\n",
       "0   Herrhagsvägen 91  2022-04-20         65        65  506      5     Villa   \n",
       "1  Kulstötarvägen 29  2022-04-26         83        79  526      6     Villa   \n",
       "2   Maratonvägen 104  2021-08-24        123        71  609      5     Villa   \n",
       "3     Diskusvägen 29  2022-02-22         68        68  553      5     Villa   \n",
       "4    Träningsvägen 3  2021-07-02         52        52  337      5     Villa   \n",
       "5     Diskusvägen 31  2021-08-15         83        69  551      4     Villa   \n",
       "6     Hanvedsgatan 8  2022-06-22         69        65  459      4     Villa   \n",
       "7      Mörkövägen 50  2022-05-09         69        67  599      5     Villa   \n",
       "8    Olympiavägen 77  2022-02-16         65        65  452      6     Villa   \n",
       "9    Olympiavägen 95  2021-11-09         50        50  475      4     Villa   \n",
       "\n",
       "   assignment askingPrice  soldPrice  \n",
       "0  Äganderätt     7000000    7000000  \n",
       "1  Äganderätt     7750000    8700000  \n",
       "2  Äganderätt     9500000   10150000  \n",
       "3  Äganderätt     9100000    9100000  \n",
       "4  Äganderätt     6995000    7450000  \n",
       "5  Äganderätt     7495000    8800000  \n",
       "6    Tomträtt     7795000    8650000  \n",
       "7    Tomträtt     8295000    6950000  \n",
       "8  Äganderätt     5995000    8300000  \n",
       "9  Äganderätt     6995000    8500000  "
      ]
     },
     "execution_count": 238,
     "metadata": {},
     "output_type": "execute_result"
    }
   ],
   "source": [
    "tallkrogen_sold_prices_df.head(10)"
   ]
  },
  {
   "cell_type": "code",
   "execution_count": 239,
   "metadata": {},
   "outputs": [
    {
     "data": {
      "text/plain": [
       "(239, 10)"
      ]
     },
     "execution_count": 239,
     "metadata": {},
     "output_type": "execute_result"
    }
   ],
   "source": [
    "tallkrogen_sold_prices_df.shape"
   ]
  },
  {
   "cell_type": "code",
   "execution_count": 202,
   "metadata": {},
   "outputs": [],
   "source": [
    "tallkrogen_sold_prices_df[\"houseType\"].unique()\n",
    "tallkrogen_sold_prices_df = tallkrogen_sold_prices_df.drop(\"houseType\", axis=1)"
   ]
  },
  {
   "cell_type": "markdown",
   "metadata": {},
   "source": [
    "### casting the soldDate attribute to pandas datetime"
   ]
  },
  {
   "cell_type": "code",
   "execution_count": 203,
   "metadata": {},
   "outputs": [],
   "source": [
    "tallkrogen_sold_prices_df['soldDate'] = pd.to_datetime(tallkrogen_sold_prices_df['soldDate'])"
   ]
  },
  {
   "cell_type": "code",
   "execution_count": 204,
   "metadata": {},
   "outputs": [
    {
     "data": {
      "text/html": [
       "<div>\n",
       "<style scoped>\n",
       "    .dataframe tbody tr th:only-of-type {\n",
       "        vertical-align: middle;\n",
       "    }\n",
       "\n",
       "    .dataframe tbody tr th {\n",
       "        vertical-align: top;\n",
       "    }\n",
       "\n",
       "    .dataframe thead th {\n",
       "        text-align: right;\n",
       "    }\n",
       "</style>\n",
       "<table border=\"1\" class=\"dataframe\">\n",
       "  <thead>\n",
       "    <tr style=\"text-align: right;\">\n",
       "      <th></th>\n",
       "      <th>address</th>\n",
       "      <th>soldDate</th>\n",
       "      <th>livingArea</th>\n",
       "      <th>extraArea</th>\n",
       "      <th>land</th>\n",
       "      <th>rooms</th>\n",
       "      <th>assignment</th>\n",
       "      <th>askingPrice</th>\n",
       "      <th>soldPrice</th>\n",
       "    </tr>\n",
       "  </thead>\n",
       "  <tbody>\n",
       "    <tr>\n",
       "      <th>0</th>\n",
       "      <td>Hammerstavägen 123</td>\n",
       "      <td>2022-10-28</td>\n",
       "      <td>65</td>\n",
       "      <td>63</td>\n",
       "      <td>524</td>\n",
       "      <td>4</td>\n",
       "      <td>Tomträtt</td>\n",
       "      <td>5750000</td>\n",
       "      <td>5750000</td>\n",
       "    </tr>\n",
       "    <tr>\n",
       "      <th>1</th>\n",
       "      <td>VictorBalcksväg 148</td>\n",
       "      <td>2022-10-03</td>\n",
       "      <td>85</td>\n",
       "      <td>78</td>\n",
       "      <td>430</td>\n",
       "      <td>7</td>\n",
       "      <td>Äganderätt</td>\n",
       "      <td>8495000</td>\n",
       "      <td>8500000</td>\n",
       "    </tr>\n",
       "    <tr>\n",
       "      <th>2</th>\n",
       "      <td>Fasanvägen 12</td>\n",
       "      <td>2022-09-22</td>\n",
       "      <td>97</td>\n",
       "      <td>95</td>\n",
       "      <td>502</td>\n",
       "      <td>6</td>\n",
       "      <td>Äganderätt</td>\n",
       "      <td>8750000</td>\n",
       "      <td>9500000</td>\n",
       "    </tr>\n",
       "    <tr>\n",
       "      <th>3</th>\n",
       "      <td>Amatörvägen 50</td>\n",
       "      <td>2022-10-14</td>\n",
       "      <td>82</td>\n",
       "      <td>87</td>\n",
       "      <td>468</td>\n",
       "      <td>6</td>\n",
       "      <td>Tomträtt</td>\n",
       "      <td>8750000</td>\n",
       "      <td>8150000</td>\n",
       "    </tr>\n",
       "    <tr>\n",
       "      <th>4</th>\n",
       "      <td>Häringevägen 3</td>\n",
       "      <td>2022-08-30</td>\n",
       "      <td>66</td>\n",
       "      <td>63</td>\n",
       "      <td>448</td>\n",
       "      <td>6</td>\n",
       "      <td>Äganderätt</td>\n",
       "      <td>9500000</td>\n",
       "      <td>9500000</td>\n",
       "    </tr>\n",
       "    <tr>\n",
       "      <th>6</th>\n",
       "      <td>Kulstötarvägen 48</td>\n",
       "      <td>2022-07-08</td>\n",
       "      <td>92</td>\n",
       "      <td>84</td>\n",
       "      <td>509</td>\n",
       "      <td>6</td>\n",
       "      <td>Äganderätt</td>\n",
       "      <td>6995000</td>\n",
       "      <td>8625000</td>\n",
       "    </tr>\n",
       "    <tr>\n",
       "      <th>7</th>\n",
       "      <td>Herrhagsvägen 91</td>\n",
       "      <td>2022-04-20</td>\n",
       "      <td>65</td>\n",
       "      <td>65</td>\n",
       "      <td>506</td>\n",
       "      <td>4</td>\n",
       "      <td>Äganderätt</td>\n",
       "      <td>7000000</td>\n",
       "      <td>7000000</td>\n",
       "    </tr>\n",
       "    <tr>\n",
       "      <th>8</th>\n",
       "      <td>Kulstötarvägen 49</td>\n",
       "      <td>2022-09-02</td>\n",
       "      <td>52</td>\n",
       "      <td>55</td>\n",
       "      <td>482</td>\n",
       "      <td>5</td>\n",
       "      <td>Äganderätt</td>\n",
       "      <td>7350000</td>\n",
       "      <td>7350000</td>\n",
       "    </tr>\n",
       "    <tr>\n",
       "      <th>9</th>\n",
       "      <td>Krokvägen 127</td>\n",
       "      <td>2022-06-22</td>\n",
       "      <td>80</td>\n",
       "      <td>72</td>\n",
       "      <td>575</td>\n",
       "      <td>7</td>\n",
       "      <td>Äganderätt</td>\n",
       "      <td>9975000</td>\n",
       "      <td>9935000</td>\n",
       "    </tr>\n",
       "    <tr>\n",
       "      <th>10</th>\n",
       "      <td>Amatörvägen 21</td>\n",
       "      <td>2022-10-21</td>\n",
       "      <td>82</td>\n",
       "      <td>47</td>\n",
       "      <td>338</td>\n",
       "      <td>5</td>\n",
       "      <td>Äganderätt</td>\n",
       "      <td>7950000</td>\n",
       "      <td>7950000</td>\n",
       "    </tr>\n",
       "  </tbody>\n",
       "</table>\n",
       "</div>"
      ],
      "text/plain": [
       "                address   soldDate livingArea extraArea land  rooms  \\\n",
       "0    Hammerstavägen 123 2022-10-28         65        63  524      4   \n",
       "1   VictorBalcksväg 148 2022-10-03         85        78  430      7   \n",
       "2         Fasanvägen 12 2022-09-22         97        95  502      6   \n",
       "3        Amatörvägen 50 2022-10-14         82        87  468      6   \n",
       "4        Häringevägen 3 2022-08-30         66        63  448      6   \n",
       "6     Kulstötarvägen 48 2022-07-08         92        84  509      6   \n",
       "7      Herrhagsvägen 91 2022-04-20         65        65  506      4   \n",
       "8     Kulstötarvägen 49 2022-09-02         52        55  482      5   \n",
       "9         Krokvägen 127 2022-06-22         80        72  575      7   \n",
       "10       Amatörvägen 21 2022-10-21         82        47  338      5   \n",
       "\n",
       "    assignment askingPrice  soldPrice  \n",
       "0     Tomträtt     5750000    5750000  \n",
       "1   Äganderätt     8495000    8500000  \n",
       "2   Äganderätt     8750000    9500000  \n",
       "3     Tomträtt     8750000    8150000  \n",
       "4   Äganderätt     9500000    9500000  \n",
       "6   Äganderätt     6995000    8625000  \n",
       "7   Äganderätt     7000000    7000000  \n",
       "8   Äganderätt     7350000    7350000  \n",
       "9   Äganderätt     9975000    9935000  \n",
       "10  Äganderätt     7950000    7950000  "
      ]
     },
     "execution_count": 204,
     "metadata": {},
     "output_type": "execute_result"
    }
   ],
   "source": [
    "tallkrogen_sold_prices_df.head(10)"
   ]
  },
  {
   "cell_type": "code",
   "execution_count": 205,
   "metadata": {},
   "outputs": [
    {
     "data": {
      "text/plain": [
       "0     2022-10-28\n",
       "1     2022-10-03\n",
       "2     2022-09-22\n",
       "3     2022-10-14\n",
       "4     2022-08-30\n",
       "         ...    \n",
       "245   2016-09-08\n",
       "246   2016-06-17\n",
       "247   2015-06-11\n",
       "248   2015-06-11\n",
       "249   2016-03-07\n",
       "Name: soldDate, Length: 239, dtype: datetime64[ns]"
      ]
     },
     "execution_count": 205,
     "metadata": {},
     "output_type": "execute_result"
    }
   ],
   "source": [
    "tallkrogen_sold_prices_df[\"soldDate\"]"
   ]
  },
  {
   "cell_type": "markdown",
   "metadata": {},
   "source": [
    "### Assingment attribute is either Äganderätt or Tomträtt. As this are categorical datum, we label this numerically,  with Äganderätt being 1 and Tomträtt being 0. This is added in a new attribute named assignment_num"
   ]
  },
  {
   "cell_type": "code",
   "execution_count": 206,
   "metadata": {},
   "outputs": [
    {
     "data": {
      "text/html": [
       "<div>\n",
       "<style scoped>\n",
       "    .dataframe tbody tr th:only-of-type {\n",
       "        vertical-align: middle;\n",
       "    }\n",
       "\n",
       "    .dataframe tbody tr th {\n",
       "        vertical-align: top;\n",
       "    }\n",
       "\n",
       "    .dataframe thead th {\n",
       "        text-align: right;\n",
       "    }\n",
       "</style>\n",
       "<table border=\"1\" class=\"dataframe\">\n",
       "  <thead>\n",
       "    <tr style=\"text-align: right;\">\n",
       "      <th></th>\n",
       "      <th>address</th>\n",
       "      <th>soldDate</th>\n",
       "      <th>livingArea</th>\n",
       "      <th>extraArea</th>\n",
       "      <th>land</th>\n",
       "      <th>rooms</th>\n",
       "      <th>assignment</th>\n",
       "      <th>askingPrice</th>\n",
       "      <th>soldPrice</th>\n",
       "      <th>assignment_num</th>\n",
       "    </tr>\n",
       "  </thead>\n",
       "  <tbody>\n",
       "    <tr>\n",
       "      <th>0</th>\n",
       "      <td>Hammerstavägen 123</td>\n",
       "      <td>2022-10-28</td>\n",
       "      <td>65</td>\n",
       "      <td>63</td>\n",
       "      <td>524</td>\n",
       "      <td>4</td>\n",
       "      <td>Tomträtt</td>\n",
       "      <td>5750000</td>\n",
       "      <td>5750000</td>\n",
       "      <td>0</td>\n",
       "    </tr>\n",
       "    <tr>\n",
       "      <th>1</th>\n",
       "      <td>VictorBalcksväg 148</td>\n",
       "      <td>2022-10-03</td>\n",
       "      <td>85</td>\n",
       "      <td>78</td>\n",
       "      <td>430</td>\n",
       "      <td>7</td>\n",
       "      <td>Äganderätt</td>\n",
       "      <td>8495000</td>\n",
       "      <td>8500000</td>\n",
       "      <td>1</td>\n",
       "    </tr>\n",
       "    <tr>\n",
       "      <th>2</th>\n",
       "      <td>Fasanvägen 12</td>\n",
       "      <td>2022-09-22</td>\n",
       "      <td>97</td>\n",
       "      <td>95</td>\n",
       "      <td>502</td>\n",
       "      <td>6</td>\n",
       "      <td>Äganderätt</td>\n",
       "      <td>8750000</td>\n",
       "      <td>9500000</td>\n",
       "      <td>1</td>\n",
       "    </tr>\n",
       "    <tr>\n",
       "      <th>3</th>\n",
       "      <td>Amatörvägen 50</td>\n",
       "      <td>2022-10-14</td>\n",
       "      <td>82</td>\n",
       "      <td>87</td>\n",
       "      <td>468</td>\n",
       "      <td>6</td>\n",
       "      <td>Tomträtt</td>\n",
       "      <td>8750000</td>\n",
       "      <td>8150000</td>\n",
       "      <td>0</td>\n",
       "    </tr>\n",
       "    <tr>\n",
       "      <th>4</th>\n",
       "      <td>Häringevägen 3</td>\n",
       "      <td>2022-08-30</td>\n",
       "      <td>66</td>\n",
       "      <td>63</td>\n",
       "      <td>448</td>\n",
       "      <td>6</td>\n",
       "      <td>Äganderätt</td>\n",
       "      <td>9500000</td>\n",
       "      <td>9500000</td>\n",
       "      <td>1</td>\n",
       "    </tr>\n",
       "  </tbody>\n",
       "</table>\n",
       "</div>"
      ],
      "text/plain": [
       "               address   soldDate livingArea extraArea land  rooms  \\\n",
       "0   Hammerstavägen 123 2022-10-28         65        63  524      4   \n",
       "1  VictorBalcksväg 148 2022-10-03         85        78  430      7   \n",
       "2        Fasanvägen 12 2022-09-22         97        95  502      6   \n",
       "3       Amatörvägen 50 2022-10-14         82        87  468      6   \n",
       "4       Häringevägen 3 2022-08-30         66        63  448      6   \n",
       "\n",
       "   assignment askingPrice  soldPrice  assignment_num  \n",
       "0    Tomträtt     5750000    5750000               0  \n",
       "1  Äganderätt     8495000    8500000               1  \n",
       "2  Äganderätt     8750000    9500000               1  \n",
       "3    Tomträtt     8750000    8150000               0  \n",
       "4  Äganderätt     9500000    9500000               1  "
      ]
     },
     "execution_count": 206,
     "metadata": {},
     "output_type": "execute_result"
    }
   ],
   "source": [
    "assignment_dict = {\"Äganderätt\": 1, \"Tomträtt\": 0}\n",
    "tallkrogen_sold_prices_df['assignment_num'] = tallkrogen_sold_prices_df['assignment']\n",
    "tallkrogen_sold_prices_df['assignment_num'].replace(assignment_dict, inplace=True)\n",
    "\n",
    "\n",
    "tallkrogen_sold_prices_df.head()"
   ]
  },
  {
   "cell_type": "markdown",
   "metadata": {},
   "source": [
    "### Scatter plot of sold date and price\n",
    "We can clearly see a linear link between sold date and price"
   ]
  },
  {
   "cell_type": "code",
   "execution_count": 208,
   "metadata": {},
   "outputs": [
    {
     "data": {
      "image/png": "[encoded data removed]",
      "text/plain": [
       "<Figure size 1080x720 with 1 Axes>"
      ]
     },
     "metadata": {
      "needs_background": "light"
     },
     "output_type": "display_data"
    }
   ],
   "source": [
    "plt.subplots(figsize=(15,10))\n",
    "plt.scatter(tallkrogen_sold_prices_df['soldDate'], tallkrogen_sold_prices_df['soldPrice'])\n",
    "plt.xlabel(\"Sold Date\")\n",
    "plt.ylabel(\"Sold Price\")\n",
    "plt.show()"
   ]
  },
  {
   "cell_type": "markdown",
   "metadata": {},
   "source": [
    "### Creating a new attribute price per sq meter, which is sold price divided by living area and extra area."
   ]
  },
  {
   "cell_type": "code",
   "execution_count": 209,
   "metadata": {},
   "outputs": [],
   "source": [
    "tallkrogen_sold_prices_df[\"price_per_sq_meter\"] = tallkrogen_sold_prices_df[\"soldPrice\"].astype(int) / (tallkrogen_sold_prices_df[\"livingArea\"].astype(int) + (tallkrogen_sold_prices_df[\"extraArea\"].astype(int)))"
   ]
  },
  {
   "cell_type": "code",
   "execution_count": 210,
   "metadata": {},
   "outputs": [
    {
     "data": {
      "text/plain": [
       "0      5750000\n",
       "1      8500000\n",
       "2      9500000\n",
       "3      8150000\n",
       "4      9500000\n",
       "        ...   \n",
       "245    6650000\n",
       "246    6420000\n",
       "247    7000000\n",
       "248    6700000\n",
       "249    6250000\n",
       "Name: soldPrice, Length: 239, dtype: int64"
      ]
     },
     "execution_count": 210,
     "metadata": {},
     "output_type": "execute_result"
    }
   ],
   "source": [
    "tallkrogen_sold_prices_df[\"soldPrice\"].astype(int)"
   ]
  },
  {
   "cell_type": "code",
   "execution_count": 212,
   "metadata": {},
   "outputs": [
    {
     "data": {
      "text/html": [
       "<div>\n",
       "<style scoped>\n",
       "    .dataframe tbody tr th:only-of-type {\n",
       "        vertical-align: middle;\n",
       "    }\n",
       "\n",
       "    .dataframe tbody tr th {\n",
       "        vertical-align: top;\n",
       "    }\n",
       "\n",
       "    .dataframe thead th {\n",
       "        text-align: right;\n",
       "    }\n",
       "</style>\n",
       "<table border=\"1\" class=\"dataframe\">\n",
       "  <thead>\n",
       "    <tr style=\"text-align: right;\">\n",
       "      <th></th>\n",
       "      <th>address</th>\n",
       "      <th>soldDate</th>\n",
       "      <th>livingArea</th>\n",
       "      <th>extraArea</th>\n",
       "      <th>land</th>\n",
       "      <th>rooms</th>\n",
       "      <th>assignment</th>\n",
       "      <th>askingPrice</th>\n",
       "      <th>soldPrice</th>\n",
       "      <th>assignment_num</th>\n",
       "      <th>price_per_sq_meter</th>\n",
       "    </tr>\n",
       "  </thead>\n",
       "  <tbody>\n",
       "    <tr>\n",
       "      <th>0</th>\n",
       "      <td>Hammerstavägen 123</td>\n",
       "      <td>2022-10-28</td>\n",
       "      <td>65</td>\n",
       "      <td>63</td>\n",
       "      <td>524</td>\n",
       "      <td>4</td>\n",
       "      <td>Tomträtt</td>\n",
       "      <td>5750000</td>\n",
       "      <td>5750000</td>\n",
       "      <td>0</td>\n",
       "      <td>44921.875000</td>\n",
       "    </tr>\n",
       "    <tr>\n",
       "      <th>1</th>\n",
       "      <td>VictorBalcksväg 148</td>\n",
       "      <td>2022-10-03</td>\n",
       "      <td>85</td>\n",
       "      <td>78</td>\n",
       "      <td>430</td>\n",
       "      <td>7</td>\n",
       "      <td>Äganderätt</td>\n",
       "      <td>8495000</td>\n",
       "      <td>8500000</td>\n",
       "      <td>1</td>\n",
       "      <td>52147.239264</td>\n",
       "    </tr>\n",
       "    <tr>\n",
       "      <th>2</th>\n",
       "      <td>Fasanvägen 12</td>\n",
       "      <td>2022-09-22</td>\n",
       "      <td>97</td>\n",
       "      <td>95</td>\n",
       "      <td>502</td>\n",
       "      <td>6</td>\n",
       "      <td>Äganderätt</td>\n",
       "      <td>8750000</td>\n",
       "      <td>9500000</td>\n",
       "      <td>1</td>\n",
       "      <td>49479.166667</td>\n",
       "    </tr>\n",
       "    <tr>\n",
       "      <th>3</th>\n",
       "      <td>Amatörvägen 50</td>\n",
       "      <td>2022-10-14</td>\n",
       "      <td>82</td>\n",
       "      <td>87</td>\n",
       "      <td>468</td>\n",
       "      <td>6</td>\n",
       "      <td>Tomträtt</td>\n",
       "      <td>8750000</td>\n",
       "      <td>8150000</td>\n",
       "      <td>0</td>\n",
       "      <td>48224.852071</td>\n",
       "    </tr>\n",
       "    <tr>\n",
       "      <th>4</th>\n",
       "      <td>Häringevägen 3</td>\n",
       "      <td>2022-08-30</td>\n",
       "      <td>66</td>\n",
       "      <td>63</td>\n",
       "      <td>448</td>\n",
       "      <td>6</td>\n",
       "      <td>Äganderätt</td>\n",
       "      <td>9500000</td>\n",
       "      <td>9500000</td>\n",
       "      <td>1</td>\n",
       "      <td>73643.410853</td>\n",
       "    </tr>\n",
       "  </tbody>\n",
       "</table>\n",
       "</div>"
      ],
      "text/plain": [
       "               address   soldDate livingArea extraArea land  rooms  \\\n",
       "0   Hammerstavägen 123 2022-10-28         65        63  524      4   \n",
       "1  VictorBalcksväg 148 2022-10-03         85        78  430      7   \n",
       "2        Fasanvägen 12 2022-09-22         97        95  502      6   \n",
       "3       Amatörvägen 50 2022-10-14         82        87  468      6   \n",
       "4       Häringevägen 3 2022-08-30         66        63  448      6   \n",
       "\n",
       "   assignment askingPrice  soldPrice  assignment_num  price_per_sq_meter  \n",
       "0    Tomträtt     5750000    5750000               0        44921.875000  \n",
       "1  Äganderätt     8495000    8500000               1        52147.239264  \n",
       "2  Äganderätt     8750000    9500000               1        49479.166667  \n",
       "3    Tomträtt     8750000    8150000               0        48224.852071  \n",
       "4  Äganderätt     9500000    9500000               1        73643.410853  "
      ]
     },
     "execution_count": 212,
     "metadata": {},
     "output_type": "execute_result"
    }
   ],
   "source": [
    "tallkrogen_sold_prices_df.head()"
   ]
  },
  {
   "cell_type": "code",
   "execution_count": 213,
   "metadata": {},
   "outputs": [],
   "source": [
    "tallkrogen_sold_prices_df[\"askingPrice\"] = tallkrogen_sold_prices_df[\"askingPrice\"].astype(int)"
   ]
  },
  {
   "cell_type": "code",
   "execution_count": 214,
   "metadata": {},
   "outputs": [
    {
     "data": {
      "text/html": [
       "<div>\n",
       "<style scoped>\n",
       "    .dataframe tbody tr th:only-of-type {\n",
       "        vertical-align: middle;\n",
       "    }\n",
       "\n",
       "    .dataframe tbody tr th {\n",
       "        vertical-align: top;\n",
       "    }\n",
       "\n",
       "    .dataframe thead th {\n",
       "        text-align: right;\n",
       "    }\n",
       "</style>\n",
       "<table border=\"1\" class=\"dataframe\">\n",
       "  <thead>\n",
       "    <tr style=\"text-align: right;\">\n",
       "      <th></th>\n",
       "      <th>address</th>\n",
       "      <th>soldDate</th>\n",
       "      <th>livingArea</th>\n",
       "      <th>extraArea</th>\n",
       "      <th>land</th>\n",
       "      <th>rooms</th>\n",
       "      <th>assignment</th>\n",
       "      <th>askingPrice</th>\n",
       "      <th>soldPrice</th>\n",
       "      <th>assignment_num</th>\n",
       "      <th>price_per_sq_meter</th>\n",
       "    </tr>\n",
       "  </thead>\n",
       "  <tbody>\n",
       "    <tr>\n",
       "      <th>3</th>\n",
       "      <td>Amatörvägen 50</td>\n",
       "      <td>2022-10-14</td>\n",
       "      <td>82</td>\n",
       "      <td>87</td>\n",
       "      <td>468</td>\n",
       "      <td>6</td>\n",
       "      <td>Tomträtt</td>\n",
       "      <td>8750000</td>\n",
       "      <td>8150000</td>\n",
       "      <td>0</td>\n",
       "      <td>48224.852071</td>\n",
       "    </tr>\n",
       "    <tr>\n",
       "      <th>9</th>\n",
       "      <td>Krokvägen 127</td>\n",
       "      <td>2022-06-22</td>\n",
       "      <td>80</td>\n",
       "      <td>72</td>\n",
       "      <td>575</td>\n",
       "      <td>7</td>\n",
       "      <td>Äganderätt</td>\n",
       "      <td>9975000</td>\n",
       "      <td>9935000</td>\n",
       "      <td>1</td>\n",
       "      <td>65361.842105</td>\n",
       "    </tr>\n",
       "    <tr>\n",
       "      <th>12</th>\n",
       "      <td>Maratonvägen 22</td>\n",
       "      <td>2021-08-12</td>\n",
       "      <td>66</td>\n",
       "      <td>66</td>\n",
       "      <td>537</td>\n",
       "      <td>6</td>\n",
       "      <td>Äganderätt</td>\n",
       "      <td>8750000</td>\n",
       "      <td>8300000</td>\n",
       "      <td>1</td>\n",
       "      <td>62878.787879</td>\n",
       "    </tr>\n",
       "    <tr>\n",
       "      <th>24</th>\n",
       "      <td>Maratonvägen 22</td>\n",
       "      <td>2018-06-13</td>\n",
       "      <td>67</td>\n",
       "      <td>59</td>\n",
       "      <td>537</td>\n",
       "      <td>6</td>\n",
       "      <td>Äganderätt</td>\n",
       "      <td>5200000</td>\n",
       "      <td>4600000</td>\n",
       "      <td>1</td>\n",
       "      <td>36507.936508</td>\n",
       "    </tr>\n",
       "    <tr>\n",
       "      <th>60</th>\n",
       "      <td>Polovägen 22</td>\n",
       "      <td>2018-05-30</td>\n",
       "      <td>95</td>\n",
       "      <td>80</td>\n",
       "      <td>508</td>\n",
       "      <td>6</td>\n",
       "      <td>Äganderätt</td>\n",
       "      <td>6875000</td>\n",
       "      <td>6800000</td>\n",
       "      <td>1</td>\n",
       "      <td>38857.142857</td>\n",
       "    </tr>\n",
       "    <tr>\n",
       "      <th>64</th>\n",
       "      <td>Fasanvägen 7</td>\n",
       "      <td>2019-03-19</td>\n",
       "      <td>65</td>\n",
       "      <td>62</td>\n",
       "      <td>602</td>\n",
       "      <td>4</td>\n",
       "      <td>Äganderätt</td>\n",
       "      <td>5495000</td>\n",
       "      <td>5230000</td>\n",
       "      <td>1</td>\n",
       "      <td>41181.102362</td>\n",
       "    </tr>\n",
       "    <tr>\n",
       "      <th>65</th>\n",
       "      <td>Mörkövägen 50</td>\n",
       "      <td>2022-05-09</td>\n",
       "      <td>69</td>\n",
       "      <td>67</td>\n",
       "      <td>599</td>\n",
       "      <td>4</td>\n",
       "      <td>Tomträtt</td>\n",
       "      <td>8295000</td>\n",
       "      <td>6950000</td>\n",
       "      <td>0</td>\n",
       "      <td>51102.941176</td>\n",
       "    </tr>\n",
       "    <tr>\n",
       "      <th>94</th>\n",
       "      <td>Maratonvägen 43</td>\n",
       "      <td>2013-09-20</td>\n",
       "      <td>95</td>\n",
       "      <td>48</td>\n",
       "      <td>501</td>\n",
       "      <td>4</td>\n",
       "      <td>Äganderätt</td>\n",
       "      <td>5500000</td>\n",
       "      <td>5400000</td>\n",
       "      <td>1</td>\n",
       "      <td>37762.237762</td>\n",
       "    </tr>\n",
       "    <tr>\n",
       "      <th>102</th>\n",
       "      <td>Polovägen 21</td>\n",
       "      <td>2014-02-19</td>\n",
       "      <td>86</td>\n",
       "      <td>84</td>\n",
       "      <td>490</td>\n",
       "      <td>4</td>\n",
       "      <td>Äganderätt</td>\n",
       "      <td>5350000</td>\n",
       "      <td>5300000</td>\n",
       "      <td>1</td>\n",
       "      <td>31176.470588</td>\n",
       "    </tr>\n",
       "    <tr>\n",
       "      <th>105</th>\n",
       "      <td>Lingvägen 68</td>\n",
       "      <td>2013-04-09</td>\n",
       "      <td>69</td>\n",
       "      <td>69</td>\n",
       "      <td>520</td>\n",
       "      <td>4</td>\n",
       "      <td>Äganderätt</td>\n",
       "      <td>3750000</td>\n",
       "      <td>3400000</td>\n",
       "      <td>1</td>\n",
       "      <td>24637.681159</td>\n",
       "    </tr>\n",
       "    <tr>\n",
       "      <th>122</th>\n",
       "      <td>Mörkövägen 70</td>\n",
       "      <td>2018-10-29</td>\n",
       "      <td>66</td>\n",
       "      <td>62</td>\n",
       "      <td>493</td>\n",
       "      <td>4</td>\n",
       "      <td>Äganderätt</td>\n",
       "      <td>5495000</td>\n",
       "      <td>5250000</td>\n",
       "      <td>1</td>\n",
       "      <td>41015.625000</td>\n",
       "    </tr>\n",
       "    <tr>\n",
       "      <th>176</th>\n",
       "      <td>Torögatan 69</td>\n",
       "      <td>2020-05-08</td>\n",
       "      <td>93</td>\n",
       "      <td>101</td>\n",
       "      <td>495</td>\n",
       "      <td>7</td>\n",
       "      <td>Tomträtt</td>\n",
       "      <td>6950000</td>\n",
       "      <td>6720000</td>\n",
       "      <td>0</td>\n",
       "      <td>34639.175258</td>\n",
       "    </tr>\n",
       "    <tr>\n",
       "      <th>190</th>\n",
       "      <td>Tallkrogsvägen 73</td>\n",
       "      <td>2019-11-09</td>\n",
       "      <td>65</td>\n",
       "      <td>65</td>\n",
       "      <td>551</td>\n",
       "      <td>5</td>\n",
       "      <td>Äganderätt</td>\n",
       "      <td>5750000</td>\n",
       "      <td>5510000</td>\n",
       "      <td>1</td>\n",
       "      <td>42384.615385</td>\n",
       "    </tr>\n",
       "    <tr>\n",
       "      <th>200</th>\n",
       "      <td>Olympiavägen 47</td>\n",
       "      <td>2017-09-12</td>\n",
       "      <td>51</td>\n",
       "      <td>51</td>\n",
       "      <td>326</td>\n",
       "      <td>4</td>\n",
       "      <td>Äganderätt</td>\n",
       "      <td>5400000</td>\n",
       "      <td>5300000</td>\n",
       "      <td>1</td>\n",
       "      <td>51960.784314</td>\n",
       "    </tr>\n",
       "    <tr>\n",
       "      <th>203</th>\n",
       "      <td>Lingvägen 57</td>\n",
       "      <td>2018-05-13</td>\n",
       "      <td>69</td>\n",
       "      <td>63</td>\n",
       "      <td>448</td>\n",
       "      <td>4</td>\n",
       "      <td>Äganderätt</td>\n",
       "      <td>5875000</td>\n",
       "      <td>5700000</td>\n",
       "      <td>1</td>\n",
       "      <td>43181.818182</td>\n",
       "    </tr>\n",
       "    <tr>\n",
       "      <th>217</th>\n",
       "      <td>Olympiavägen 127</td>\n",
       "      <td>2018-02-27</td>\n",
       "      <td>65</td>\n",
       "      <td>65</td>\n",
       "      <td>500</td>\n",
       "      <td>5</td>\n",
       "      <td>Äganderätt</td>\n",
       "      <td>6495000</td>\n",
       "      <td>6250000</td>\n",
       "      <td>1</td>\n",
       "      <td>48076.923077</td>\n",
       "    </tr>\n",
       "    <tr>\n",
       "      <th>218</th>\n",
       "      <td>Herrhagsvägen 90</td>\n",
       "      <td>2014-03-14</td>\n",
       "      <td>93</td>\n",
       "      <td>57</td>\n",
       "      <td>585</td>\n",
       "      <td>6</td>\n",
       "      <td>Äganderätt</td>\n",
       "      <td>5475000</td>\n",
       "      <td>5000000</td>\n",
       "      <td>1</td>\n",
       "      <td>33333.333333</td>\n",
       "    </tr>\n",
       "    <tr>\n",
       "      <th>220</th>\n",
       "      <td>Tallkrogsvägen 57</td>\n",
       "      <td>2017-11-01</td>\n",
       "      <td>65</td>\n",
       "      <td>65</td>\n",
       "      <td>551</td>\n",
       "      <td>4</td>\n",
       "      <td>Äganderätt</td>\n",
       "      <td>5010000</td>\n",
       "      <td>4900000</td>\n",
       "      <td>1</td>\n",
       "      <td>37692.307692</td>\n",
       "    </tr>\n",
       "    <tr>\n",
       "      <th>230</th>\n",
       "      <td>Kulstötarvägen 45</td>\n",
       "      <td>2017-07-19</td>\n",
       "      <td>68</td>\n",
       "      <td>62</td>\n",
       "      <td>459</td>\n",
       "      <td>4</td>\n",
       "      <td>Äganderätt</td>\n",
       "      <td>6500000</td>\n",
       "      <td>6400000</td>\n",
       "      <td>1</td>\n",
       "      <td>49230.769231</td>\n",
       "    </tr>\n",
       "    <tr>\n",
       "      <th>232</th>\n",
       "      <td>Tallkrogsvägen 75</td>\n",
       "      <td>2017-12-05</td>\n",
       "      <td>102</td>\n",
       "      <td>111</td>\n",
       "      <td>551</td>\n",
       "      <td>6</td>\n",
       "      <td>Äganderätt</td>\n",
       "      <td>7500000</td>\n",
       "      <td>7350000</td>\n",
       "      <td>1</td>\n",
       "      <td>34507.042254</td>\n",
       "    </tr>\n",
       "    <tr>\n",
       "      <th>244</th>\n",
       "      <td>Lemmingsväg 23</td>\n",
       "      <td>2015-09-09</td>\n",
       "      <td>67</td>\n",
       "      <td>60</td>\n",
       "      <td>582</td>\n",
       "      <td>6</td>\n",
       "      <td>Äganderätt</td>\n",
       "      <td>4975000</td>\n",
       "      <td>4800000</td>\n",
       "      <td>1</td>\n",
       "      <td>37795.275591</td>\n",
       "    </tr>\n",
       "  </tbody>\n",
       "</table>\n",
       "</div>"
      ],
      "text/plain": [
       "               address   soldDate livingArea extraArea land  rooms  \\\n",
       "3       Amatörvägen 50 2022-10-14         82        87  468      6   \n",
       "9        Krokvägen 127 2022-06-22         80        72  575      7   \n",
       "12     Maratonvägen 22 2021-08-12         66        66  537      6   \n",
       "24     Maratonvägen 22 2018-06-13         67        59  537      6   \n",
       "60        Polovägen 22 2018-05-30         95        80  508      6   \n",
       "64        Fasanvägen 7 2019-03-19         65        62  602      4   \n",
       "65       Mörkövägen 50 2022-05-09         69        67  599      4   \n",
       "94     Maratonvägen 43 2013-09-20         95        48  501      4   \n",
       "102       Polovägen 21 2014-02-19         86        84  490      4   \n",
       "105       Lingvägen 68 2013-04-09         69        69  520      4   \n",
       "122      Mörkövägen 70 2018-10-29         66        62  493      4   \n",
       "176       Torögatan 69 2020-05-08         93       101  495      7   \n",
       "190  Tallkrogsvägen 73 2019-11-09         65        65  551      5   \n",
       "200    Olympiavägen 47 2017-09-12         51        51  326      4   \n",
       "203       Lingvägen 57 2018-05-13         69        63  448      4   \n",
       "217   Olympiavägen 127 2018-02-27         65        65  500      5   \n",
       "218   Herrhagsvägen 90 2014-03-14         93        57  585      6   \n",
       "220  Tallkrogsvägen 57 2017-11-01         65        65  551      4   \n",
       "230  Kulstötarvägen 45 2017-07-19         68        62  459      4   \n",
       "232  Tallkrogsvägen 75 2017-12-05        102       111  551      6   \n",
       "244     Lemmingsväg 23 2015-09-09         67        60  582      6   \n",
       "\n",
       "     assignment  askingPrice  soldPrice  assignment_num  price_per_sq_meter  \n",
       "3      Tomträtt      8750000    8150000               0        48224.852071  \n",
       "9    Äganderätt      9975000    9935000               1        65361.842105  \n",
       "12   Äganderätt      8750000    8300000               1        62878.787879  \n",
       "24   Äganderätt      5200000    4600000               1        36507.936508  \n",
       "60   Äganderätt      6875000    6800000               1        38857.142857  \n",
       "64   Äganderätt      5495000    5230000               1        41181.102362  \n",
       "65     Tomträtt      8295000    6950000               0        51102.941176  \n",
       "94   Äganderätt      5500000    5400000               1        37762.237762  \n",
       "102  Äganderätt      5350000    5300000               1        31176.470588  \n",
       "105  Äganderätt      3750000    3400000               1        24637.681159  \n",
       "122  Äganderätt      5495000    5250000               1        41015.625000  \n",
       "176    Tomträtt      6950000    6720000               0        34639.175258  \n",
       "190  Äganderätt      5750000    5510000               1        42384.615385  \n",
       "200  Äganderätt      5400000    5300000               1        51960.784314  \n",
       "203  Äganderätt      5875000    5700000               1        43181.818182  \n",
       "217  Äganderätt      6495000    6250000               1        48076.923077  \n",
       "218  Äganderätt      5475000    5000000               1        33333.333333  \n",
       "220  Äganderätt      5010000    4900000               1        37692.307692  \n",
       "230  Äganderätt      6500000    6400000               1        49230.769231  \n",
       "232  Äganderätt      7500000    7350000               1        34507.042254  \n",
       "244  Äganderätt      4975000    4800000               1        37795.275591  "
      ]
     },
     "execution_count": 214,
     "metadata": {},
     "output_type": "execute_result"
    }
   ],
   "source": [
    "tallkrogen_sold_prices_df[tallkrogen_sold_prices_df[\"soldPrice\"] < tallkrogen_sold_prices_df[\"askingPrice\"]]"
   ]
  },
  {
   "cell_type": "markdown",
   "metadata": {},
   "source": [
    "### Scatter plot of sold date and price per sq meter\n",
    "We can clearly see a linear regression between sold date and price per sq meter"
   ]
  },
  {
   "cell_type": "code",
   "execution_count": 215,
   "metadata": {},
   "outputs": [
    {
     "data": {
      "text/plain": [
       "Text(0, 0.5, 'price_per_sq_meter')"
      ]
     },
     "execution_count": 215,
     "metadata": {},
     "output_type": "execute_result"
    },
    {
     "data": {
      "image/png": "[encoded data removed]",
      "text/plain": [
       "<Figure size 1200x800 with 1 Axes>"
      ]
     },
     "metadata": {
      "needs_background": "light"
     },
     "output_type": "display_data"
    }
   ],
   "source": [
    "plt.figure(figsize=(15,10), dpi=80)\n",
    "plt.scatter(x=tallkrogen_sold_prices_df[\"soldDate\"], y=tallkrogen_sold_prices_df[\"price_per_sq_meter\"])\n",
    "plt.xlabel(\"sold Date\")\n",
    "plt.ylabel(\"price_per_sq_meter\")"
   ]
  },
  {
   "cell_type": "markdown",
   "metadata": {},
   "source": [
    "### Adding new attribute of sold year so it can be used to create models"
   ]
  },
  {
   "cell_type": "code",
   "execution_count": 105,
   "metadata": {},
   "outputs": [],
   "source": [
    "tallkrogen_sold_prices_df[\"soldYear\"] = tallkrogen_sold_prices_df[\"soldDate\"].dt.year\n"
   ]
  },
  {
   "cell_type": "markdown",
   "metadata": {},
   "source": [
    "## Regression Models"
   ]
  },
  {
   "cell_type": "markdown",
   "metadata": {},
   "source": [
    "### Helper function to build and train models "
   ]
  },
  {
   "cell_type": "code",
   "execution_count": 113,
   "metadata": {},
   "outputs": [],
   "source": [
    "def build_and_train_model(data, target_name, unreq_cols, fn):\n",
    "    \n",
    "    drop_cols = [target_name, *unreq_cols] \n",
    "    \n",
    "    X = data.drop(drop_cols, axis=1)\n",
    "    Y = data[target_name]\n",
    "    \n",
    "    x_train, x_test, y_train, y_test = \\\n",
    "        train_test_split(X, Y, test_size = 0.2, random_state=0)\n",
    "\n",
    "    model = fn(x_train, y_train)\n",
    "    \n",
    "    score = model.score(x_train, y_train)\n",
    "    print(\"Training Score : \", score)\n",
    "\n",
    "    y_pred = model.predict(x_test)\n",
    "    r_score = r2_score(y_test, y_pred)\n",
    "    print(\"Testing Score : \", r_score)\n",
    "    \n",
    "    return {'model' : model, \n",
    "            'x_train' : x_train, 'x_test' : x_test,\n",
    "            'y_train' : y_train, 'y_test' : y_test, \n",
    "            'y_pred' : y_pred\n",
    "           }"
   ]
  },
  {
   "cell_type": "markdown",
   "metadata": {},
   "source": [
    "### Linear Regression"
   ]
  },
  {
   "cell_type": "code",
   "execution_count": 118,
   "metadata": {},
   "outputs": [],
   "source": [
    "def linear_model(x_train, y_train):\n",
    "    \n",
    "    print(\"Linear Regression\")\n",
    "    linear_regression = LinearRegression()\n",
    "    linear_regression.fit(x_train, y_train)\n",
    "    \n",
    "    return linear_regression"
   ]
  },
  {
   "cell_type": "code",
   "execution_count": 119,
   "metadata": {},
   "outputs": [
    {
     "name": "stdout",
     "output_type": "stream",
     "text": [
      "Linear Regression\n",
      "Training Score :  0.9515554687935153\n",
      "Testing Score :  0.9643887040176726\n"
     ]
    }
   ],
   "source": [
    "linear_reg = build_and_train_model(tallkrogen_sold_prices_df, \"soldPrice\", [\"address\", \"soldDate\", \"assignment\", \"askingPrice\"], linear_model)"
   ]
  },
  {
   "cell_type": "markdown",
   "metadata": {},
   "source": [
    "### Lasso Regression\n"
   ]
  },
  {
   "cell_type": "code",
   "execution_count": 120,
   "metadata": {},
   "outputs": [],
   "source": [
    "def lasso_model(x_train, y_train):\n",
    "    \n",
    "    print(\"Lasso Regression\")\n",
    "    lasso_regression = Lasso(alpha=0.8, max_iter=10000)\n",
    "    \n",
    "    lasso_regression.fit(x_train, y_train)\n",
    "    \n",
    "    return lasso_regression"
   ]
  },
  {
   "cell_type": "code",
   "execution_count": 121,
   "metadata": {},
   "outputs": [
    {
     "name": "stdout",
     "output_type": "stream",
     "text": [
      "Lasso Regression\n",
      "Training Score :  0.951555468788707\n",
      "Testing Score :  0.9643887655606616\n"
     ]
    }
   ],
   "source": [
    "lasso_reg = build_and_train_model(tallkrogen_sold_prices_df, \"soldPrice\", [\"address\", \"soldDate\", \"assignment\", \"askingPrice\"], lasso_model)"
   ]
  },
  {
   "cell_type": "markdown",
   "metadata": {},
   "source": [
    "### Ridge Regression\n"
   ]
  },
  {
   "cell_type": "code",
   "execution_count": 122,
   "metadata": {},
   "outputs": [],
   "source": [
    "def ridge_model(x_train, y_train):\n",
    "    \n",
    "    print(\"Ridge Regression\")\n",
    "    ridge_regression = Ridge(alpha=0.9)\n",
    "    \n",
    "    ridge_regression.fit(x_train, y_train)\n",
    "    \n",
    "    return ridge_regression"
   ]
  },
  {
   "cell_type": "code",
   "execution_count": 123,
   "metadata": {},
   "outputs": [
    {
     "name": "stdout",
     "output_type": "stream",
     "text": [
      "Ridge Regression\n",
      "Training Score :  0.9515554140140451\n",
      "Testing Score :  0.9643894393024477\n"
     ]
    }
   ],
   "source": [
    "ridge_reg = build_and_train_model(tallkrogen_sold_prices_df, \"soldPrice\", [\"address\", \"soldDate\", \"assignment\", \"askingPrice\"], ridge_model)"
   ]
  },
  {
   "cell_type": "markdown",
   "metadata": {},
   "source": [
    "### Random Forest Regression\n"
   ]
  },
  {
   "cell_type": "code",
   "execution_count": 124,
   "metadata": {},
   "outputs": [],
   "source": [
    "def random_forest_model(x_train, y_train):\n",
    "    \n",
    "    print(\"Random Forest Regression\")\n",
    "    randon_forest_regression = RandomForestRegressor(max_depth=2, random_state=0)\n",
    "    \n",
    "    randon_forest_regression.fit(x_train, y_train)\n",
    "    \n",
    "    return randon_forest_regression\n"
   ]
  },
  {
   "cell_type": "code",
   "execution_count": 125,
   "metadata": {},
   "outputs": [
    {
     "name": "stdout",
     "output_type": "stream",
     "text": [
      "Random Forest Regression\n",
      "Training Score :  0.6347356226670726\n",
      "Testing Score :  0.5092901620153087\n"
     ]
    }
   ],
   "source": [
    "random_forest_reg = build_and_train_model(tallkrogen_sold_prices_df, \"soldPrice\", [\"address\", \"soldDate\", \"assignment\", \"askingPrice\"], random_forest_model)"
   ]
  },
  {
   "cell_type": "markdown",
   "metadata": {},
   "source": [
    "###  Stochastic Gradient Descent Regression"
   ]
  },
  {
   "cell_type": "code",
   "execution_count": 229,
   "metadata": {},
   "outputs": [],
   "source": [
    "def sgd_model(x_train, y_train):\n",
    "    \n",
    "    print(\"SGD Regression\")\n",
    "    sgd_regression = SGDRegressor(max_iter=3000)\n",
    "    \n",
    "    sgd_regression.fit(x_train, y_train)\n",
    "    \n",
    "    return sgd_regression"
   ]
  },
  {
   "cell_type": "code",
   "execution_count": 230,
   "metadata": {},
   "outputs": [
    {
     "name": "stdout",
     "output_type": "stream",
     "text": [
      "SGD Regression\n",
      "Training Score :  -6.0639297488359166e+22\n",
      "Testing Score :  -4.6633753494737436e+22\n"
     ]
    }
   ],
   "source": [
    "sgd_reg = build_and_train_model(tallkrogen_sold_prices_df, \"soldPrice\", [\"address\", \"soldDate\", \"assignment\", \"askingPrice\"], sgd_model)"
   ]
  },
  {
   "cell_type": "markdown",
   "metadata": {},
   "source": [
    "## Read in the for sale properties into dataframe"
   ]
  },
  {
   "cell_type": "code",
   "execution_count": 242,
   "metadata": {},
   "outputs": [],
   "source": [
    "tallkrogen_for_sale_df = pd.read_json(\"../data/forSaleData.json\", dtype={\n",
    "    'address': \"string\",\n",
    "    'livingArea': int,\n",
    "    'extraArea': int,\n",
    "    'land': int,\n",
    "    'rooms': int,\n",
    "    'houseType': \"string\",\n",
    "    'assignment_num': int,\n",
    "    'askingPrice': int,\n",
    "    'forSaleYear': int\n",
    "})"
   ]
  },
  {
   "cell_type": "code",
   "execution_count": 243,
   "metadata": {},
   "outputs": [
    {
     "data": {
      "text/html": [
       "<div>\n",
       "<style scoped>\n",
       "    .dataframe tbody tr th:only-of-type {\n",
       "        vertical-align: middle;\n",
       "    }\n",
       "\n",
       "    .dataframe tbody tr th {\n",
       "        vertical-align: top;\n",
       "    }\n",
       "\n",
       "    .dataframe thead th {\n",
       "        text-align: right;\n",
       "    }\n",
       "</style>\n",
       "<table border=\"1\" class=\"dataframe\">\n",
       "  <thead>\n",
       "    <tr style=\"text-align: right;\">\n",
       "      <th></th>\n",
       "      <th>address</th>\n",
       "      <th>livingArea</th>\n",
       "      <th>extraArea</th>\n",
       "      <th>land</th>\n",
       "      <th>rooms</th>\n",
       "      <th>houseType</th>\n",
       "      <th>assignment</th>\n",
       "      <th>askingPrice</th>\n",
       "      <th>forSaleYear</th>\n",
       "    </tr>\n",
       "  </thead>\n",
       "  <tbody>\n",
       "    <tr>\n",
       "      <th>0</th>\n",
       "      <td>Rörsoppsvägen 32</td>\n",
       "      <td>107</td>\n",
       "      <td>107</td>\n",
       "      <td>554</td>\n",
       "      <td>6</td>\n",
       "      <td>Villa</td>\n",
       "      <td>Äganderätt</td>\n",
       "      <td>8995000</td>\n",
       "      <td>2022</td>\n",
       "    </tr>\n",
       "    <tr>\n",
       "      <th>1</th>\n",
       "      <td>Mörkövägen 70</td>\n",
       "      <td>66</td>\n",
       "      <td>62</td>\n",
       "      <td>493</td>\n",
       "      <td>5</td>\n",
       "      <td>Villa</td>\n",
       "      <td>Äganderätt</td>\n",
       "      <td>7300000</td>\n",
       "      <td>2022</td>\n",
       "    </tr>\n",
       "  </tbody>\n",
       "</table>\n",
       "</div>"
      ],
      "text/plain": [
       "            address  livingArea  extraArea  land  rooms houseType  assignment  \\\n",
       "0  Rörsoppsvägen 32         107        107   554      6     Villa  Äganderätt   \n",
       "1     Mörkövägen 70          66         62   493      5     Villa  Äganderätt   \n",
       "\n",
       "   askingPrice  forSaleYear  \n",
       "0      8995000         2022  \n",
       "1      7300000         2022  "
      ]
     },
     "execution_count": 243,
     "metadata": {},
     "output_type": "execute_result"
    }
   ],
   "source": [
    "tallkrogen_for_sale_df.head()"
   ]
  },
  {
   "cell_type": "markdown",
   "metadata": {},
   "source": [
    "### Drop cols not needed and rearrange column order and add price per sq meter col to get ready to predict on"
   ]
  },
  {
   "cell_type": "code",
   "execution_count": 244,
   "metadata": {},
   "outputs": [],
   "source": [
    "tallkrogen_for_sale_predict_df = tallkrogen_for_sale_df.drop([\"address\", \"houseType\"], axis=1)"
   ]
  },
  {
   "cell_type": "code",
   "execution_count": 245,
   "metadata": {},
   "outputs": [],
   "source": [
    "tallkrogen_for_sale_predict_df[\"price_per_sq_meter\"] = tallkrogen_for_sale_predict_df[\"askingPrice\"].astype(int) / (tallkrogen_for_sale_predict_df[\"livingArea\"].astype(int) + (tallkrogen_for_sale_predict_df[\"extraArea\"].astype(int)))"
   ]
  },
  {
   "cell_type": "code",
   "execution_count": 246,
   "metadata": {},
   "outputs": [],
   "source": [
    "assignment_dict = {\"Äganderätt\": 1, \"Tomträtt\": 0}\n",
    "tallkrogen_for_sale_predict_df['assignment_num'] = tallkrogen_for_sale_predict_df['assignment']\n",
    "tallkrogen_for_sale_predict_df['assignment_num'].replace(assignment_dict, inplace=True)\n"
   ]
  },
  {
   "cell_type": "code",
   "execution_count": 247,
   "metadata": {},
   "outputs": [],
   "source": [
    "tallkrogen_for_sale_predict_df = tallkrogen_for_sale_predict_df[['livingArea', 'extraArea', 'land', 'rooms', 'assignment_num', 'price_per_sq_meter', 'forSaleYear']]"
   ]
  },
  {
   "cell_type": "code",
   "execution_count": 253,
   "metadata": {},
   "outputs": [
    {
     "data": {
      "text/html": [
       "<div>\n",
       "<style scoped>\n",
       "    .dataframe tbody tr th:only-of-type {\n",
       "        vertical-align: middle;\n",
       "    }\n",
       "\n",
       "    .dataframe tbody tr th {\n",
       "        vertical-align: top;\n",
       "    }\n",
       "\n",
       "    .dataframe thead th {\n",
       "        text-align: right;\n",
       "    }\n",
       "</style>\n",
       "<table border=\"1\" class=\"dataframe\">\n",
       "  <thead>\n",
       "    <tr style=\"text-align: right;\">\n",
       "      <th></th>\n",
       "      <th>livingArea</th>\n",
       "      <th>extraArea</th>\n",
       "      <th>land</th>\n",
       "      <th>rooms</th>\n",
       "      <th>assignment_num</th>\n",
       "      <th>price_per_sq_meter</th>\n",
       "      <th>forSaleYear</th>\n",
       "    </tr>\n",
       "  </thead>\n",
       "  <tbody>\n",
       "    <tr>\n",
       "      <th>0</th>\n",
       "      <td>107</td>\n",
       "      <td>107</td>\n",
       "      <td>554</td>\n",
       "      <td>6</td>\n",
       "      <td>1</td>\n",
       "      <td>42032.71028</td>\n",
       "      <td>2022</td>\n",
       "    </tr>\n",
       "    <tr>\n",
       "      <th>1</th>\n",
       "      <td>66</td>\n",
       "      <td>62</td>\n",
       "      <td>493</td>\n",
       "      <td>5</td>\n",
       "      <td>1</td>\n",
       "      <td>57031.25000</td>\n",
       "      <td>2022</td>\n",
       "    </tr>\n",
       "  </tbody>\n",
       "</table>\n",
       "</div>"
      ],
      "text/plain": [
       "   livingArea  extraArea  land  rooms  assignment_num  price_per_sq_meter  \\\n",
       "0         107        107   554      6               1         42032.71028   \n",
       "1          66         62   493      5               1         57031.25000   \n",
       "\n",
       "   forSaleYear  \n",
       "0         2022  \n",
       "1         2022  "
      ]
     },
     "execution_count": 253,
     "metadata": {},
     "output_type": "execute_result"
    }
   ],
   "source": [
    "tallkrogen_for_sale_predict_df"
   ]
  },
  {
   "cell_type": "markdown",
   "metadata": {},
   "source": [
    "## Predictions"
   ]
  },
  {
   "cell_type": "code",
   "execution_count": 287,
   "metadata": {},
   "outputs": [
    {
     "ename": "ValueError",
     "evalue": "matmul: Input operand 1 has a mismatch in its core dimension 0, with gufunc signature (n?,k),(k,m?)->(n?,m?) (size 7 is different from 8)",
     "output_type": "error",
     "traceback": [
      "\u001b[0;31m---------------------------------------------------------------------------\u001b[0m",
      "\u001b[0;31mValueError\u001b[0m                                Traceback (most recent call last)",
      "\u001b[0;32m<ipython-input-287-02a10ae9c421>\u001b[0m in \u001b[0;36m<module>\u001b[0;34m\u001b[0m\n\u001b[1;32m      2\u001b[0m \u001b[0;32mfor\u001b[0m \u001b[0mmodel\u001b[0m \u001b[0;32min\u001b[0m \u001b[0;34m[\u001b[0m\u001b[0;34m\"ridge\"\u001b[0m\u001b[0;34m,\u001b[0m\u001b[0;34m\"random_forest\"\u001b[0m\u001b[0;34m]\u001b[0m\u001b[0;34m:\u001b[0m\u001b[0;34m\u001b[0m\u001b[0;34m\u001b[0m\u001b[0m\n\u001b[1;32m      3\u001b[0m     \u001b[0;32mfor\u001b[0m \u001b[0mindex\u001b[0m\u001b[0;34m,\u001b[0m \u001b[0mrow\u001b[0m \u001b[0;32min\u001b[0m \u001b[0mtallkrogen_for_sale_predict_df\u001b[0m\u001b[0;34m.\u001b[0m\u001b[0miterrows\u001b[0m\u001b[0;34m(\u001b[0m\u001b[0;34m)\u001b[0m\u001b[0;34m:\u001b[0m\u001b[0;34m\u001b[0m\u001b[0;34m\u001b[0m\u001b[0m\n\u001b[0;32m----> 4\u001b[0;31m         \u001b[0mtallkrogen_for_sale_predict_df\u001b[0m\u001b[0;34m.\u001b[0m\u001b[0mloc\u001b[0m\u001b[0;34m[\u001b[0m\u001b[0mindex\u001b[0m\u001b[0;34m,\u001b[0m\u001b[0;34mf\"{model}_prediction\"\u001b[0m\u001b[0;34m]\u001b[0m \u001b[0;34m=\u001b[0m \u001b[0mint\u001b[0m\u001b[0;34m(\u001b[0m\u001b[0meval\u001b[0m\u001b[0;34m(\u001b[0m\u001b[0;34mf\"{model}_reg\"\u001b[0m\u001b[0;34m)\u001b[0m\u001b[0;34m[\u001b[0m\u001b[0;34m\"model\"\u001b[0m\u001b[0;34m]\u001b[0m\u001b[0;34m.\u001b[0m\u001b[0mpredict\u001b[0m\u001b[0;34m(\u001b[0m\u001b[0;34m[\u001b[0m\u001b[0mrow\u001b[0m\u001b[0;34m]\u001b[0m\u001b[0;34m)\u001b[0m\u001b[0;34m)\u001b[0m\u001b[0;34m\u001b[0m\u001b[0;34m\u001b[0m\u001b[0m\n\u001b[0m\u001b[1;32m      5\u001b[0m \u001b[0;34m\u001b[0m\u001b[0m\n\u001b[1;32m      6\u001b[0m \u001b[0;34m\u001b[0m\u001b[0m\n",
      "\u001b[0;32m~/opt/anaconda3/lib/python3.8/site-packages/sklearn/linear_model/_base.py\u001b[0m in \u001b[0;36mpredict\u001b[0;34m(self, X)\u001b[0m\n\u001b[1;32m    234\u001b[0m             \u001b[0mReturns\u001b[0m \u001b[0mpredicted\u001b[0m \u001b[0mvalues\u001b[0m\u001b[0;34m.\u001b[0m\u001b[0;34m\u001b[0m\u001b[0;34m\u001b[0m\u001b[0m\n\u001b[1;32m    235\u001b[0m         \"\"\"\n\u001b[0;32m--> 236\u001b[0;31m         \u001b[0;32mreturn\u001b[0m \u001b[0mself\u001b[0m\u001b[0;34m.\u001b[0m\u001b[0m_decision_function\u001b[0m\u001b[0;34m(\u001b[0m\u001b[0mX\u001b[0m\u001b[0;34m)\u001b[0m\u001b[0;34m\u001b[0m\u001b[0;34m\u001b[0m\u001b[0m\n\u001b[0m\u001b[1;32m    237\u001b[0m \u001b[0;34m\u001b[0m\u001b[0m\n\u001b[1;32m    238\u001b[0m     \u001b[0m_preprocess_data\u001b[0m \u001b[0;34m=\u001b[0m \u001b[0mstaticmethod\u001b[0m\u001b[0;34m(\u001b[0m\u001b[0m_preprocess_data\u001b[0m\u001b[0;34m)\u001b[0m\u001b[0;34m\u001b[0m\u001b[0;34m\u001b[0m\u001b[0m\n",
      "\u001b[0;32m~/opt/anaconda3/lib/python3.8/site-packages/sklearn/linear_model/_base.py\u001b[0m in \u001b[0;36m_decision_function\u001b[0;34m(self, X)\u001b[0m\n\u001b[1;32m    217\u001b[0m \u001b[0;34m\u001b[0m\u001b[0m\n\u001b[1;32m    218\u001b[0m         \u001b[0mX\u001b[0m \u001b[0;34m=\u001b[0m \u001b[0mcheck_array\u001b[0m\u001b[0;34m(\u001b[0m\u001b[0mX\u001b[0m\u001b[0;34m,\u001b[0m \u001b[0maccept_sparse\u001b[0m\u001b[0;34m=\u001b[0m\u001b[0;34m[\u001b[0m\u001b[0;34m'csr'\u001b[0m\u001b[0;34m,\u001b[0m \u001b[0;34m'csc'\u001b[0m\u001b[0;34m,\u001b[0m \u001b[0;34m'coo'\u001b[0m\u001b[0;34m]\u001b[0m\u001b[0;34m)\u001b[0m\u001b[0;34m\u001b[0m\u001b[0;34m\u001b[0m\u001b[0m\n\u001b[0;32m--> 219\u001b[0;31m         return safe_sparse_dot(X, self.coef_.T,\n\u001b[0m\u001b[1;32m    220\u001b[0m                                dense_output=True) + self.intercept_\n\u001b[1;32m    221\u001b[0m \u001b[0;34m\u001b[0m\u001b[0m\n",
      "\u001b[0;32m~/opt/anaconda3/lib/python3.8/site-packages/sklearn/utils/validation.py\u001b[0m in \u001b[0;36minner_f\u001b[0;34m(*args, **kwargs)\u001b[0m\n\u001b[1;32m     71\u001b[0m                           FutureWarning)\n\u001b[1;32m     72\u001b[0m         \u001b[0mkwargs\u001b[0m\u001b[0;34m.\u001b[0m\u001b[0mupdate\u001b[0m\u001b[0;34m(\u001b[0m\u001b[0;34m{\u001b[0m\u001b[0mk\u001b[0m\u001b[0;34m:\u001b[0m \u001b[0marg\u001b[0m \u001b[0;32mfor\u001b[0m \u001b[0mk\u001b[0m\u001b[0;34m,\u001b[0m \u001b[0marg\u001b[0m \u001b[0;32min\u001b[0m \u001b[0mzip\u001b[0m\u001b[0;34m(\u001b[0m\u001b[0msig\u001b[0m\u001b[0;34m.\u001b[0m\u001b[0mparameters\u001b[0m\u001b[0;34m,\u001b[0m \u001b[0margs\u001b[0m\u001b[0;34m)\u001b[0m\u001b[0;34m}\u001b[0m\u001b[0;34m)\u001b[0m\u001b[0;34m\u001b[0m\u001b[0;34m\u001b[0m\u001b[0m\n\u001b[0;32m---> 73\u001b[0;31m         \u001b[0;32mreturn\u001b[0m \u001b[0mf\u001b[0m\u001b[0;34m(\u001b[0m\u001b[0;34m**\u001b[0m\u001b[0mkwargs\u001b[0m\u001b[0;34m)\u001b[0m\u001b[0;34m\u001b[0m\u001b[0;34m\u001b[0m\u001b[0m\n\u001b[0m\u001b[1;32m     74\u001b[0m     \u001b[0;32mreturn\u001b[0m \u001b[0minner_f\u001b[0m\u001b[0;34m\u001b[0m\u001b[0;34m\u001b[0m\u001b[0m\n\u001b[1;32m     75\u001b[0m \u001b[0;34m\u001b[0m\u001b[0m\n",
      "\u001b[0;32m~/opt/anaconda3/lib/python3.8/site-packages/sklearn/utils/extmath.py\u001b[0m in \u001b[0;36msafe_sparse_dot\u001b[0;34m(a, b, dense_output)\u001b[0m\n\u001b[1;32m    151\u001b[0m             \u001b[0mret\u001b[0m \u001b[0;34m=\u001b[0m \u001b[0mnp\u001b[0m\u001b[0;34m.\u001b[0m\u001b[0mdot\u001b[0m\u001b[0;34m(\u001b[0m\u001b[0ma\u001b[0m\u001b[0;34m,\u001b[0m \u001b[0mb\u001b[0m\u001b[0;34m)\u001b[0m\u001b[0;34m\u001b[0m\u001b[0;34m\u001b[0m\u001b[0m\n\u001b[1;32m    152\u001b[0m     \u001b[0;32melse\u001b[0m\u001b[0;34m:\u001b[0m\u001b[0;34m\u001b[0m\u001b[0;34m\u001b[0m\u001b[0m\n\u001b[0;32m--> 153\u001b[0;31m         \u001b[0mret\u001b[0m \u001b[0;34m=\u001b[0m \u001b[0ma\u001b[0m \u001b[0;34m@\u001b[0m \u001b[0mb\u001b[0m\u001b[0;34m\u001b[0m\u001b[0;34m\u001b[0m\u001b[0m\n\u001b[0m\u001b[1;32m    154\u001b[0m \u001b[0;34m\u001b[0m\u001b[0m\n\u001b[1;32m    155\u001b[0m     if (sparse.issparse(a) and sparse.issparse(b)\n",
      "\u001b[0;31mValueError\u001b[0m: matmul: Input operand 1 has a mismatch in its core dimension 0, with gufunc signature (n?,k),(k,m?)->(n?,m?) (size 7 is different from 8)"
     ]
    }
   ],
   "source": [
    "prediction_values = []\n",
    "for index, row in tallkrogen_for_sale_predict_df.iterrows():\n",
    "    for model in [\"ridge\",\"random_forest\"]:\n",
    "        tallkrogen_for_sale_predict_df.loc[index,f\"{model}_prediction\"] = int(eval(f\"{model}_reg\")[\"model\"].predict([row]))\n",
    "\n",
    "\n"
   ]
  },
  {
   "cell_type": "code",
   "execution_count": 285,
   "metadata": {},
   "outputs": [
    {
     "data": {
      "text/html": [
       "<div>\n",
       "<style scoped>\n",
       "    .dataframe tbody tr th:only-of-type {\n",
       "        vertical-align: middle;\n",
       "    }\n",
       "\n",
       "    .dataframe tbody tr th {\n",
       "        vertical-align: top;\n",
       "    }\n",
       "\n",
       "    .dataframe thead th {\n",
       "        text-align: right;\n",
       "    }\n",
       "</style>\n",
       "<table border=\"1\" class=\"dataframe\">\n",
       "  <thead>\n",
       "    <tr style=\"text-align: right;\">\n",
       "      <th></th>\n",
       "      <th>livingArea</th>\n",
       "      <th>extraArea</th>\n",
       "      <th>land</th>\n",
       "      <th>rooms</th>\n",
       "      <th>assignment_num</th>\n",
       "      <th>price_per_sq_meter</th>\n",
       "      <th>forSaleYear</th>\n",
       "      <th>random_forest_prediction</th>\n",
       "    </tr>\n",
       "  </thead>\n",
       "  <tbody>\n",
       "    <tr>\n",
       "      <th>0</th>\n",
       "      <td>107</td>\n",
       "      <td>107</td>\n",
       "      <td>554</td>\n",
       "      <td>6</td>\n",
       "      <td>1</td>\n",
       "      <td>42032.71028</td>\n",
       "      <td>2022</td>\n",
       "      <td>8239902.0</td>\n",
       "    </tr>\n",
       "    <tr>\n",
       "      <th>1</th>\n",
       "      <td>66</td>\n",
       "      <td>62</td>\n",
       "      <td>493</td>\n",
       "      <td>5</td>\n",
       "      <td>1</td>\n",
       "      <td>57031.25000</td>\n",
       "      <td>2022</td>\n",
       "      <td>8056725.0</td>\n",
       "    </tr>\n",
       "  </tbody>\n",
       "</table>\n",
       "</div>"
      ],
      "text/plain": [
       "   livingArea  extraArea  land  rooms  assignment_num  price_per_sq_meter  \\\n",
       "0         107        107   554      6               1         42032.71028   \n",
       "1          66         62   493      5               1         57031.25000   \n",
       "\n",
       "   forSaleYear  random_forest_prediction  \n",
       "0         2022                 8239902.0  \n",
       "1         2022                 8056725.0  "
      ]
     },
     "execution_count": 285,
     "metadata": {},
     "output_type": "execute_result"
    }
   ],
   "source": [
    "tallkrogen_for_sale_predict_df\n",
    "    "
   ]
  },
  {
   "cell_type": "code",
   "execution_count": 255,
   "metadata": {},
   "outputs": [
    {
     "ename": "ValueError",
     "evalue": "Expected 2D array, got 1D array instead:\narray=[6.600000e+01 6.200000e+01 4.930000e+02 5.000000e+00 1.000000e+00\n 5.703125e+04 2.022000e+03].\nReshape your data either using array.reshape(-1, 1) if your data has a single feature or array.reshape(1, -1) if it contains a single sample.",
     "output_type": "error",
     "traceback": [
      "\u001b[0;31m---------------------------------------------------------------------------\u001b[0m",
      "\u001b[0;31mValueError\u001b[0m                                Traceback (most recent call last)",
      "\u001b[0;32m<ipython-input-255-9111b128e6b8>\u001b[0m in \u001b[0;36m<module>\u001b[0;34m\u001b[0m\n\u001b[0;32m----> 1\u001b[0;31m \u001b[0mlinear_prediction\u001b[0m \u001b[0;34m=\u001b[0m \u001b[0mint\u001b[0m\u001b[0;34m(\u001b[0m\u001b[0mlinear_reg\u001b[0m\u001b[0;34m[\u001b[0m\u001b[0;34m'model'\u001b[0m\u001b[0;34m]\u001b[0m\u001b[0;34m.\u001b[0m\u001b[0mpredict\u001b[0m\u001b[0;34m(\u001b[0m\u001b[0mtallkrogen_for_sale_predict_df\u001b[0m\u001b[0;34m.\u001b[0m\u001b[0miloc\u001b[0m\u001b[0;34m[\u001b[0m\u001b[0;36m1\u001b[0m\u001b[0;34m]\u001b[0m\u001b[0;34m)\u001b[0m\u001b[0;34m)\u001b[0m\u001b[0;34m\u001b[0m\u001b[0;34m\u001b[0m\u001b[0m\n\u001b[0m",
      "\u001b[0;32m~/opt/anaconda3/lib/python3.8/site-packages/sklearn/linear_model/_base.py\u001b[0m in \u001b[0;36mpredict\u001b[0;34m(self, X)\u001b[0m\n\u001b[1;32m    234\u001b[0m             \u001b[0mReturns\u001b[0m \u001b[0mpredicted\u001b[0m \u001b[0mvalues\u001b[0m\u001b[0;34m.\u001b[0m\u001b[0;34m\u001b[0m\u001b[0;34m\u001b[0m\u001b[0m\n\u001b[1;32m    235\u001b[0m         \"\"\"\n\u001b[0;32m--> 236\u001b[0;31m         \u001b[0;32mreturn\u001b[0m \u001b[0mself\u001b[0m\u001b[0;34m.\u001b[0m\u001b[0m_decision_function\u001b[0m\u001b[0;34m(\u001b[0m\u001b[0mX\u001b[0m\u001b[0;34m)\u001b[0m\u001b[0;34m\u001b[0m\u001b[0;34m\u001b[0m\u001b[0m\n\u001b[0m\u001b[1;32m    237\u001b[0m \u001b[0;34m\u001b[0m\u001b[0m\n\u001b[1;32m    238\u001b[0m     \u001b[0m_preprocess_data\u001b[0m \u001b[0;34m=\u001b[0m \u001b[0mstaticmethod\u001b[0m\u001b[0;34m(\u001b[0m\u001b[0m_preprocess_data\u001b[0m\u001b[0;34m)\u001b[0m\u001b[0;34m\u001b[0m\u001b[0;34m\u001b[0m\u001b[0m\n",
      "\u001b[0;32m~/opt/anaconda3/lib/python3.8/site-packages/sklearn/linear_model/_base.py\u001b[0m in \u001b[0;36m_decision_function\u001b[0;34m(self, X)\u001b[0m\n\u001b[1;32m    216\u001b[0m         \u001b[0mcheck_is_fitted\u001b[0m\u001b[0;34m(\u001b[0m\u001b[0mself\u001b[0m\u001b[0;34m)\u001b[0m\u001b[0;34m\u001b[0m\u001b[0;34m\u001b[0m\u001b[0m\n\u001b[1;32m    217\u001b[0m \u001b[0;34m\u001b[0m\u001b[0m\n\u001b[0;32m--> 218\u001b[0;31m         \u001b[0mX\u001b[0m \u001b[0;34m=\u001b[0m \u001b[0mcheck_array\u001b[0m\u001b[0;34m(\u001b[0m\u001b[0mX\u001b[0m\u001b[0;34m,\u001b[0m \u001b[0maccept_sparse\u001b[0m\u001b[0;34m=\u001b[0m\u001b[0;34m[\u001b[0m\u001b[0;34m'csr'\u001b[0m\u001b[0;34m,\u001b[0m \u001b[0;34m'csc'\u001b[0m\u001b[0;34m,\u001b[0m \u001b[0;34m'coo'\u001b[0m\u001b[0;34m]\u001b[0m\u001b[0;34m)\u001b[0m\u001b[0;34m\u001b[0m\u001b[0;34m\u001b[0m\u001b[0m\n\u001b[0m\u001b[1;32m    219\u001b[0m         return safe_sparse_dot(X, self.coef_.T,\n\u001b[1;32m    220\u001b[0m                                dense_output=True) + self.intercept_\n",
      "\u001b[0;32m~/opt/anaconda3/lib/python3.8/site-packages/sklearn/utils/validation.py\u001b[0m in \u001b[0;36minner_f\u001b[0;34m(*args, **kwargs)\u001b[0m\n\u001b[1;32m     71\u001b[0m                           FutureWarning)\n\u001b[1;32m     72\u001b[0m         \u001b[0mkwargs\u001b[0m\u001b[0;34m.\u001b[0m\u001b[0mupdate\u001b[0m\u001b[0;34m(\u001b[0m\u001b[0;34m{\u001b[0m\u001b[0mk\u001b[0m\u001b[0;34m:\u001b[0m \u001b[0marg\u001b[0m \u001b[0;32mfor\u001b[0m \u001b[0mk\u001b[0m\u001b[0;34m,\u001b[0m \u001b[0marg\u001b[0m \u001b[0;32min\u001b[0m \u001b[0mzip\u001b[0m\u001b[0;34m(\u001b[0m\u001b[0msig\u001b[0m\u001b[0;34m.\u001b[0m\u001b[0mparameters\u001b[0m\u001b[0;34m,\u001b[0m \u001b[0margs\u001b[0m\u001b[0;34m)\u001b[0m\u001b[0;34m}\u001b[0m\u001b[0;34m)\u001b[0m\u001b[0;34m\u001b[0m\u001b[0;34m\u001b[0m\u001b[0m\n\u001b[0;32m---> 73\u001b[0;31m         \u001b[0;32mreturn\u001b[0m \u001b[0mf\u001b[0m\u001b[0;34m(\u001b[0m\u001b[0;34m**\u001b[0m\u001b[0mkwargs\u001b[0m\u001b[0;34m)\u001b[0m\u001b[0;34m\u001b[0m\u001b[0;34m\u001b[0m\u001b[0m\n\u001b[0m\u001b[1;32m     74\u001b[0m     \u001b[0;32mreturn\u001b[0m \u001b[0minner_f\u001b[0m\u001b[0;34m\u001b[0m\u001b[0;34m\u001b[0m\u001b[0m\n\u001b[1;32m     75\u001b[0m \u001b[0;34m\u001b[0m\u001b[0m\n",
      "\u001b[0;32m~/opt/anaconda3/lib/python3.8/site-packages/sklearn/utils/validation.py\u001b[0m in \u001b[0;36mcheck_array\u001b[0;34m(array, accept_sparse, accept_large_sparse, dtype, order, copy, force_all_finite, ensure_2d, allow_nd, ensure_min_samples, ensure_min_features, estimator)\u001b[0m\n\u001b[1;32m    618\u001b[0m             \u001b[0;31m# If input is 1D raise error\u001b[0m\u001b[0;34m\u001b[0m\u001b[0;34m\u001b[0m\u001b[0;34m\u001b[0m\u001b[0m\n\u001b[1;32m    619\u001b[0m             \u001b[0;32mif\u001b[0m \u001b[0marray\u001b[0m\u001b[0;34m.\u001b[0m\u001b[0mndim\u001b[0m \u001b[0;34m==\u001b[0m \u001b[0;36m1\u001b[0m\u001b[0;34m:\u001b[0m\u001b[0;34m\u001b[0m\u001b[0;34m\u001b[0m\u001b[0m\n\u001b[0;32m--> 620\u001b[0;31m                 raise ValueError(\n\u001b[0m\u001b[1;32m    621\u001b[0m                     \u001b[0;34m\"Expected 2D array, got 1D array instead:\\narray={}.\\n\"\u001b[0m\u001b[0;34m\u001b[0m\u001b[0;34m\u001b[0m\u001b[0m\n\u001b[1;32m    622\u001b[0m                     \u001b[0;34m\"Reshape your data either using array.reshape(-1, 1) if \"\u001b[0m\u001b[0;34m\u001b[0m\u001b[0;34m\u001b[0m\u001b[0m\n",
      "\u001b[0;31mValueError\u001b[0m: Expected 2D array, got 1D array instead:\narray=[6.600000e+01 6.200000e+01 4.930000e+02 5.000000e+00 1.000000e+00\n 5.703125e+04 2.022000e+03].\nReshape your data either using array.reshape(-1, 1) if your data has a single feature or array.reshape(1, -1) if it contains a single sample."
     ]
    }
   ],
   "source": []
  },
  {
   "cell_type": "code",
   "execution_count": 217,
   "metadata": {},
   "outputs": [],
   "source": [
    "lasso_prediction = int(lasso_reg['model'].predict(tallkrogen_for_sale_predict_df))"
   ]
  },
  {
   "cell_type": "code",
   "execution_count": 218,
   "metadata": {},
   "outputs": [],
   "source": [
    "ridge_prediction = int(ridge_reg['model'].predict(tallkrogen_for_sale_predict_df))"
   ]
  },
  {
   "cell_type": "code",
   "execution_count": 219,
   "metadata": {},
   "outputs": [],
   "source": [
    "random_forest_prediction = int(random_forest_reg['model'].predict(tallkrogen_for_sale_predict_df))"
   ]
  },
  {
   "cell_type": "code",
   "execution_count": 220,
   "metadata": {},
   "outputs": [
    {
     "data": {
      "text/plain": [
       "array([0.06851578, 0.01123611, 0.00124734, 0.00225429, 0.        ,\n",
       "       0.0907006 , 0.82604588])"
      ]
     },
     "execution_count": 220,
     "metadata": {},
     "output_type": "execute_result"
    }
   ],
   "source": [
    "random_forest_reg['model'].feature_importances_"
   ]
  },
  {
   "cell_type": "markdown",
   "metadata": {},
   "source": [
    "### Make prediction based on properties for sale"
   ]
  },
  {
   "cell_type": "code",
   "execution_count": 240,
   "metadata": {},
   "outputs": [],
   "source": [
    "tallkrogen_for_sale_df[\"linear_prediction\"] = linear_prediction\n",
    "tallkrogen_for_sale_df[\"lasso_prediction\"] = lasso_prediction\n",
    "tallkrogen_for_sale_df[\"ridge_prediction\"] = ridge_prediction\n",
    "tallkrogen_for_sale_df[\"random_forest_prediction\"] = random_forest_prediction\n",
    "tallkrogen_for_sale_df['mean_prediction'] = int((tallkrogen_for_sale_df[\"linear_prediction\"] + \n",
    "                                            tallkrogen_for_sale_df[\"lasso_prediction\"] +\n",
    "                                            tallkrogen_for_sale_df[\"ridge_prediction\"] +\n",
    "                                            tallkrogen_for_sale_df[\"random_forest_prediction\"]) / 4)"
   ]
  },
  {
   "cell_type": "code",
   "execution_count": 241,
   "metadata": {},
   "outputs": [
    {
     "data": {
      "text/html": [
       "<div>\n",
       "<style scoped>\n",
       "    .dataframe tbody tr th:only-of-type {\n",
       "        vertical-align: middle;\n",
       "    }\n",
       "\n",
       "    .dataframe tbody tr th {\n",
       "        vertical-align: top;\n",
       "    }\n",
       "\n",
       "    .dataframe thead th {\n",
       "        text-align: right;\n",
       "    }\n",
       "</style>\n",
       "<table border=\"1\" class=\"dataframe\">\n",
       "  <thead>\n",
       "    <tr style=\"text-align: right;\">\n",
       "      <th></th>\n",
       "      <th>address</th>\n",
       "      <th>livingArea</th>\n",
       "      <th>extraArea</th>\n",
       "      <th>land</th>\n",
       "      <th>rooms</th>\n",
       "      <th>houseType</th>\n",
       "      <th>assignment</th>\n",
       "      <th>askingPrice</th>\n",
       "      <th>forSaleYear</th>\n",
       "      <th>linear_prediction</th>\n",
       "      <th>lasso_prediction</th>\n",
       "      <th>ridge_prediction</th>\n",
       "      <th>random_forest_prediction</th>\n",
       "      <th>mean_prediction</th>\n",
       "    </tr>\n",
       "  </thead>\n",
       "  <tbody>\n",
       "    <tr>\n",
       "      <th>0</th>\n",
       "      <td>Rörsoppsvägen 32</td>\n",
       "      <td>107</td>\n",
       "      <td>107</td>\n",
       "      <td>554</td>\n",
       "      <td>6</td>\n",
       "      <td>Villa</td>\n",
       "      <td>Äganderätt</td>\n",
       "      <td>8995000</td>\n",
       "      <td>2022</td>\n",
       "      <td>9038571</td>\n",
       "      <td>9038572</td>\n",
       "      <td>9038545</td>\n",
       "      <td>8239902</td>\n",
       "      <td>8838897</td>\n",
       "    </tr>\n",
       "  </tbody>\n",
       "</table>\n",
       "</div>"
      ],
      "text/plain": [
       "            address  livingArea  extraArea  land  rooms houseType  assignment  \\\n",
       "0  Rörsoppsvägen 32         107        107   554      6     Villa  Äganderätt   \n",
       "\n",
       "   askingPrice  forSaleYear  linear_prediction  lasso_prediction  \\\n",
       "0      8995000         2022            9038571           9038572   \n",
       "\n",
       "   ridge_prediction  random_forest_prediction  mean_prediction  \n",
       "0           9038545                   8239902          8838897  "
      ]
     },
     "execution_count": 241,
     "metadata": {},
     "output_type": "execute_result"
    }
   ],
   "source": [
    "tallkrogen_for_sale_df"
   ]
  },
  {
   "cell_type": "code",
   "execution_count": 231,
   "metadata": {},
   "outputs": [
    {
     "name": "stdout",
     "output_type": "stream",
     "text": [
      "Address: Rörsoppsvägen 32 with an asking price of 8995000 SEK, I predict will sell for: 8838897 SEK.\n",
      "This is a -1.7% difference from asking price\n",
      "\n",
      "\n"
     ]
    }
   ],
   "source": [
    "for index, row in tallkrogen_for_sale_df.iterrows():\n",
    "    print(f\"Address: {row['address']} with an asking price of {row['askingPrice']} SEK, I predict will sell for: {row['mean_prediction']} SEK.\\n\" \n",
    "          f\"This is a {round(((row['mean_prediction'] / row['askingPrice']) * 100)-100, 1)}% difference from asking price\\n\\n\")"
   ]
  },
  {
   "cell_type": "code",
   "execution_count": null,
   "metadata": {},
   "outputs": [],
   "source": []
  }
 ],
 "metadata": {
  "kernelspec": {
   "display_name": "Python 3",
   "language": "python",
   "name": "python3"
  },
  "language_info": {
   "codemirror_mode": {
    "name": "ipython",
    "version": 3
   },
   "file_extension": ".py",
   "mimetype": "text/x-python",
   "name": "python",
   "nbconvert_exporter": "python",
   "pygments_lexer": "ipython3",
   "version": "3.8.3"
  }
 },
 "nbformat": 4,
 "nbformat_minor": 4
}
