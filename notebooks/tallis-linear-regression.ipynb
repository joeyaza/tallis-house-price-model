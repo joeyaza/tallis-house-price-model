{
 "cells": [
  {
   "cell_type": "markdown",
   "metadata": {},
   "source": [
    "\n",
    "# Regression models to predict property prices in Tallkrogen"
   ]
  },
  {
   "cell_type": "code",
   "execution_count": 417,
   "metadata": {},
   "outputs": [],
   "source": [
    "import pandas as pd\n",
    "import matplotlib.pyplot as plt\n",
    "from sklearn.linear_model import Ridge, SGDRegressor, Lasso, LinearRegression\n",
    "from sklearn.ensemble import RandomForestRegressor\n",
    "from sklearn.metrics import r2_score\n",
    "from sklearn.model_selection import train_test_split\n",
    "from subprocess import check_output\n"
   ]
  },
  {
   "cell_type": "markdown",
   "metadata": {},
   "source": [
    "### Call the Node Hemnet scraper which saves .json data file of sold properties in Tallkrogen\n",
    "#### not needed as scraper can be called directly"
   ]
  },
  {
   "cell_type": "code",
   "execution_count": 418,
   "metadata": {},
   "outputs": [],
   "source": [
    "#check_output(['npm', 'run start'])"
   ]
  },
  {
   "cell_type": "markdown",
   "metadata": {},
   "source": [
    "### Read in sold property json as dataframe"
   ]
  },
  {
   "cell_type": "code",
   "execution_count": 419,
   "metadata": {},
   "outputs": [],
   "source": [
    "tallkrogen_sold_prices_df = pd.read_json(\"../data/soldData.json\", dtype={\n",
    "    'address': \"string\",\n",
    "    'soldDate': \"string\",\n",
    "    'livingArea': int,\n",
    "    'extraArea': int,\n",
    "    'land': int,\n",
    "    'rooms': int,\n",
    "    'houseType': \"string\",\n",
    "    'assignment': \"string\",\n",
    "    'askingPrice': int,\n",
    "    'soldPrice': int\n",
    "})\n"
   ]
  },
  {
   "cell_type": "code",
   "execution_count": 420,
   "metadata": {},
   "outputs": [
    {
     "data": {
      "text/html": [
       "<div>\n",
       "<style scoped>\n",
       "    .dataframe tbody tr th:only-of-type {\n",
       "        vertical-align: middle;\n",
       "    }\n",
       "\n",
       "    .dataframe tbody tr th {\n",
       "        vertical-align: top;\n",
       "    }\n",
       "\n",
       "    .dataframe thead th {\n",
       "        text-align: right;\n",
       "    }\n",
       "</style>\n",
       "<table border=\"1\" class=\"dataframe\">\n",
       "  <thead>\n",
       "    <tr style=\"text-align: right;\">\n",
       "      <th></th>\n",
       "      <th>address</th>\n",
       "      <th>soldDate</th>\n",
       "      <th>livingArea</th>\n",
       "      <th>extraArea</th>\n",
       "      <th>land</th>\n",
       "      <th>rooms</th>\n",
       "      <th>houseType</th>\n",
       "      <th>assignment</th>\n",
       "      <th>askingPrice</th>\n",
       "      <th>soldPrice</th>\n",
       "    </tr>\n",
       "  </thead>\n",
       "  <tbody>\n",
       "    <tr>\n",
       "      <th>0</th>\n",
       "      <td>Lingvägen 68</td>\n",
       "      <td>2013-04-09</td>\n",
       "      <td>69</td>\n",
       "      <td>69</td>\n",
       "      <td>520</td>\n",
       "      <td>5</td>\n",
       "      <td>Villa</td>\n",
       "      <td>Äganderätt</td>\n",
       "      <td>3400000</td>\n",
       "      <td>3400000</td>\n",
       "    </tr>\n",
       "    <tr>\n",
       "      <th>1</th>\n",
       "      <td>Amatörvägen 58</td>\n",
       "      <td>2013-05-10</td>\n",
       "      <td>65</td>\n",
       "      <td>52</td>\n",
       "      <td>464</td>\n",
       "      <td>5</td>\n",
       "      <td>Villa</td>\n",
       "      <td>Äganderätt</td>\n",
       "      <td>3750000</td>\n",
       "      <td>4270000</td>\n",
       "    </tr>\n",
       "    <tr>\n",
       "      <th>2</th>\n",
       "      <td>Amatörvägen 11</td>\n",
       "      <td>2013-08-29</td>\n",
       "      <td>65</td>\n",
       "      <td>65</td>\n",
       "      <td>338</td>\n",
       "      <td>4</td>\n",
       "      <td>Villa</td>\n",
       "      <td>Äganderätt</td>\n",
       "      <td>3895000</td>\n",
       "      <td>4250000</td>\n",
       "    </tr>\n",
       "    <tr>\n",
       "      <th>3</th>\n",
       "      <td>Olympiavägen 40</td>\n",
       "      <td>2013-05-24</td>\n",
       "      <td>50</td>\n",
       "      <td>50</td>\n",
       "      <td>501</td>\n",
       "      <td>3</td>\n",
       "      <td>Villa</td>\n",
       "      <td>Äganderätt</td>\n",
       "      <td>4200000</td>\n",
       "      <td>4200000</td>\n",
       "    </tr>\n",
       "    <tr>\n",
       "      <th>4</th>\n",
       "      <td>Rikstensvägen 6</td>\n",
       "      <td>2013-06-11</td>\n",
       "      <td>93</td>\n",
       "      <td>62</td>\n",
       "      <td>623</td>\n",
       "      <td>7</td>\n",
       "      <td>Villa</td>\n",
       "      <td>Äganderätt</td>\n",
       "      <td>5150000</td>\n",
       "      <td>5250000</td>\n",
       "    </tr>\n",
       "    <tr>\n",
       "      <th>5</th>\n",
       "      <td>Diskusvägen 32</td>\n",
       "      <td>2013-07-05</td>\n",
       "      <td>106</td>\n",
       "      <td>50</td>\n",
       "      <td>1022</td>\n",
       "      <td>5</td>\n",
       "      <td>Villa</td>\n",
       "      <td>Äganderätt</td>\n",
       "      <td>4925000</td>\n",
       "      <td>5140000</td>\n",
       "    </tr>\n",
       "    <tr>\n",
       "      <th>6</th>\n",
       "      <td>Diskusvägen 12</td>\n",
       "      <td>2013-09-15</td>\n",
       "      <td>80</td>\n",
       "      <td>75</td>\n",
       "      <td>864</td>\n",
       "      <td>5</td>\n",
       "      <td>Villa</td>\n",
       "      <td>Äganderätt</td>\n",
       "      <td>4350000</td>\n",
       "      <td>4950000</td>\n",
       "    </tr>\n",
       "    <tr>\n",
       "      <th>7</th>\n",
       "      <td>LemmingsVäg 4</td>\n",
       "      <td>2013-01-20</td>\n",
       "      <td></td>\n",
       "      <td></td>\n",
       "      <td></td>\n",
       "      <td>8</td>\n",
       "      <td>Villa</td>\n",
       "      <td>Äganderätt</td>\n",
       "      <td></td>\n",
       "      <td>4800000</td>\n",
       "    </tr>\n",
       "    <tr>\n",
       "      <th>8</th>\n",
       "      <td>Maratonvägen 43</td>\n",
       "      <td>2013-09-20</td>\n",
       "      <td>95</td>\n",
       "      <td>48</td>\n",
       "      <td>501</td>\n",
       "      <td>4</td>\n",
       "      <td>Villa</td>\n",
       "      <td>Äganderätt</td>\n",
       "      <td>5500000</td>\n",
       "      <td>5400000</td>\n",
       "    </tr>\n",
       "    <tr>\n",
       "      <th>9</th>\n",
       "      <td>Olympiavägen 82</td>\n",
       "      <td>2013-10-03</td>\n",
       "      <td>64</td>\n",
       "      <td>64</td>\n",
       "      <td>476</td>\n",
       "      <td>2</td>\n",
       "      <td>Villa</td>\n",
       "      <td>Äganderätt</td>\n",
       "      <td>3160000</td>\n",
       "      <td>3160000</td>\n",
       "    </tr>\n",
       "  </tbody>\n",
       "</table>\n",
       "</div>"
      ],
      "text/plain": [
       "           address    soldDate livingArea extraArea  land rooms houseType  \\\n",
       "0     Lingvägen 68  2013-04-09         69        69   520     5     Villa   \n",
       "1   Amatörvägen 58  2013-05-10         65        52   464     5     Villa   \n",
       "2   Amatörvägen 11  2013-08-29         65        65   338     4     Villa   \n",
       "3  Olympiavägen 40  2013-05-24         50        50   501     3     Villa   \n",
       "4  Rikstensvägen 6  2013-06-11         93        62   623     7     Villa   \n",
       "5   Diskusvägen 32  2013-07-05        106        50  1022     5     Villa   \n",
       "6   Diskusvägen 12  2013-09-15         80        75   864     5     Villa   \n",
       "7    LemmingsVäg 4  2013-01-20                                8     Villa   \n",
       "8  Maratonvägen 43  2013-09-20         95        48   501     4     Villa   \n",
       "9  Olympiavägen 82  2013-10-03         64        64   476     2     Villa   \n",
       "\n",
       "   assignment askingPrice  soldPrice  \n",
       "0  Äganderätt     3400000    3400000  \n",
       "1  Äganderätt     3750000    4270000  \n",
       "2  Äganderätt     3895000    4250000  \n",
       "3  Äganderätt     4200000    4200000  \n",
       "4  Äganderätt     5150000    5250000  \n",
       "5  Äganderätt     4925000    5140000  \n",
       "6  Äganderätt     4350000    4950000  \n",
       "7  Äganderätt                4800000  \n",
       "8  Äganderätt     5500000    5400000  \n",
       "9  Äganderätt     3160000    3160000  "
      ]
     },
     "execution_count": 420,
     "metadata": {},
     "output_type": "execute_result"
    }
   ],
   "source": [
    "tallkrogen_sold_prices_df.head(10)"
   ]
  },
  {
   "cell_type": "code",
   "execution_count": 421,
   "metadata": {},
   "outputs": [
    {
     "data": {
      "text/plain": [
       "(221, 10)"
      ]
     },
     "execution_count": 421,
     "metadata": {},
     "output_type": "execute_result"
    }
   ],
   "source": [
    "tallkrogen_sold_prices_df.shape"
   ]
  },
  {
   "cell_type": "code",
   "execution_count": 422,
   "metadata": {},
   "outputs": [
    {
     "data": {
      "text/plain": [
       "address        object\n",
       "soldDate       object\n",
       "livingArea     object\n",
       "extraArea      object\n",
       "land           object\n",
       "rooms          object\n",
       "houseType      object\n",
       "assignment     object\n",
       "askingPrice    object\n",
       "soldPrice       int64\n",
       "dtype: object"
      ]
     },
     "execution_count": 422,
     "metadata": {},
     "output_type": "execute_result"
    }
   ],
   "source": [
    "tallkrogen_sold_prices_df.dtypes"
   ]
  },
  {
   "cell_type": "markdown",
   "metadata": {},
   "source": [
    "### Checking each attribute to confirm its type is accurate"
   ]
  },
  {
   "cell_type": "code",
   "execution_count": 423,
   "metadata": {},
   "outputs": [],
   "source": [
    "def checkAttribute(row): \n",
    "    try:\n",
    "        str(row[\"address\"])\n",
    "    except:\n",
    "        return False\n",
    "    try:\n",
    "        str(row[\"soldDate\"])\n",
    "    except:\n",
    "        return False\n",
    "    try:\n",
    "        float(row[\"livingArea\"])\n",
    "    except:\n",
    "        return False\n",
    "    try:\n",
    "        float(row[\"extraArea\"])\n",
    "    except:\n",
    "        return False\n",
    "    try:\n",
    "        float(row[\"land\"])\n",
    "    except:\n",
    "        return False\n",
    "    try:\n",
    "        float(row[\"rooms\"])\n",
    "    except:\n",
    "        return False\n",
    "    try:\n",
    "        str(row[\"houseType\"])\n",
    "    except:\n",
    "        return False\n",
    "    try:\n",
    "        str(row[\"assignment\"])\n",
    "    except:\n",
    "        return False\n",
    "    try:\n",
    "        float(row[\"askingPrice\"])\n",
    "    except:\n",
    "        return False\n",
    "    try:\n",
    "        float(row[\"soldPrice\"])\n",
    "    except:\n",
    "        return False\n",
    "    return True"
   ]
  },
  {
   "cell_type": "code",
   "execution_count": 424,
   "metadata": {},
   "outputs": [],
   "source": [
    "for index, row in tallkrogen_sold_prices_df.iterrows():\n",
    "    if checkAttribute(row) == False:\n",
    "        tallkrogen_sold_prices_df.drop(index=index, inplace=True)"
   ]
  },
  {
   "cell_type": "code",
   "execution_count": 425,
   "metadata": {},
   "outputs": [
    {
     "data": {
      "text/html": [
       "<div>\n",
       "<style scoped>\n",
       "    .dataframe tbody tr th:only-of-type {\n",
       "        vertical-align: middle;\n",
       "    }\n",
       "\n",
       "    .dataframe tbody tr th {\n",
       "        vertical-align: top;\n",
       "    }\n",
       "\n",
       "    .dataframe thead th {\n",
       "        text-align: right;\n",
       "    }\n",
       "</style>\n",
       "<table border=\"1\" class=\"dataframe\">\n",
       "  <thead>\n",
       "    <tr style=\"text-align: right;\">\n",
       "      <th></th>\n",
       "      <th>address</th>\n",
       "      <th>soldDate</th>\n",
       "      <th>livingArea</th>\n",
       "      <th>extraArea</th>\n",
       "      <th>land</th>\n",
       "      <th>rooms</th>\n",
       "      <th>houseType</th>\n",
       "      <th>assignment</th>\n",
       "      <th>askingPrice</th>\n",
       "      <th>soldPrice</th>\n",
       "    </tr>\n",
       "  </thead>\n",
       "  <tbody>\n",
       "    <tr>\n",
       "      <th>0</th>\n",
       "      <td>Lingvägen 68</td>\n",
       "      <td>2013-04-09</td>\n",
       "      <td>69</td>\n",
       "      <td>69</td>\n",
       "      <td>520</td>\n",
       "      <td>5</td>\n",
       "      <td>Villa</td>\n",
       "      <td>Äganderätt</td>\n",
       "      <td>3400000</td>\n",
       "      <td>3400000</td>\n",
       "    </tr>\n",
       "    <tr>\n",
       "      <th>1</th>\n",
       "      <td>Amatörvägen 58</td>\n",
       "      <td>2013-05-10</td>\n",
       "      <td>65</td>\n",
       "      <td>52</td>\n",
       "      <td>464</td>\n",
       "      <td>5</td>\n",
       "      <td>Villa</td>\n",
       "      <td>Äganderätt</td>\n",
       "      <td>3750000</td>\n",
       "      <td>4270000</td>\n",
       "    </tr>\n",
       "    <tr>\n",
       "      <th>2</th>\n",
       "      <td>Amatörvägen 11</td>\n",
       "      <td>2013-08-29</td>\n",
       "      <td>65</td>\n",
       "      <td>65</td>\n",
       "      <td>338</td>\n",
       "      <td>4</td>\n",
       "      <td>Villa</td>\n",
       "      <td>Äganderätt</td>\n",
       "      <td>3895000</td>\n",
       "      <td>4250000</td>\n",
       "    </tr>\n",
       "    <tr>\n",
       "      <th>3</th>\n",
       "      <td>Olympiavägen 40</td>\n",
       "      <td>2013-05-24</td>\n",
       "      <td>50</td>\n",
       "      <td>50</td>\n",
       "      <td>501</td>\n",
       "      <td>3</td>\n",
       "      <td>Villa</td>\n",
       "      <td>Äganderätt</td>\n",
       "      <td>4200000</td>\n",
       "      <td>4200000</td>\n",
       "    </tr>\n",
       "    <tr>\n",
       "      <th>4</th>\n",
       "      <td>Rikstensvägen 6</td>\n",
       "      <td>2013-06-11</td>\n",
       "      <td>93</td>\n",
       "      <td>62</td>\n",
       "      <td>623</td>\n",
       "      <td>7</td>\n",
       "      <td>Villa</td>\n",
       "      <td>Äganderätt</td>\n",
       "      <td>5150000</td>\n",
       "      <td>5250000</td>\n",
       "    </tr>\n",
       "    <tr>\n",
       "      <th>5</th>\n",
       "      <td>Diskusvägen 32</td>\n",
       "      <td>2013-07-05</td>\n",
       "      <td>106</td>\n",
       "      <td>50</td>\n",
       "      <td>1022</td>\n",
       "      <td>5</td>\n",
       "      <td>Villa</td>\n",
       "      <td>Äganderätt</td>\n",
       "      <td>4925000</td>\n",
       "      <td>5140000</td>\n",
       "    </tr>\n",
       "    <tr>\n",
       "      <th>6</th>\n",
       "      <td>Diskusvägen 12</td>\n",
       "      <td>2013-09-15</td>\n",
       "      <td>80</td>\n",
       "      <td>75</td>\n",
       "      <td>864</td>\n",
       "      <td>5</td>\n",
       "      <td>Villa</td>\n",
       "      <td>Äganderätt</td>\n",
       "      <td>4350000</td>\n",
       "      <td>4950000</td>\n",
       "    </tr>\n",
       "    <tr>\n",
       "      <th>8</th>\n",
       "      <td>Maratonvägen 43</td>\n",
       "      <td>2013-09-20</td>\n",
       "      <td>95</td>\n",
       "      <td>48</td>\n",
       "      <td>501</td>\n",
       "      <td>4</td>\n",
       "      <td>Villa</td>\n",
       "      <td>Äganderätt</td>\n",
       "      <td>5500000</td>\n",
       "      <td>5400000</td>\n",
       "    </tr>\n",
       "    <tr>\n",
       "      <th>9</th>\n",
       "      <td>Olympiavägen 82</td>\n",
       "      <td>2013-10-03</td>\n",
       "      <td>64</td>\n",
       "      <td>64</td>\n",
       "      <td>476</td>\n",
       "      <td>2</td>\n",
       "      <td>Villa</td>\n",
       "      <td>Äganderätt</td>\n",
       "      <td>3160000</td>\n",
       "      <td>3160000</td>\n",
       "    </tr>\n",
       "    <tr>\n",
       "      <th>10</th>\n",
       "      <td>Häringevägen 4</td>\n",
       "      <td>2013-11-21</td>\n",
       "      <td>87</td>\n",
       "      <td>86</td>\n",
       "      <td>485</td>\n",
       "      <td>5</td>\n",
       "      <td>Villa</td>\n",
       "      <td>Äganderätt</td>\n",
       "      <td>4950000</td>\n",
       "      <td>5750000</td>\n",
       "    </tr>\n",
       "  </tbody>\n",
       "</table>\n",
       "</div>"
      ],
      "text/plain": [
       "            address    soldDate livingArea extraArea  land rooms houseType  \\\n",
       "0      Lingvägen 68  2013-04-09         69        69   520     5     Villa   \n",
       "1    Amatörvägen 58  2013-05-10         65        52   464     5     Villa   \n",
       "2    Amatörvägen 11  2013-08-29         65        65   338     4     Villa   \n",
       "3   Olympiavägen 40  2013-05-24         50        50   501     3     Villa   \n",
       "4   Rikstensvägen 6  2013-06-11         93        62   623     7     Villa   \n",
       "5    Diskusvägen 32  2013-07-05        106        50  1022     5     Villa   \n",
       "6    Diskusvägen 12  2013-09-15         80        75   864     5     Villa   \n",
       "8   Maratonvägen 43  2013-09-20         95        48   501     4     Villa   \n",
       "9   Olympiavägen 82  2013-10-03         64        64   476     2     Villa   \n",
       "10   Häringevägen 4  2013-11-21         87        86   485     5     Villa   \n",
       "\n",
       "    assignment askingPrice  soldPrice  \n",
       "0   Äganderätt     3400000    3400000  \n",
       "1   Äganderätt     3750000    4270000  \n",
       "2   Äganderätt     3895000    4250000  \n",
       "3   Äganderätt     4200000    4200000  \n",
       "4   Äganderätt     5150000    5250000  \n",
       "5   Äganderätt     4925000    5140000  \n",
       "6   Äganderätt     4350000    4950000  \n",
       "8   Äganderätt     5500000    5400000  \n",
       "9   Äganderätt     3160000    3160000  \n",
       "10  Äganderätt     4950000    5750000  "
      ]
     },
     "execution_count": 425,
     "metadata": {},
     "output_type": "execute_result"
    }
   ],
   "source": [
    "tallkrogen_sold_prices_df.head(10)"
   ]
  },
  {
   "cell_type": "code",
   "execution_count": 426,
   "metadata": {},
   "outputs": [
    {
     "data": {
      "text/plain": [
       "(211, 10)"
      ]
     },
     "execution_count": 426,
     "metadata": {},
     "output_type": "execute_result"
    }
   ],
   "source": [
    "tallkrogen_sold_prices_df.shape"
   ]
  },
  {
   "cell_type": "code",
   "execution_count": 427,
   "metadata": {},
   "outputs": [],
   "source": [
    "tallkrogen_sold_prices_df[\"houseType\"].unique()\n",
    "tallkrogen_sold_prices_df = tallkrogen_sold_prices_df.drop(\"houseType\", axis=1)"
   ]
  },
  {
   "cell_type": "markdown",
   "metadata": {},
   "source": [
    "### casting the soldDate attribute to pandas datetime"
   ]
  },
  {
   "cell_type": "code",
   "execution_count": 428,
   "metadata": {},
   "outputs": [],
   "source": [
    "tallkrogen_sold_prices_df['soldDate'] = pd.to_datetime(tallkrogen_sold_prices_df['soldDate'])"
   ]
  },
  {
   "cell_type": "code",
   "execution_count": 429,
   "metadata": {},
   "outputs": [
    {
     "data": {
      "text/html": [
       "<div>\n",
       "<style scoped>\n",
       "    .dataframe tbody tr th:only-of-type {\n",
       "        vertical-align: middle;\n",
       "    }\n",
       "\n",
       "    .dataframe tbody tr th {\n",
       "        vertical-align: top;\n",
       "    }\n",
       "\n",
       "    .dataframe thead th {\n",
       "        text-align: right;\n",
       "    }\n",
       "</style>\n",
       "<table border=\"1\" class=\"dataframe\">\n",
       "  <thead>\n",
       "    <tr style=\"text-align: right;\">\n",
       "      <th></th>\n",
       "      <th>address</th>\n",
       "      <th>soldDate</th>\n",
       "      <th>livingArea</th>\n",
       "      <th>extraArea</th>\n",
       "      <th>land</th>\n",
       "      <th>rooms</th>\n",
       "      <th>assignment</th>\n",
       "      <th>askingPrice</th>\n",
       "      <th>soldPrice</th>\n",
       "    </tr>\n",
       "  </thead>\n",
       "  <tbody>\n",
       "    <tr>\n",
       "      <th>0</th>\n",
       "      <td>Lingvägen 68</td>\n",
       "      <td>2013-04-09</td>\n",
       "      <td>69</td>\n",
       "      <td>69</td>\n",
       "      <td>520</td>\n",
       "      <td>5</td>\n",
       "      <td>Äganderätt</td>\n",
       "      <td>3400000</td>\n",
       "      <td>3400000</td>\n",
       "    </tr>\n",
       "    <tr>\n",
       "      <th>1</th>\n",
       "      <td>Amatörvägen 58</td>\n",
       "      <td>2013-05-10</td>\n",
       "      <td>65</td>\n",
       "      <td>52</td>\n",
       "      <td>464</td>\n",
       "      <td>5</td>\n",
       "      <td>Äganderätt</td>\n",
       "      <td>3750000</td>\n",
       "      <td>4270000</td>\n",
       "    </tr>\n",
       "    <tr>\n",
       "      <th>2</th>\n",
       "      <td>Amatörvägen 11</td>\n",
       "      <td>2013-08-29</td>\n",
       "      <td>65</td>\n",
       "      <td>65</td>\n",
       "      <td>338</td>\n",
       "      <td>4</td>\n",
       "      <td>Äganderätt</td>\n",
       "      <td>3895000</td>\n",
       "      <td>4250000</td>\n",
       "    </tr>\n",
       "    <tr>\n",
       "      <th>3</th>\n",
       "      <td>Olympiavägen 40</td>\n",
       "      <td>2013-05-24</td>\n",
       "      <td>50</td>\n",
       "      <td>50</td>\n",
       "      <td>501</td>\n",
       "      <td>3</td>\n",
       "      <td>Äganderätt</td>\n",
       "      <td>4200000</td>\n",
       "      <td>4200000</td>\n",
       "    </tr>\n",
       "    <tr>\n",
       "      <th>4</th>\n",
       "      <td>Rikstensvägen 6</td>\n",
       "      <td>2013-06-11</td>\n",
       "      <td>93</td>\n",
       "      <td>62</td>\n",
       "      <td>623</td>\n",
       "      <td>7</td>\n",
       "      <td>Äganderätt</td>\n",
       "      <td>5150000</td>\n",
       "      <td>5250000</td>\n",
       "    </tr>\n",
       "    <tr>\n",
       "      <th>5</th>\n",
       "      <td>Diskusvägen 32</td>\n",
       "      <td>2013-07-05</td>\n",
       "      <td>106</td>\n",
       "      <td>50</td>\n",
       "      <td>1022</td>\n",
       "      <td>5</td>\n",
       "      <td>Äganderätt</td>\n",
       "      <td>4925000</td>\n",
       "      <td>5140000</td>\n",
       "    </tr>\n",
       "    <tr>\n",
       "      <th>6</th>\n",
       "      <td>Diskusvägen 12</td>\n",
       "      <td>2013-09-15</td>\n",
       "      <td>80</td>\n",
       "      <td>75</td>\n",
       "      <td>864</td>\n",
       "      <td>5</td>\n",
       "      <td>Äganderätt</td>\n",
       "      <td>4350000</td>\n",
       "      <td>4950000</td>\n",
       "    </tr>\n",
       "    <tr>\n",
       "      <th>8</th>\n",
       "      <td>Maratonvägen 43</td>\n",
       "      <td>2013-09-20</td>\n",
       "      <td>95</td>\n",
       "      <td>48</td>\n",
       "      <td>501</td>\n",
       "      <td>4</td>\n",
       "      <td>Äganderätt</td>\n",
       "      <td>5500000</td>\n",
       "      <td>5400000</td>\n",
       "    </tr>\n",
       "    <tr>\n",
       "      <th>9</th>\n",
       "      <td>Olympiavägen 82</td>\n",
       "      <td>2013-10-03</td>\n",
       "      <td>64</td>\n",
       "      <td>64</td>\n",
       "      <td>476</td>\n",
       "      <td>2</td>\n",
       "      <td>Äganderätt</td>\n",
       "      <td>3160000</td>\n",
       "      <td>3160000</td>\n",
       "    </tr>\n",
       "    <tr>\n",
       "      <th>10</th>\n",
       "      <td>Häringevägen 4</td>\n",
       "      <td>2013-11-21</td>\n",
       "      <td>87</td>\n",
       "      <td>86</td>\n",
       "      <td>485</td>\n",
       "      <td>5</td>\n",
       "      <td>Äganderätt</td>\n",
       "      <td>4950000</td>\n",
       "      <td>5750000</td>\n",
       "    </tr>\n",
       "  </tbody>\n",
       "</table>\n",
       "</div>"
      ],
      "text/plain": [
       "            address   soldDate livingArea extraArea  land rooms  assignment  \\\n",
       "0      Lingvägen 68 2013-04-09         69        69   520     5  Äganderätt   \n",
       "1    Amatörvägen 58 2013-05-10         65        52   464     5  Äganderätt   \n",
       "2    Amatörvägen 11 2013-08-29         65        65   338     4  Äganderätt   \n",
       "3   Olympiavägen 40 2013-05-24         50        50   501     3  Äganderätt   \n",
       "4   Rikstensvägen 6 2013-06-11         93        62   623     7  Äganderätt   \n",
       "5    Diskusvägen 32 2013-07-05        106        50  1022     5  Äganderätt   \n",
       "6    Diskusvägen 12 2013-09-15         80        75   864     5  Äganderätt   \n",
       "8   Maratonvägen 43 2013-09-20         95        48   501     4  Äganderätt   \n",
       "9   Olympiavägen 82 2013-10-03         64        64   476     2  Äganderätt   \n",
       "10   Häringevägen 4 2013-11-21         87        86   485     5  Äganderätt   \n",
       "\n",
       "   askingPrice  soldPrice  \n",
       "0      3400000    3400000  \n",
       "1      3750000    4270000  \n",
       "2      3895000    4250000  \n",
       "3      4200000    4200000  \n",
       "4      5150000    5250000  \n",
       "5      4925000    5140000  \n",
       "6      4350000    4950000  \n",
       "8      5500000    5400000  \n",
       "9      3160000    3160000  \n",
       "10     4950000    5750000  "
      ]
     },
     "execution_count": 429,
     "metadata": {},
     "output_type": "execute_result"
    }
   ],
   "source": [
    "tallkrogen_sold_prices_df.head(10)"
   ]
  },
  {
   "cell_type": "code",
   "execution_count": 430,
   "metadata": {},
   "outputs": [
    {
     "data": {
      "text/plain": [
       "0     2013-04-09\n",
       "1     2013-05-10\n",
       "2     2013-08-29\n",
       "3     2013-05-24\n",
       "4     2013-06-11\n",
       "         ...    \n",
       "215   2020-09-10\n",
       "217   2020-09-13\n",
       "218   2020-08-25\n",
       "219   2020-11-06\n",
       "220   2020-09-24\n",
       "Name: soldDate, Length: 211, dtype: datetime64[ns]"
      ]
     },
     "execution_count": 430,
     "metadata": {},
     "output_type": "execute_result"
    }
   ],
   "source": [
    "tallkrogen_sold_prices_df[\"soldDate\"]"
   ]
  },
  {
   "cell_type": "markdown",
   "metadata": {},
   "source": [
    "### Assingment attribute is either Äganderätt or Tomträtt. As this are categorical datum, we label this numerically,  with Äganderätt being 1 and Tomträtt being 0. This is added in a new attribute named assignment_num"
   ]
  },
  {
   "cell_type": "code",
   "execution_count": 431,
   "metadata": {},
   "outputs": [
    {
     "data": {
      "text/html": [
       "<div>\n",
       "<style scoped>\n",
       "    .dataframe tbody tr th:only-of-type {\n",
       "        vertical-align: middle;\n",
       "    }\n",
       "\n",
       "    .dataframe tbody tr th {\n",
       "        vertical-align: top;\n",
       "    }\n",
       "\n",
       "    .dataframe thead th {\n",
       "        text-align: right;\n",
       "    }\n",
       "</style>\n",
       "<table border=\"1\" class=\"dataframe\">\n",
       "  <thead>\n",
       "    <tr style=\"text-align: right;\">\n",
       "      <th></th>\n",
       "      <th>address</th>\n",
       "      <th>soldDate</th>\n",
       "      <th>livingArea</th>\n",
       "      <th>extraArea</th>\n",
       "      <th>land</th>\n",
       "      <th>rooms</th>\n",
       "      <th>assignment</th>\n",
       "      <th>askingPrice</th>\n",
       "      <th>soldPrice</th>\n",
       "      <th>assignment_num</th>\n",
       "    </tr>\n",
       "  </thead>\n",
       "  <tbody>\n",
       "    <tr>\n",
       "      <th>0</th>\n",
       "      <td>Lingvägen 68</td>\n",
       "      <td>2013-04-09</td>\n",
       "      <td>69</td>\n",
       "      <td>69</td>\n",
       "      <td>520</td>\n",
       "      <td>5</td>\n",
       "      <td>Äganderätt</td>\n",
       "      <td>3400000</td>\n",
       "      <td>3400000</td>\n",
       "      <td>1</td>\n",
       "    </tr>\n",
       "    <tr>\n",
       "      <th>1</th>\n",
       "      <td>Amatörvägen 58</td>\n",
       "      <td>2013-05-10</td>\n",
       "      <td>65</td>\n",
       "      <td>52</td>\n",
       "      <td>464</td>\n",
       "      <td>5</td>\n",
       "      <td>Äganderätt</td>\n",
       "      <td>3750000</td>\n",
       "      <td>4270000</td>\n",
       "      <td>1</td>\n",
       "    </tr>\n",
       "    <tr>\n",
       "      <th>2</th>\n",
       "      <td>Amatörvägen 11</td>\n",
       "      <td>2013-08-29</td>\n",
       "      <td>65</td>\n",
       "      <td>65</td>\n",
       "      <td>338</td>\n",
       "      <td>4</td>\n",
       "      <td>Äganderätt</td>\n",
       "      <td>3895000</td>\n",
       "      <td>4250000</td>\n",
       "      <td>1</td>\n",
       "    </tr>\n",
       "    <tr>\n",
       "      <th>3</th>\n",
       "      <td>Olympiavägen 40</td>\n",
       "      <td>2013-05-24</td>\n",
       "      <td>50</td>\n",
       "      <td>50</td>\n",
       "      <td>501</td>\n",
       "      <td>3</td>\n",
       "      <td>Äganderätt</td>\n",
       "      <td>4200000</td>\n",
       "      <td>4200000</td>\n",
       "      <td>1</td>\n",
       "    </tr>\n",
       "    <tr>\n",
       "      <th>4</th>\n",
       "      <td>Rikstensvägen 6</td>\n",
       "      <td>2013-06-11</td>\n",
       "      <td>93</td>\n",
       "      <td>62</td>\n",
       "      <td>623</td>\n",
       "      <td>7</td>\n",
       "      <td>Äganderätt</td>\n",
       "      <td>5150000</td>\n",
       "      <td>5250000</td>\n",
       "      <td>1</td>\n",
       "    </tr>\n",
       "  </tbody>\n",
       "</table>\n",
       "</div>"
      ],
      "text/plain": [
       "           address   soldDate livingArea extraArea land rooms  assignment  \\\n",
       "0     Lingvägen 68 2013-04-09         69        69  520     5  Äganderätt   \n",
       "1   Amatörvägen 58 2013-05-10         65        52  464     5  Äganderätt   \n",
       "2   Amatörvägen 11 2013-08-29         65        65  338     4  Äganderätt   \n",
       "3  Olympiavägen 40 2013-05-24         50        50  501     3  Äganderätt   \n",
       "4  Rikstensvägen 6 2013-06-11         93        62  623     7  Äganderätt   \n",
       "\n",
       "  askingPrice  soldPrice  assignment_num  \n",
       "0     3400000    3400000               1  \n",
       "1     3750000    4270000               1  \n",
       "2     3895000    4250000               1  \n",
       "3     4200000    4200000               1  \n",
       "4     5150000    5250000               1  "
      ]
     },
     "execution_count": 431,
     "metadata": {},
     "output_type": "execute_result"
    }
   ],
   "source": [
    "assignment_dict = {\"Äganderätt\": 1, \"Tomträtt\": 0}\n",
    "tallkrogen_sold_prices_df['assignment_num'] = tallkrogen_sold_prices_df['assignment']\n",
    "tallkrogen_sold_prices_df['assignment_num'].replace(assignment_dict, inplace=True)\n",
    "\n",
    "\n",
    "tallkrogen_sold_prices_df.head()"
   ]
  },
  {
   "cell_type": "markdown",
   "metadata": {},
   "source": [
    "### Scatter plot of sold date and price\n",
    "We can clearly see a linear regression between sold date and price"
   ]
  },
  {
   "cell_type": "code",
   "execution_count": 432,
   "metadata": {},
   "outputs": [
    {
     "data": {
      "image/png": "[encoded data removed]",
      "text/plain": [
       "<Figure size 1080x720 with 1 Axes>"
      ]
     },
     "metadata": {
      "needs_background": "light"
     },
     "output_type": "display_data"
    }
   ],
   "source": [
    "plt.subplots(figsize=(15,10))\n",
    "plt.scatter(tallkrogen_sold_prices_df['soldDate'], tallkrogen_sold_prices_df['soldPrice'])\n",
    "plt.xlabel(\"Sold Date\")\n",
    "plt.ylabel(\"Sold Price\")\n",
    "plt.show()"
   ]
  },
  {
   "cell_type": "markdown",
   "metadata": {},
   "source": [
    "### Creating a new attribute price per sq meter, which is sold price divided by living area and extra area."
   ]
  },
  {
   "cell_type": "code",
   "execution_count": 433,
   "metadata": {},
   "outputs": [],
   "source": [
    "tallkrogen_sold_prices_df[\"price_per_sq_meter\"] = tallkrogen_sold_prices_df[\"soldPrice\"].astype(int) / (tallkrogen_sold_prices_df[\"livingArea\"].astype(int) + (tallkrogen_sold_prices_df[\"extraArea\"].astype(int)))"
   ]
  },
  {
   "cell_type": "code",
   "execution_count": 434,
   "metadata": {},
   "outputs": [
    {
     "data": {
      "text/plain": [
       "0      3400000\n",
       "1      4270000\n",
       "2      4250000\n",
       "3      4200000\n",
       "4      5250000\n",
       "        ...   \n",
       "215    6200000\n",
       "217    8000000\n",
       "218    8250000\n",
       "219    7800000\n",
       "220    7800000\n",
       "Name: soldPrice, Length: 211, dtype: int64"
      ]
     },
     "execution_count": 434,
     "metadata": {},
     "output_type": "execute_result"
    }
   ],
   "source": [
    "tallkrogen_sold_prices_df[\"soldPrice\"].astype(int)"
   ]
  },
  {
   "cell_type": "code",
   "execution_count": 435,
   "metadata": {},
   "outputs": [
    {
     "data": {
      "text/html": [
       "<div>\n",
       "<style scoped>\n",
       "    .dataframe tbody tr th:only-of-type {\n",
       "        vertical-align: middle;\n",
       "    }\n",
       "\n",
       "    .dataframe tbody tr th {\n",
       "        vertical-align: top;\n",
       "    }\n",
       "\n",
       "    .dataframe thead th {\n",
       "        text-align: right;\n",
       "    }\n",
       "</style>\n",
       "<table border=\"1\" class=\"dataframe\">\n",
       "  <thead>\n",
       "    <tr style=\"text-align: right;\">\n",
       "      <th></th>\n",
       "      <th>address</th>\n",
       "      <th>soldDate</th>\n",
       "      <th>livingArea</th>\n",
       "      <th>extraArea</th>\n",
       "      <th>land</th>\n",
       "      <th>rooms</th>\n",
       "      <th>assignment</th>\n",
       "      <th>askingPrice</th>\n",
       "      <th>soldPrice</th>\n",
       "      <th>assignment_num</th>\n",
       "      <th>price_per_sq_meter</th>\n",
       "    </tr>\n",
       "  </thead>\n",
       "  <tbody>\n",
       "    <tr>\n",
       "      <th>0</th>\n",
       "      <td>Lingvägen 68</td>\n",
       "      <td>2013-04-09</td>\n",
       "      <td>69</td>\n",
       "      <td>69</td>\n",
       "      <td>520</td>\n",
       "      <td>5</td>\n",
       "      <td>Äganderätt</td>\n",
       "      <td>3400000</td>\n",
       "      <td>3400000</td>\n",
       "      <td>1</td>\n",
       "      <td>24637.681159</td>\n",
       "    </tr>\n",
       "    <tr>\n",
       "      <th>1</th>\n",
       "      <td>Amatörvägen 58</td>\n",
       "      <td>2013-05-10</td>\n",
       "      <td>65</td>\n",
       "      <td>52</td>\n",
       "      <td>464</td>\n",
       "      <td>5</td>\n",
       "      <td>Äganderätt</td>\n",
       "      <td>3750000</td>\n",
       "      <td>4270000</td>\n",
       "      <td>1</td>\n",
       "      <td>36495.726496</td>\n",
       "    </tr>\n",
       "    <tr>\n",
       "      <th>2</th>\n",
       "      <td>Amatörvägen 11</td>\n",
       "      <td>2013-08-29</td>\n",
       "      <td>65</td>\n",
       "      <td>65</td>\n",
       "      <td>338</td>\n",
       "      <td>4</td>\n",
       "      <td>Äganderätt</td>\n",
       "      <td>3895000</td>\n",
       "      <td>4250000</td>\n",
       "      <td>1</td>\n",
       "      <td>32692.307692</td>\n",
       "    </tr>\n",
       "    <tr>\n",
       "      <th>3</th>\n",
       "      <td>Olympiavägen 40</td>\n",
       "      <td>2013-05-24</td>\n",
       "      <td>50</td>\n",
       "      <td>50</td>\n",
       "      <td>501</td>\n",
       "      <td>3</td>\n",
       "      <td>Äganderätt</td>\n",
       "      <td>4200000</td>\n",
       "      <td>4200000</td>\n",
       "      <td>1</td>\n",
       "      <td>42000.000000</td>\n",
       "    </tr>\n",
       "    <tr>\n",
       "      <th>4</th>\n",
       "      <td>Rikstensvägen 6</td>\n",
       "      <td>2013-06-11</td>\n",
       "      <td>93</td>\n",
       "      <td>62</td>\n",
       "      <td>623</td>\n",
       "      <td>7</td>\n",
       "      <td>Äganderätt</td>\n",
       "      <td>5150000</td>\n",
       "      <td>5250000</td>\n",
       "      <td>1</td>\n",
       "      <td>33870.967742</td>\n",
       "    </tr>\n",
       "  </tbody>\n",
       "</table>\n",
       "</div>"
      ],
      "text/plain": [
       "           address   soldDate livingArea extraArea land rooms  assignment  \\\n",
       "0     Lingvägen 68 2013-04-09         69        69  520     5  Äganderätt   \n",
       "1   Amatörvägen 58 2013-05-10         65        52  464     5  Äganderätt   \n",
       "2   Amatörvägen 11 2013-08-29         65        65  338     4  Äganderätt   \n",
       "3  Olympiavägen 40 2013-05-24         50        50  501     3  Äganderätt   \n",
       "4  Rikstensvägen 6 2013-06-11         93        62  623     7  Äganderätt   \n",
       "\n",
       "  askingPrice  soldPrice  assignment_num  price_per_sq_meter  \n",
       "0     3400000    3400000               1        24637.681159  \n",
       "1     3750000    4270000               1        36495.726496  \n",
       "2     3895000    4250000               1        32692.307692  \n",
       "3     4200000    4200000               1        42000.000000  \n",
       "4     5150000    5250000               1        33870.967742  "
      ]
     },
     "execution_count": 435,
     "metadata": {},
     "output_type": "execute_result"
    }
   ],
   "source": [
    "tallkrogen_sold_prices_df.head()"
   ]
  },
  {
   "cell_type": "markdown",
   "metadata": {},
   "source": [
    "### Scatter plot of sold date and price per sq meter\n",
    "We can clearly see a linear regression between sold date and price per sq meter"
   ]
  },
  {
   "cell_type": "code",
   "execution_count": 436,
   "metadata": {},
   "outputs": [
    {
     "data": {
      "text/plain": [
       "Text(0, 0.5, 'price_per_sq_meter')"
      ]
     },
     "execution_count": 436,
     "metadata": {},
     "output_type": "execute_result"
    },
    {
     "data": {
      "image/png": "[encoded data removed]",
      "text/plain": [
       "<Figure size 1200x800 with 1 Axes>"
      ]
     },
     "metadata": {
      "needs_background": "light"
     },
     "output_type": "display_data"
    }
   ],
   "source": [
    "plt.figure(figsize=(15,10), dpi=80)\n",
    "plt.scatter(x=tallkrogen_sold_prices_df[\"soldDate\"], y=tallkrogen_sold_prices_df[\"price_per_sq_meter\"])\n",
    "plt.xlabel(\"sold Date\")\n",
    "plt.ylabel(\"price_per_sq_meter\")"
   ]
  },
  {
   "cell_type": "code",
   "execution_count": 437,
   "metadata": {},
   "outputs": [],
   "source": [
    "tallkrogen_sold_prices_2021_df = tallkrogen_sold_prices_df[tallkrogen_sold_prices_df[\"soldDate\"] >= \"2021\"]"
   ]
  },
  {
   "cell_type": "code",
   "execution_count": 438,
   "metadata": {},
   "outputs": [
    {
     "data": {
      "text/plain": [
       "(33, 11)"
      ]
     },
     "execution_count": 438,
     "metadata": {},
     "output_type": "execute_result"
    }
   ],
   "source": [
    "tallkrogen_sold_prices_2021_df.shape"
   ]
  },
  {
   "cell_type": "code",
   "execution_count": 439,
   "metadata": {},
   "outputs": [],
   "source": [
    "X = tallkrogen_sold_prices_df[[\"livingArea\", \"extraArea\", \"land\", \"rooms\"]]\n",
    "y = tallkrogen_sold_prices_df[\"soldPrice\"]\n",
    "reg = LinearRegression().fit(X, y)"
   ]
  },
  {
   "cell_type": "code",
   "execution_count": 440,
   "metadata": {},
   "outputs": [
    {
     "data": {
      "text/plain": [
       "array([7314713.22027064])"
      ]
     },
     "execution_count": 440,
     "metadata": {},
     "output_type": "execute_result"
    }
   ],
   "source": [
    "reg.predict([[92, 51, 336, 5]])"
   ]
  },
  {
   "cell_type": "markdown",
   "metadata": {},
   "source": [
    "### Adding new attribute of sold year so it can be used to create the linear regression model"
   ]
  },
  {
   "cell_type": "code",
   "execution_count": 441,
   "metadata": {},
   "outputs": [],
   "source": [
    "tallkrogen_sold_prices_df[\"soldYear\"] = tallkrogen_sold_prices_df[\"soldDate\"].dt.year\n"
   ]
  },
  {
   "cell_type": "markdown",
   "metadata": {},
   "source": [
    "### Creating a linear regression model with \"livingArea\", \"extraArea\", \"land\", \"rooms\", \"soldYear\" being the features and \"soldPrice\" being the target"
   ]
  },
  {
   "cell_type": "code",
   "execution_count": 442,
   "metadata": {},
   "outputs": [],
   "source": [
    "X = tallkrogen_sold_prices_df[[\"livingArea\", \"extraArea\", \"land\", \"rooms\", \"soldYear\"]]\n",
    "y = tallkrogen_sold_prices_df[\"soldPrice\"]\n",
    "reg = LinearRegression().fit(X, y)"
   ]
  },
  {
   "cell_type": "markdown",
   "metadata": {},
   "source": [
    "### Example prediction using above model"
   ]
  },
  {
   "cell_type": "code",
   "execution_count": 443,
   "metadata": {},
   "outputs": [
    {
     "data": {
      "text/plain": [
       "array([8780851.00628674])"
      ]
     },
     "execution_count": 443,
     "metadata": {},
     "output_type": "execute_result"
    }
   ],
   "source": [
    "reg.predict([[92, 51, 336, 5, 2022]])"
   ]
  },
  {
   "cell_type": "markdown",
   "metadata": {},
   "source": [
    "### Creating a Random Forest Regressor model with \"livingArea\", \"extraArea\", \"land\", \"rooms\", \"soldYear\" being the features and \"soldPrice\" being the target"
   ]
  },
  {
   "cell_type": "code",
   "execution_count": 444,
   "metadata": {},
   "outputs": [
    {
     "data": {
      "text/plain": [
       "RandomForestRegressor(max_depth=2, random_state=0)"
      ]
     },
     "execution_count": 444,
     "metadata": {},
     "output_type": "execute_result"
    }
   ],
   "source": [
    "X = tallkrogen_sold_prices_df[[\"livingArea\", \"extraArea\", \"land\", \"rooms\", \"soldYear\"]]\n",
    "y = tallkrogen_sold_prices_df[\"soldPrice\"]\n",
    "regr = RandomForestRegressor(max_depth=2, random_state=0)\n",
    "regr.fit(X, y)"
   ]
  },
  {
   "cell_type": "markdown",
   "metadata": {},
   "source": [
    "### Example prediction using above model\n"
   ]
  },
  {
   "cell_type": "code",
   "execution_count": 445,
   "metadata": {},
   "outputs": [
    {
     "data": {
      "text/plain": [
       "array([8674116.22550938])"
      ]
     },
     "execution_count": 445,
     "metadata": {},
     "output_type": "execute_result"
    }
   ],
   "source": [
    "regr.predict([[92, 51, 336, 5, 2022]])"
   ]
  },
  {
   "cell_type": "code",
   "execution_count": 446,
   "metadata": {},
   "outputs": [],
   "source": [
    "X = tallkrogen_sold_prices_2021_df[[\"livingArea\", \"extraArea\", \"land\", \"rooms\", \"assignment_num\"]]\n",
    "y = tallkrogen_sold_prices_2021_df[\"soldPrice\"]\n",
    "reg = LinearRegression().fit(X, y)"
   ]
  },
  {
   "cell_type": "code",
   "execution_count": 447,
   "metadata": {},
   "outputs": [
    {
     "data": {
      "text/plain": [
       "array([9094499.56454024])"
      ]
     },
     "execution_count": 447,
     "metadata": {},
     "output_type": "execute_result"
    }
   ],
   "source": [
    "reg.predict([[92, 51, 336, 5, 1]])"
   ]
  },
  {
   "cell_type": "code",
   "execution_count": 448,
   "metadata": {},
   "outputs": [
    {
     "data": {
      "text/plain": [
       "Text(0, 0.5, 'Date')"
      ]
     },
     "execution_count": 448,
     "metadata": {},
     "output_type": "execute_result"
    },
    {
     "data": {
      "image/png": "[encoded data removed]",
      "text/plain": [
       "<Figure size 1600x800 with 1 Axes>"
      ]
     },
     "metadata": {
      "needs_background": "light"
     },
     "output_type": "display_data"
    }
   ],
   "source": [
    "plt.figure(figsize=(20, 10), dpi=80)\n",
    "plt.scatter(x=tallkrogen_sold_prices_df[\"soldPrice\"], y=tallkrogen_sold_prices_df[\"soldDate\"])\n",
    "plt.xlabel(\"Price in SEK\")\n",
    "plt.ylabel(\"Date\")"
   ]
  },
  {
   "cell_type": "code",
   "execution_count": null,
   "metadata": {},
   "outputs": [],
   "source": []
  },
  {
   "cell_type": "code",
   "execution_count": null,
   "metadata": {},
   "outputs": [],
   "source": []
  },
  {
   "cell_type": "code",
   "execution_count": 449,
   "metadata": {},
   "outputs": [],
   "source": [
    "y_predict = reg.predict(X)\n"
   ]
  },
  {
   "cell_type": "code",
   "execution_count": null,
   "metadata": {},
   "outputs": [],
   "source": []
  },
  {
   "cell_type": "code",
   "execution_count": null,
   "metadata": {},
   "outputs": [],
   "source": [
    "\n"
   ]
  },
  {
   "cell_type": "code",
   "execution_count": 450,
   "metadata": {},
   "outputs": [],
   "source": [
    "X = tallkrogen_sold_prices_df[[\"soldPrice\"]]\n",
    "y = tallkrogen_sold_prices_df[\"soldDate\"]\n",
    "reg = LinearRegression().fit(X, y)"
   ]
  },
  {
   "cell_type": "code",
   "execution_count": 451,
   "metadata": {},
   "outputs": [],
   "source": [
    "y_predict = reg.predict(X)"
   ]
  },
  {
   "cell_type": "code",
   "execution_count": 452,
   "metadata": {},
   "outputs": [
    {
     "data": {
      "text/plain": [
       "[<matplotlib.lines.Line2D at 0x7fd13ac6b6d0>]"
      ]
     },
     "execution_count": 452,
     "metadata": {},
     "output_type": "execute_result"
    },
    {
     "ename": "ValueError",
     "evalue": "view limit minimum -8.288102887338e+16 is less than 1 and is an invalid Matplotlib date value. This often happens if you pass a non-datetime value to an axis that has datetime units",
     "output_type": "error",
     "traceback": [
      "\u001b[0;31m---------------------------------------------------------------------------\u001b[0m",
      "\u001b[0;31mValueError\u001b[0m                                Traceback (most recent call last)",
      "\u001b[0;32m~/opt/anaconda3/lib/python3.8/site-packages/ipykernel/pylab/backend_inline.py\u001b[0m in \u001b[0;36mshow\u001b[0;34m(close, block)\u001b[0m\n\u001b[1;32m     41\u001b[0m             display(\n\u001b[1;32m     42\u001b[0m                 \u001b[0mfigure_manager\u001b[0m\u001b[0;34m.\u001b[0m\u001b[0mcanvas\u001b[0m\u001b[0;34m.\u001b[0m\u001b[0mfigure\u001b[0m\u001b[0;34m,\u001b[0m\u001b[0;34m\u001b[0m\u001b[0;34m\u001b[0m\u001b[0m\n\u001b[0;32m---> 43\u001b[0;31m                 \u001b[0mmetadata\u001b[0m\u001b[0;34m=\u001b[0m\u001b[0m_fetch_figure_metadata\u001b[0m\u001b[0;34m(\u001b[0m\u001b[0mfigure_manager\u001b[0m\u001b[0;34m.\u001b[0m\u001b[0mcanvas\u001b[0m\u001b[0;34m.\u001b[0m\u001b[0mfigure\u001b[0m\u001b[0;34m)\u001b[0m\u001b[0;34m\u001b[0m\u001b[0;34m\u001b[0m\u001b[0m\n\u001b[0m\u001b[1;32m     44\u001b[0m             )\n\u001b[1;32m     45\u001b[0m     \u001b[0;32mfinally\u001b[0m\u001b[0;34m:\u001b[0m\u001b[0;34m\u001b[0m\u001b[0;34m\u001b[0m\u001b[0m\n",
      "\u001b[0;32m~/opt/anaconda3/lib/python3.8/site-packages/ipykernel/pylab/backend_inline.py\u001b[0m in \u001b[0;36m_fetch_figure_metadata\u001b[0;34m(fig)\u001b[0m\n\u001b[1;32m    178\u001b[0m     \u001b[0;32mif\u001b[0m \u001b[0m_is_transparent\u001b[0m\u001b[0;34m(\u001b[0m\u001b[0mfig\u001b[0m\u001b[0;34m.\u001b[0m\u001b[0mget_facecolor\u001b[0m\u001b[0;34m(\u001b[0m\u001b[0;34m)\u001b[0m\u001b[0;34m)\u001b[0m\u001b[0;34m:\u001b[0m\u001b[0;34m\u001b[0m\u001b[0;34m\u001b[0m\u001b[0m\n\u001b[1;32m    179\u001b[0m         \u001b[0;31m# the background is transparent\u001b[0m\u001b[0;34m\u001b[0m\u001b[0;34m\u001b[0m\u001b[0;34m\u001b[0m\u001b[0m\n\u001b[0;32m--> 180\u001b[0;31m         ticksLight = _is_light([label.get_color()\n\u001b[0m\u001b[1;32m    181\u001b[0m                                 \u001b[0;32mfor\u001b[0m \u001b[0maxes\u001b[0m \u001b[0;32min\u001b[0m \u001b[0mfig\u001b[0m\u001b[0;34m.\u001b[0m\u001b[0maxes\u001b[0m\u001b[0;34m\u001b[0m\u001b[0;34m\u001b[0m\u001b[0m\n\u001b[1;32m    182\u001b[0m                                 \u001b[0;32mfor\u001b[0m \u001b[0maxis\u001b[0m \u001b[0;32min\u001b[0m \u001b[0;34m(\u001b[0m\u001b[0maxes\u001b[0m\u001b[0;34m.\u001b[0m\u001b[0mxaxis\u001b[0m\u001b[0;34m,\u001b[0m \u001b[0maxes\u001b[0m\u001b[0;34m.\u001b[0m\u001b[0myaxis\u001b[0m\u001b[0;34m)\u001b[0m\u001b[0;34m\u001b[0m\u001b[0;34m\u001b[0m\u001b[0m\n",
      "\u001b[0;32m~/opt/anaconda3/lib/python3.8/site-packages/ipykernel/pylab/backend_inline.py\u001b[0m in \u001b[0;36m<listcomp>\u001b[0;34m(.0)\u001b[0m\n\u001b[1;32m    181\u001b[0m                                 \u001b[0;32mfor\u001b[0m \u001b[0maxes\u001b[0m \u001b[0;32min\u001b[0m \u001b[0mfig\u001b[0m\u001b[0;34m.\u001b[0m\u001b[0maxes\u001b[0m\u001b[0;34m\u001b[0m\u001b[0;34m\u001b[0m\u001b[0m\n\u001b[1;32m    182\u001b[0m                                 \u001b[0;32mfor\u001b[0m \u001b[0maxis\u001b[0m \u001b[0;32min\u001b[0m \u001b[0;34m(\u001b[0m\u001b[0maxes\u001b[0m\u001b[0;34m.\u001b[0m\u001b[0mxaxis\u001b[0m\u001b[0;34m,\u001b[0m \u001b[0maxes\u001b[0m\u001b[0;34m.\u001b[0m\u001b[0myaxis\u001b[0m\u001b[0;34m)\u001b[0m\u001b[0;34m\u001b[0m\u001b[0;34m\u001b[0m\u001b[0m\n\u001b[0;32m--> 183\u001b[0;31m                                 for label in axis.get_ticklabels()])\n\u001b[0m\u001b[1;32m    184\u001b[0m         \u001b[0;32mif\u001b[0m \u001b[0mticksLight\u001b[0m\u001b[0;34m.\u001b[0m\u001b[0msize\u001b[0m \u001b[0;32mand\u001b[0m \u001b[0;34m(\u001b[0m\u001b[0mticksLight\u001b[0m \u001b[0;34m==\u001b[0m \u001b[0mticksLight\u001b[0m\u001b[0;34m[\u001b[0m\u001b[0;36m0\u001b[0m\u001b[0;34m]\u001b[0m\u001b[0;34m)\u001b[0m\u001b[0;34m.\u001b[0m\u001b[0mall\u001b[0m\u001b[0;34m(\u001b[0m\u001b[0;34m)\u001b[0m\u001b[0;34m:\u001b[0m\u001b[0;34m\u001b[0m\u001b[0;34m\u001b[0m\u001b[0m\n\u001b[1;32m    185\u001b[0m             \u001b[0;31m# there are one or more tick labels, all with the same lightness\u001b[0m\u001b[0;34m\u001b[0m\u001b[0;34m\u001b[0m\u001b[0;34m\u001b[0m\u001b[0m\n",
      "\u001b[0;32m~/opt/anaconda3/lib/python3.8/site-packages/matplotlib/axis.py\u001b[0m in \u001b[0;36mget_ticklabels\u001b[0;34m(self, minor, which)\u001b[0m\n\u001b[1;32m   1318\u001b[0m         \u001b[0;32mif\u001b[0m \u001b[0mminor\u001b[0m\u001b[0;34m:\u001b[0m\u001b[0;34m\u001b[0m\u001b[0;34m\u001b[0m\u001b[0m\n\u001b[1;32m   1319\u001b[0m             \u001b[0;32mreturn\u001b[0m \u001b[0mself\u001b[0m\u001b[0;34m.\u001b[0m\u001b[0mget_minorticklabels\u001b[0m\u001b[0;34m(\u001b[0m\u001b[0;34m)\u001b[0m\u001b[0;34m\u001b[0m\u001b[0;34m\u001b[0m\u001b[0m\n\u001b[0;32m-> 1320\u001b[0;31m         \u001b[0;32mreturn\u001b[0m \u001b[0mself\u001b[0m\u001b[0;34m.\u001b[0m\u001b[0mget_majorticklabels\u001b[0m\u001b[0;34m(\u001b[0m\u001b[0;34m)\u001b[0m\u001b[0;34m\u001b[0m\u001b[0;34m\u001b[0m\u001b[0m\n\u001b[0m\u001b[1;32m   1321\u001b[0m \u001b[0;34m\u001b[0m\u001b[0m\n\u001b[1;32m   1322\u001b[0m     \u001b[0;32mdef\u001b[0m \u001b[0mget_majorticklines\u001b[0m\u001b[0;34m(\u001b[0m\u001b[0mself\u001b[0m\u001b[0;34m)\u001b[0m\u001b[0;34m:\u001b[0m\u001b[0;34m\u001b[0m\u001b[0;34m\u001b[0m\u001b[0m\n",
      "\u001b[0;32m~/opt/anaconda3/lib/python3.8/site-packages/matplotlib/axis.py\u001b[0m in \u001b[0;36mget_majorticklabels\u001b[0;34m(self)\u001b[0m\n\u001b[1;32m   1274\u001b[0m     \u001b[0;32mdef\u001b[0m \u001b[0mget_majorticklabels\u001b[0m\u001b[0;34m(\u001b[0m\u001b[0mself\u001b[0m\u001b[0;34m)\u001b[0m\u001b[0;34m:\u001b[0m\u001b[0;34m\u001b[0m\u001b[0;34m\u001b[0m\u001b[0m\n\u001b[1;32m   1275\u001b[0m         \u001b[0;34m'Return a list of Text instances for the major ticklabels.'\u001b[0m\u001b[0;34m\u001b[0m\u001b[0;34m\u001b[0m\u001b[0m\n\u001b[0;32m-> 1276\u001b[0;31m         \u001b[0mticks\u001b[0m \u001b[0;34m=\u001b[0m \u001b[0mself\u001b[0m\u001b[0;34m.\u001b[0m\u001b[0mget_major_ticks\u001b[0m\u001b[0;34m(\u001b[0m\u001b[0;34m)\u001b[0m\u001b[0;34m\u001b[0m\u001b[0;34m\u001b[0m\u001b[0m\n\u001b[0m\u001b[1;32m   1277\u001b[0m         \u001b[0mlabels1\u001b[0m \u001b[0;34m=\u001b[0m \u001b[0;34m[\u001b[0m\u001b[0mtick\u001b[0m\u001b[0;34m.\u001b[0m\u001b[0mlabel1\u001b[0m \u001b[0;32mfor\u001b[0m \u001b[0mtick\u001b[0m \u001b[0;32min\u001b[0m \u001b[0mticks\u001b[0m \u001b[0;32mif\u001b[0m \u001b[0mtick\u001b[0m\u001b[0;34m.\u001b[0m\u001b[0mlabel1\u001b[0m\u001b[0;34m.\u001b[0m\u001b[0mget_visible\u001b[0m\u001b[0;34m(\u001b[0m\u001b[0;34m)\u001b[0m\u001b[0;34m]\u001b[0m\u001b[0;34m\u001b[0m\u001b[0;34m\u001b[0m\u001b[0m\n\u001b[1;32m   1278\u001b[0m         \u001b[0mlabels2\u001b[0m \u001b[0;34m=\u001b[0m \u001b[0;34m[\u001b[0m\u001b[0mtick\u001b[0m\u001b[0;34m.\u001b[0m\u001b[0mlabel2\u001b[0m \u001b[0;32mfor\u001b[0m \u001b[0mtick\u001b[0m \u001b[0;32min\u001b[0m \u001b[0mticks\u001b[0m \u001b[0;32mif\u001b[0m \u001b[0mtick\u001b[0m\u001b[0;34m.\u001b[0m\u001b[0mlabel2\u001b[0m\u001b[0;34m.\u001b[0m\u001b[0mget_visible\u001b[0m\u001b[0;34m(\u001b[0m\u001b[0;34m)\u001b[0m\u001b[0;34m]\u001b[0m\u001b[0;34m\u001b[0m\u001b[0;34m\u001b[0m\u001b[0m\n",
      "\u001b[0;32m~/opt/anaconda3/lib/python3.8/site-packages/matplotlib/axis.py\u001b[0m in \u001b[0;36mget_major_ticks\u001b[0;34m(self, numticks)\u001b[0m\n\u001b[1;32m   1429\u001b[0m         \u001b[0;34m'Get the tick instances; grow as necessary.'\u001b[0m\u001b[0;34m\u001b[0m\u001b[0;34m\u001b[0m\u001b[0m\n\u001b[1;32m   1430\u001b[0m         \u001b[0;32mif\u001b[0m \u001b[0mnumticks\u001b[0m \u001b[0;32mis\u001b[0m \u001b[0;32mNone\u001b[0m\u001b[0;34m:\u001b[0m\u001b[0;34m\u001b[0m\u001b[0;34m\u001b[0m\u001b[0m\n\u001b[0;32m-> 1431\u001b[0;31m             \u001b[0mnumticks\u001b[0m \u001b[0;34m=\u001b[0m \u001b[0mlen\u001b[0m\u001b[0;34m(\u001b[0m\u001b[0mself\u001b[0m\u001b[0;34m.\u001b[0m\u001b[0mget_majorticklocs\u001b[0m\u001b[0;34m(\u001b[0m\u001b[0;34m)\u001b[0m\u001b[0;34m)\u001b[0m\u001b[0;34m\u001b[0m\u001b[0;34m\u001b[0m\u001b[0m\n\u001b[0m\u001b[1;32m   1432\u001b[0m \u001b[0;34m\u001b[0m\u001b[0m\n\u001b[1;32m   1433\u001b[0m         \u001b[0;32mwhile\u001b[0m \u001b[0mlen\u001b[0m\u001b[0;34m(\u001b[0m\u001b[0mself\u001b[0m\u001b[0;34m.\u001b[0m\u001b[0mmajorTicks\u001b[0m\u001b[0;34m)\u001b[0m \u001b[0;34m<\u001b[0m \u001b[0mnumticks\u001b[0m\u001b[0;34m:\u001b[0m\u001b[0;34m\u001b[0m\u001b[0;34m\u001b[0m\u001b[0m\n",
      "\u001b[0;32m~/opt/anaconda3/lib/python3.8/site-packages/matplotlib/axis.py\u001b[0m in \u001b[0;36mget_majorticklocs\u001b[0;34m(self)\u001b[0m\n\u001b[1;32m   1346\u001b[0m     \u001b[0;32mdef\u001b[0m \u001b[0mget_majorticklocs\u001b[0m\u001b[0;34m(\u001b[0m\u001b[0mself\u001b[0m\u001b[0;34m)\u001b[0m\u001b[0;34m:\u001b[0m\u001b[0;34m\u001b[0m\u001b[0;34m\u001b[0m\u001b[0m\n\u001b[1;32m   1347\u001b[0m         \u001b[0;34m\"\"\"Get the array of major tick locations in data coordinates.\"\"\"\u001b[0m\u001b[0;34m\u001b[0m\u001b[0;34m\u001b[0m\u001b[0m\n\u001b[0;32m-> 1348\u001b[0;31m         \u001b[0;32mreturn\u001b[0m \u001b[0mself\u001b[0m\u001b[0;34m.\u001b[0m\u001b[0mmajor\u001b[0m\u001b[0;34m.\u001b[0m\u001b[0mlocator\u001b[0m\u001b[0;34m(\u001b[0m\u001b[0;34m)\u001b[0m\u001b[0;34m\u001b[0m\u001b[0;34m\u001b[0m\u001b[0m\n\u001b[0m\u001b[1;32m   1349\u001b[0m \u001b[0;34m\u001b[0m\u001b[0m\n\u001b[1;32m   1350\u001b[0m     \u001b[0;32mdef\u001b[0m \u001b[0mget_minorticklocs\u001b[0m\u001b[0;34m(\u001b[0m\u001b[0mself\u001b[0m\u001b[0;34m)\u001b[0m\u001b[0;34m:\u001b[0m\u001b[0;34m\u001b[0m\u001b[0;34m\u001b[0m\u001b[0m\n",
      "\u001b[0;32m~/opt/anaconda3/lib/python3.8/site-packages/matplotlib/dates.py\u001b[0m in \u001b[0;36m__call__\u001b[0;34m(self)\u001b[0m\n\u001b[1;32m   1336\u001b[0m     \u001b[0;32mdef\u001b[0m \u001b[0m__call__\u001b[0m\u001b[0;34m(\u001b[0m\u001b[0mself\u001b[0m\u001b[0;34m)\u001b[0m\u001b[0;34m:\u001b[0m\u001b[0;34m\u001b[0m\u001b[0;34m\u001b[0m\u001b[0m\n\u001b[1;32m   1337\u001b[0m         \u001b[0;34m'Return the locations of the ticks'\u001b[0m\u001b[0;34m\u001b[0m\u001b[0;34m\u001b[0m\u001b[0m\n\u001b[0;32m-> 1338\u001b[0;31m         \u001b[0mself\u001b[0m\u001b[0;34m.\u001b[0m\u001b[0mrefresh\u001b[0m\u001b[0;34m(\u001b[0m\u001b[0;34m)\u001b[0m\u001b[0;34m\u001b[0m\u001b[0;34m\u001b[0m\u001b[0m\n\u001b[0m\u001b[1;32m   1339\u001b[0m         \u001b[0;32mreturn\u001b[0m \u001b[0mself\u001b[0m\u001b[0;34m.\u001b[0m\u001b[0m_locator\u001b[0m\u001b[0;34m(\u001b[0m\u001b[0;34m)\u001b[0m\u001b[0;34m\u001b[0m\u001b[0;34m\u001b[0m\u001b[0m\n\u001b[1;32m   1340\u001b[0m \u001b[0;34m\u001b[0m\u001b[0m\n",
      "\u001b[0;32m~/opt/anaconda3/lib/python3.8/site-packages/matplotlib/dates.py\u001b[0m in \u001b[0;36mrefresh\u001b[0;34m(self)\u001b[0m\n\u001b[1;32m   1362\u001b[0m     \u001b[0;32mdef\u001b[0m \u001b[0mrefresh\u001b[0m\u001b[0;34m(\u001b[0m\u001b[0mself\u001b[0m\u001b[0;34m)\u001b[0m\u001b[0;34m:\u001b[0m\u001b[0;34m\u001b[0m\u001b[0;34m\u001b[0m\u001b[0m\n\u001b[1;32m   1363\u001b[0m         \u001b[0;31m# docstring inherited\u001b[0m\u001b[0;34m\u001b[0m\u001b[0;34m\u001b[0m\u001b[0;34m\u001b[0m\u001b[0m\n\u001b[0;32m-> 1364\u001b[0;31m         \u001b[0mdmin\u001b[0m\u001b[0;34m,\u001b[0m \u001b[0mdmax\u001b[0m \u001b[0;34m=\u001b[0m \u001b[0mself\u001b[0m\u001b[0;34m.\u001b[0m\u001b[0mviewlim_to_dt\u001b[0m\u001b[0;34m(\u001b[0m\u001b[0;34m)\u001b[0m\u001b[0;34m\u001b[0m\u001b[0;34m\u001b[0m\u001b[0m\n\u001b[0m\u001b[1;32m   1365\u001b[0m         \u001b[0mself\u001b[0m\u001b[0;34m.\u001b[0m\u001b[0m_locator\u001b[0m \u001b[0;34m=\u001b[0m \u001b[0mself\u001b[0m\u001b[0;34m.\u001b[0m\u001b[0mget_locator\u001b[0m\u001b[0;34m(\u001b[0m\u001b[0mdmin\u001b[0m\u001b[0;34m,\u001b[0m \u001b[0mdmax\u001b[0m\u001b[0;34m)\u001b[0m\u001b[0;34m\u001b[0m\u001b[0;34m\u001b[0m\u001b[0m\n\u001b[1;32m   1366\u001b[0m \u001b[0;34m\u001b[0m\u001b[0m\n",
      "\u001b[0;32m~/opt/anaconda3/lib/python3.8/site-packages/matplotlib/dates.py\u001b[0m in \u001b[0;36mviewlim_to_dt\u001b[0;34m(self)\u001b[0m\n\u001b[1;32m   1092\u001b[0m             \u001b[0mvmin\u001b[0m\u001b[0;34m,\u001b[0m \u001b[0mvmax\u001b[0m \u001b[0;34m=\u001b[0m \u001b[0mvmax\u001b[0m\u001b[0;34m,\u001b[0m \u001b[0mvmin\u001b[0m\u001b[0;34m\u001b[0m\u001b[0;34m\u001b[0m\u001b[0m\n\u001b[1;32m   1093\u001b[0m         \u001b[0;32mif\u001b[0m \u001b[0mvmin\u001b[0m \u001b[0;34m<\u001b[0m \u001b[0;36m1\u001b[0m\u001b[0;34m:\u001b[0m\u001b[0;34m\u001b[0m\u001b[0;34m\u001b[0m\u001b[0m\n\u001b[0;32m-> 1094\u001b[0;31m             raise ValueError('view limit minimum {} is less than 1 and '\n\u001b[0m\u001b[1;32m   1095\u001b[0m                              \u001b[0;34m'is an invalid Matplotlib date value. This '\u001b[0m\u001b[0;34m\u001b[0m\u001b[0;34m\u001b[0m\u001b[0m\n\u001b[1;32m   1096\u001b[0m                              \u001b[0;34m'often happens if you pass a non-datetime '\u001b[0m\u001b[0;34m\u001b[0m\u001b[0;34m\u001b[0m\u001b[0m\n",
      "\u001b[0;31mValueError\u001b[0m: view limit minimum -8.288102887338e+16 is less than 1 and is an invalid Matplotlib date value. This often happens if you pass a non-datetime value to an axis that has datetime units"
     ]
    }
   ],
   "source": [
    "plt.figure(figsize=(20, 10), dpi=80)\n",
    "plt.scatter(x=tallkrogen_sold_prices_df[\"soldPrice\"], y=tallkrogen_sold_prices_df[\"soldDate\"])\n",
    "plt.xlabel(\"Price in SEK\")\n",
    "plt.ylabel(\"Date\")\n",
    "plt.plot(X[\"soldPrice\"], y_predict, '-r', label='linear regression')"
   ]
  },
  {
   "cell_type": "markdown",
   "metadata": {},
   "source": [
    "## "
   ]
  },
  {
   "cell_type": "markdown",
   "metadata": {},
   "source": [
    "## Regression Models"
   ]
  },
  {
   "cell_type": "markdown",
   "metadata": {},
   "source": [
    "### Helper function to build and train models "
   ]
  },
  {
   "cell_type": "code",
   "execution_count": 453,
   "metadata": {},
   "outputs": [],
   "source": [
    "def build_and_train_model(data, target_name, unreq_cols, fn):\n",
    "    \n",
    "    drop_cols = [target_name, *unreq_cols] \n",
    "    \n",
    "    X = data.drop(drop_cols, axis=1)\n",
    "    Y = data[target_name]\n",
    "    \n",
    "    x_train, x_test, y_train, y_test = \\\n",
    "        train_test_split(X, Y, test_size = 0.2, random_state=0)\n",
    "\n",
    "    model = fn(x_train, y_train)\n",
    "    \n",
    "    score = model.score(x_train, y_train)\n",
    "    print(\"Training Score : \", score)\n",
    "\n",
    "    y_pred = model.predict(x_test)\n",
    "    r_score = r2_score(y_test, y_pred)\n",
    "    print(\"Testing Score : \", r_score)\n",
    "    \n",
    "    return {'model' : model, \n",
    "            'x_train' : x_train, 'x_test' : x_test,\n",
    "            'y_train' : y_train, 'y_test' : y_test, \n",
    "            'y_pred' : y_pred\n",
    "           }"
   ]
  },
  {
   "cell_type": "markdown",
   "metadata": {},
   "source": [
    "### Linear Regression"
   ]
  },
  {
   "cell_type": "code",
   "execution_count": 514,
   "metadata": {},
   "outputs": [],
   "source": [
    "def linear_model(x_train, y_train):\n",
    "    \n",
    "    print(\"Linear Regression\")\n",
    "    linear_regression = LinearRegression()\n",
    "    print(x_train)\n",
    "    print(y_train)\n",
    "    linear_regression.fit(x_train, y_train)\n",
    "    \n",
    "    return linear_regression"
   ]
  },
  {
   "cell_type": "code",
   "execution_count": 515,
   "metadata": {},
   "outputs": [
    {
     "name": "stdout",
     "output_type": "stream",
     "text": [
      "Linear Regression\n",
      "    livingArea extraArea land rooms askingPrice  assignment_num  \\\n",
      "23          66        66  551     5     6500000               1   \n",
      "163         69        69  491     4     4350000               1   \n",
      "46          68        68  553     4     9100000               1   \n",
      "113        104        65  578     5     7995000               1   \n",
      "4           93        62  623     7     5150000               1   \n",
      "..         ...       ...  ...   ...         ...             ...   \n",
      "69          64        64  454     4     4575000               1   \n",
      "200         62        62  531     4     5995000               1   \n",
      "123         90        62  578     5     6995000               1   \n",
      "48          63        63  437     6     7995000               1   \n",
      "179        138        60  560     7     5500000               1   \n",
      "\n",
      "     price_per_sq_meter  soldYear  \n",
      "23         49242.424242      2019  \n",
      "163        28985.507246      2014  \n",
      "46         66911.764706      2022  \n",
      "113        47337.278107      2018  \n",
      "4          33870.967742      2013  \n",
      "..                  ...       ...  \n",
      "69         47656.250000      2015  \n",
      "200        54435.483871      2021  \n",
      "123        50000.000000      2020  \n",
      "48         75396.825397      2021  \n",
      "179        30303.030303      2015  \n",
      "\n",
      "[168 rows x 8 columns]\n",
      "23     6500000\n",
      "163    4000000\n",
      "46     9100000\n",
      "113    8000000\n",
      "4      5250000\n",
      "        ...   \n",
      "69     6100000\n",
      "200    6750000\n",
      "123    7600000\n",
      "48     9500000\n",
      "179    6000000\n",
      "Name: soldPrice, Length: 168, dtype: int64\n",
      "Training Score :  0.9647268529741208\n",
      "Testing Score :  0.9642931067918568\n"
     ]
    }
   ],
   "source": [
    "linear_reg = build_and_train_model(tallkrogen_sold_prices_df, \"soldPrice\", [\"address\", \"soldDate\", \"assignment\"], linear_model)"
   ]
  },
  {
   "cell_type": "markdown",
   "metadata": {},
   "source": [
    "### Lasso Regression\n"
   ]
  },
  {
   "cell_type": "code",
   "execution_count": 456,
   "metadata": {},
   "outputs": [],
   "source": [
    "def lasso_model(x_train, y_train):\n",
    "    \n",
    "    print(\"Lasso Regression\")\n",
    "    lasso_regression = Lasso(alpha=0.8, max_iter=10000)\n",
    "    \n",
    "    lasso_regression.fit(x_train, y_train)\n",
    "    \n",
    "    return lasso_regression"
   ]
  },
  {
   "cell_type": "code",
   "execution_count": 457,
   "metadata": {},
   "outputs": [
    {
     "name": "stdout",
     "output_type": "stream",
     "text": [
      "Lasso Regression\n",
      "Training Score :  0.964726852965034\n",
      "Testing Score :  0.9642933592810186\n"
     ]
    }
   ],
   "source": [
    "lasso_reg = build_and_train_model(tallkrogen_sold_prices_df, \"soldPrice\", [\"address\", \"soldDate\", \"assignment\"], lasso_model)"
   ]
  },
  {
   "cell_type": "markdown",
   "metadata": {},
   "source": [
    "### Ridge Regression\n"
   ]
  },
  {
   "cell_type": "code",
   "execution_count": 458,
   "metadata": {},
   "outputs": [],
   "source": [
    "def ridge_model(x_train, y_train):\n",
    "    \n",
    "    print(\"Ridge Regression\")\n",
    "    ridge_regression = Ridge(alpha=0.9)\n",
    "    \n",
    "    ridge_regression.fit(x_train, y_train)\n",
    "    \n",
    "    return ridge_regression"
   ]
  },
  {
   "cell_type": "code",
   "execution_count": 459,
   "metadata": {},
   "outputs": [
    {
     "name": "stdout",
     "output_type": "stream",
     "text": [
      "Ridge Regression\n",
      "Training Score :  0.9647267018124894\n",
      "Testing Score :  0.9643155194230477\n"
     ]
    }
   ],
   "source": [
    "ridge_reg = build_and_train_model(tallkrogen_sold_prices_df, \"soldPrice\", [\"address\", \"soldDate\", \"assignment\"], ridge_model)"
   ]
  },
  {
   "cell_type": "markdown",
   "metadata": {},
   "source": [
    "### Random Forest Regression\n"
   ]
  },
  {
   "cell_type": "code",
   "execution_count": 460,
   "metadata": {},
   "outputs": [],
   "source": [
    "def random_forest_model(x_train, y_train):\n",
    "    \n",
    "    print(\"Random Forest Regression\")\n",
    "    randon_forest_regression = RandomForestRegressor(max_depth=2, random_state=0)\n",
    "    \n",
    "    randon_forest_regression.fit(x_train, y_train)\n",
    "    \n",
    "    return randon_forest_regression\n"
   ]
  },
  {
   "cell_type": "code",
   "execution_count": 461,
   "metadata": {},
   "outputs": [
    {
     "name": "stdout",
     "output_type": "stream",
     "text": [
      "Random Forest Regression\n",
      "Training Score :  0.8278105765498306\n",
      "Testing Score :  0.8212459314690881\n"
     ]
    }
   ],
   "source": [
    "random_forest_reg = build_and_train_model(tallkrogen_sold_prices_df, \"soldPrice\", [\"address\", \"soldDate\", \"assignment\"], random_forest_model)"
   ]
  },
  {
   "cell_type": "markdown",
   "metadata": {},
   "source": [
    "###  Stochastic Gradient Descent Regression"
   ]
  },
  {
   "cell_type": "code",
   "execution_count": 462,
   "metadata": {},
   "outputs": [],
   "source": [
    "def sgd_model(x_train, y_train):\n",
    "    \n",
    "    print(\"SGD Regression\")\n",
    "    sgd_regression = SGDRegressor(max_iter=2000)\n",
    "    \n",
    "    sgd_regression.fit(x_train, y_train)\n",
    "    \n",
    "    return sgd_regression"
   ]
  },
  {
   "cell_type": "code",
   "execution_count": 463,
   "metadata": {},
   "outputs": [
    {
     "name": "stdout",
     "output_type": "stream",
     "text": [
      "SGD Regression\n",
      "Training Score :  -2.0140565269737513e+32\n",
      "Testing Score :  -2.0087774025319908e+32\n"
     ]
    }
   ],
   "source": [
    "sgd_reg = build_and_train_model(tallkrogen_sold_prices_df, \"soldPrice\", [\"address\", \"soldDate\", \"assignment\"], sgd_model)"
   ]
  },
  {
   "cell_type": "code",
   "execution_count": 524,
   "metadata": {},
   "outputs": [],
   "source": [
    "tallkrogen_for_sale_df = pd.read_json(\"../data/forSaleData.json\", dtype={\n",
    "    'address': \"string\",\n",
    "    'livingArea': int,\n",
    "    'extraArea': int,\n",
    "    'land': int,\n",
    "    'rooms': int,\n",
    "    'houseType': \"string\",\n",
    "    'assignment_num': int,\n",
    "    'askingPrice': int,\n",
    "    'soldYear': int\n",
    "})"
   ]
  },
  {
   "cell_type": "code",
   "execution_count": 525,
   "metadata": {},
   "outputs": [
    {
     "data": {
      "text/html": [
       "<div>\n",
       "<style scoped>\n",
       "    .dataframe tbody tr th:only-of-type {\n",
       "        vertical-align: middle;\n",
       "    }\n",
       "\n",
       "    .dataframe tbody tr th {\n",
       "        vertical-align: top;\n",
       "    }\n",
       "\n",
       "    .dataframe thead th {\n",
       "        text-align: right;\n",
       "    }\n",
       "</style>\n",
       "<table border=\"1\" class=\"dataframe\">\n",
       "  <thead>\n",
       "    <tr style=\"text-align: right;\">\n",
       "      <th></th>\n",
       "      <th>livingArea</th>\n",
       "      <th>extraArea</th>\n",
       "      <th>land</th>\n",
       "      <th>rooms</th>\n",
       "      <th>assignment_num</th>\n",
       "      <th>askingPrice</th>\n",
       "      <th>soldYear</th>\n",
       "    </tr>\n",
       "  </thead>\n",
       "  <tbody>\n",
       "    <tr>\n",
       "      <th>0</th>\n",
       "      <td>83</td>\n",
       "      <td>68</td>\n",
       "      <td>498</td>\n",
       "      <td>6</td>\n",
       "      <td>1</td>\n",
       "      <td>8495000</td>\n",
       "      <td>2020</td>\n",
       "    </tr>\n",
       "    <tr>\n",
       "      <th>1</th>\n",
       "      <td>72</td>\n",
       "      <td>54</td>\n",
       "      <td>464</td>\n",
       "      <td>5</td>\n",
       "      <td>1</td>\n",
       "      <td>6795000</td>\n",
       "      <td>2020</td>\n",
       "    </tr>\n",
       "    <tr>\n",
       "      <th>2</th>\n",
       "      <td>92</td>\n",
       "      <td>82</td>\n",
       "      <td>400</td>\n",
       "      <td>4</td>\n",
       "      <td>1</td>\n",
       "      <td>6500000</td>\n",
       "      <td>2020</td>\n",
       "    </tr>\n",
       "  </tbody>\n",
       "</table>\n",
       "</div>"
      ],
      "text/plain": [
       "   livingArea  extraArea  land  rooms  assignment_num  askingPrice  soldYear\n",
       "0          83         68   498      6               1      8495000      2020\n",
       "1          72         54   464      5               1      6795000      2020\n",
       "2          92         82   400      4               1      6500000      2020"
      ]
     },
     "execution_count": 525,
     "metadata": {},
     "output_type": "execute_result"
    }
   ],
   "source": [
    "tallkrogen_for_sale_df.head()\n",
    "tallkrogen_for_sale_df.drop([\"address\", \"houseType\"], axis=1)"
   ]
  },
  {
   "cell_type": "code",
   "execution_count": 527,
   "metadata": {},
   "outputs": [],
   "source": [
    "tallkrogen_for_sale_df[\"price_per_sq_meter\"] = tallkrogen_for_sale_df[\"askingPrice\"].astype(int) / (tallkrogen_for_sale_df[\"livingArea\"].astype(int) + (tallkrogen_for_sale_df[\"extraArea\"].astype(int)))"
   ]
  },
  {
   "cell_type": "code",
   "execution_count": 521,
   "metadata": {},
   "outputs": [
    {
     "data": {
      "text/plain": [
       "['address',\n",
       " 'soldDate',\n",
       " 'livingArea',\n",
       " 'extraArea',\n",
       " 'land',\n",
       " 'rooms',\n",
       " 'assignment',\n",
       " 'askingPrice',\n",
       " 'soldPrice',\n",
       " 'assignment_num',\n",
       " 'price_per_sq_meter',\n",
       " 'soldYear']"
      ]
     },
     "execution_count": 521,
     "metadata": {},
     "output_type": "execute_result"
    }
   ],
   "source": [
    "cols_sold = list(tallkrogen_sold_prices_df.columns)\n",
    "cols_sold"
   ]
  },
  {
   "cell_type": "code",
   "execution_count": 529,
   "metadata": {},
   "outputs": [],
   "source": [
    "cols = list(tallkrogen_for_sale_df.columns)\n",
    "cols\n",
    "tallkrogen_for_sale_df = tallkrogen_for_sale_df[['livingArea', 'extraArea', 'land', 'rooms', 'askingPrice', 'assignment_num', 'price_per_sq_meter', 'soldYear']]\n"
   ]
  },
  {
   "cell_type": "code",
   "execution_count": 531,
   "metadata": {},
   "outputs": [
    {
     "data": {
      "text/plain": [
       "array([8499848.24167984, 6987583.16273335, 6778025.61557652])"
      ]
     },
     "execution_count": 531,
     "metadata": {},
     "output_type": "execute_result"
    }
   ],
   "source": [
    "linear_reg['model'].predict(tallkrogen_for_sale_df)"
   ]
  },
  {
   "cell_type": "code",
   "execution_count": 528,
   "metadata": {},
   "outputs": [
    {
     "data": {
      "text/plain": [
       "array([1.82519713e+11, 1.45914627e+11, 1.39714056e+11])"
      ]
     },
     "execution_count": 528,
     "metadata": {},
     "output_type": "execute_result"
    }
   ],
   "source": [
    "lasso_reg['model'].predict(tallkrogen_for_sale_df.drop([\"address\", \"houseType\"], axis=1))"
   ]
  },
  {
   "cell_type": "code",
   "execution_count": null,
   "metadata": {},
   "outputs": [],
   "source": []
  }
 ],
 "metadata": {
  "kernelspec": {
   "display_name": "Python 3",
   "language": "python",
   "name": "python3"
  },
  "language_info": {
   "codemirror_mode": {
    "name": "ipython",
    "version": 3
   },
   "file_extension": ".py",
   "mimetype": "text/x-python",
   "name": "python",
   "nbconvert_exporter": "python",
   "pygments_lexer": "ipython3",
   "version": "3.8.3"
  }
 },
 "nbformat": 4,
 "nbformat_minor": 4
}
