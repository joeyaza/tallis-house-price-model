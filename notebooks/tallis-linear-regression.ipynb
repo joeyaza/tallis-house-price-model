{
 "cells": [
  {
   "cell_type": "markdown",
   "metadata": {},
   "source": [
    "\n",
    "# Sold Prices in Tallkrogen"
   ]
  },
  {
   "cell_type": "code",
   "execution_count": 2,
   "metadata": {},
   "outputs": [],
   "source": [
    "import pandas as pd\n",
    "import matplotlib.pyplot as plt\n",
    "from sklearn.linear_model import LinearRegression\n",
    "from subprocess import check_output\n"
   ]
  },
  {
   "cell_type": "markdown",
   "metadata": {},
   "source": [
    "### Call the Node Hemnet scraper which saves .json data file of sold properties in Tallkrogen"
   ]
  },
  {
   "cell_type": "code",
   "execution_count": 27,
   "metadata": {},
   "outputs": [
    {
     "data": {
      "text/plain": [
       "b''"
      ]
     },
     "execution_count": 27,
     "metadata": {},
     "output_type": "execute_result"
    }
   ],
   "source": [
    "check_output(['node', '../hemnet-scraper/index.js'])"
   ]
  },
  {
   "cell_type": "markdown",
   "metadata": {},
   "source": [
    "### Read in sold propertie json as dataframe"
   ]
  },
  {
   "cell_type": "code",
   "execution_count": 29,
   "metadata": {},
   "outputs": [
    {
     "data": {
      "text/html": [
       "<div>\n",
       "<style scoped>\n",
       "    .dataframe tbody tr th:only-of-type {\n",
       "        vertical-align: middle;\n",
       "    }\n",
       "\n",
       "    .dataframe tbody tr th {\n",
       "        vertical-align: top;\n",
       "    }\n",
       "\n",
       "    .dataframe thead th {\n",
       "        text-align: right;\n",
       "    }\n",
       "</style>\n",
       "<table border=\"1\" class=\"dataframe\">\n",
       "  <thead>\n",
       "    <tr style=\"text-align: right;\">\n",
       "      <th></th>\n",
       "      <th>address</th>\n",
       "      <th>houseArea</th>\n",
       "      <th>rooms</th>\n",
       "      <th>land</th>\n",
       "      <th>soldPrice</th>\n",
       "      <th>soldDate</th>\n",
       "    </tr>\n",
       "  </thead>\n",
       "  <tbody>\n",
       "    <tr>\n",
       "      <th>0</th>\n",
       "      <td>Herrhagsvägen 116</td>\n",
       "      <td>64</td>\n",
       "      <td>5</td>\n",
       "      <td>577</td>\n",
       "      <td>6000000</td>\n",
       "      <td>28/4/2017</td>\n",
       "    </tr>\n",
       "    <tr>\n",
       "      <th>1</th>\n",
       "      <td>Krokvägen 114</td>\n",
       "      <td>98</td>\n",
       "      <td>6</td>\n",
       "      <td>602</td>\n",
       "      <td>9550000</td>\n",
       "      <td>28/4/2017</td>\n",
       "    </tr>\n",
       "    <tr>\n",
       "      <th>2</th>\n",
       "      <td>VictorBalcksväg 148</td>\n",
       "      <td>65</td>\n",
       "      <td>5</td>\n",
       "      <td>430</td>\n",
       "      <td>7650000</td>\n",
       "      <td>27/4/2017</td>\n",
       "    </tr>\n",
       "    <tr>\n",
       "      <th>3</th>\n",
       "      <td>Olympiavägen 72</td>\n",
       "      <td>54</td>\n",
       "      <td>4</td>\n",
       "      <td>495</td>\n",
       "      <td>6825000</td>\n",
       "      <td>22/3/2017</td>\n",
       "    </tr>\n",
       "    <tr>\n",
       "      <th>4</th>\n",
       "      <td>Sandemarsvägen 4</td>\n",
       "      <td>99</td>\n",
       "      <td>7</td>\n",
       "      <td>499</td>\n",
       "      <td>10100000</td>\n",
       "      <td>22/3/2017</td>\n",
       "    </tr>\n",
       "  </tbody>\n",
       "</table>\n",
       "</div>"
      ],
      "text/plain": [
       "               address  houseArea rooms land  soldPrice   soldDate\n",
       "0    Herrhagsvägen 116         64     5  577    6000000  28/4/2017\n",
       "1        Krokvägen 114         98     6  602    9550000  28/4/2017\n",
       "2  VictorBalcksväg 148         65     5  430    7650000  27/4/2017\n",
       "3      Olympiavägen 72         54     4  495    6825000  22/3/2017\n",
       "4     Sandemarsvägen 4         99     7  499   10100000  22/3/2017"
      ]
     },
     "execution_count": 29,
     "metadata": {},
     "output_type": "execute_result"
    }
   ],
   "source": [
    "tallkrogen_sold_prices_df = pd.read_json(\"../data/salesData.json\")\n"
   ]
  },
  {
   "cell_type": "code",
   "execution_count": 37,
   "metadata": {},
   "outputs": [
    {
     "data": {
      "text/html": [
       "<div>\n",
       "<style scoped>\n",
       "    .dataframe tbody tr th:only-of-type {\n",
       "        vertical-align: middle;\n",
       "    }\n",
       "\n",
       "    .dataframe tbody tr th {\n",
       "        vertical-align: top;\n",
       "    }\n",
       "\n",
       "    .dataframe thead th {\n",
       "        text-align: right;\n",
       "    }\n",
       "</style>\n",
       "<table border=\"1\" class=\"dataframe\">\n",
       "  <thead>\n",
       "    <tr style=\"text-align: right;\">\n",
       "      <th></th>\n",
       "      <th>address</th>\n",
       "      <th>houseArea</th>\n",
       "      <th>rooms</th>\n",
       "      <th>land</th>\n",
       "      <th>soldPrice</th>\n",
       "      <th>soldDate</th>\n",
       "    </tr>\n",
       "  </thead>\n",
       "  <tbody>\n",
       "    <tr>\n",
       "      <th>0</th>\n",
       "      <td>Herrhagsvägen 116</td>\n",
       "      <td>64</td>\n",
       "      <td>5</td>\n",
       "      <td>577</td>\n",
       "      <td>6000000</td>\n",
       "      <td>2017-04-28</td>\n",
       "    </tr>\n",
       "    <tr>\n",
       "      <th>1</th>\n",
       "      <td>Krokvägen 114</td>\n",
       "      <td>98</td>\n",
       "      <td>6</td>\n",
       "      <td>602</td>\n",
       "      <td>9550000</td>\n",
       "      <td>2017-04-28</td>\n",
       "    </tr>\n",
       "    <tr>\n",
       "      <th>2</th>\n",
       "      <td>VictorBalcksväg 148</td>\n",
       "      <td>65</td>\n",
       "      <td>5</td>\n",
       "      <td>430</td>\n",
       "      <td>7650000</td>\n",
       "      <td>2017-04-27</td>\n",
       "    </tr>\n",
       "    <tr>\n",
       "      <th>3</th>\n",
       "      <td>Olympiavägen 72</td>\n",
       "      <td>54</td>\n",
       "      <td>4</td>\n",
       "      <td>495</td>\n",
       "      <td>6825000</td>\n",
       "      <td>2017-03-22</td>\n",
       "    </tr>\n",
       "    <tr>\n",
       "      <th>4</th>\n",
       "      <td>Sandemarsvägen 4</td>\n",
       "      <td>99</td>\n",
       "      <td>7</td>\n",
       "      <td>499</td>\n",
       "      <td>10100000</td>\n",
       "      <td>2017-03-22</td>\n",
       "    </tr>\n",
       "  </tbody>\n",
       "</table>\n",
       "</div>"
      ],
      "text/plain": [
       "               address  houseArea rooms land  soldPrice   soldDate\n",
       "0    Herrhagsvägen 116         64     5  577    6000000 2017-04-28\n",
       "1        Krokvägen 114         98     6  602    9550000 2017-04-28\n",
       "2  VictorBalcksväg 148         65     5  430    7650000 2017-04-27\n",
       "3      Olympiavägen 72         54     4  495    6825000 2017-03-22\n",
       "4     Sandemarsvägen 4         99     7  499   10100000 2017-03-22"
      ]
     },
     "execution_count": 37,
     "metadata": {},
     "output_type": "execute_result"
    }
   ],
   "source": [
    "tallkrogen_sold_prices_df.head()"
   ]
  },
  {
   "cell_type": "code",
   "execution_count": 38,
   "metadata": {},
   "outputs": [
    {
     "data": {
      "text/plain": [
       "<bound method DataFrame.info of                  address  houseArea rooms  land  soldPrice   soldDate\n",
       "0      Herrhagsvägen 116         64     5   577    6000000 2017-04-28\n",
       "1          Krokvägen 114         98     6   602    9550000 2017-04-28\n",
       "2    VictorBalcksväg 148         65     5   430    7650000 2017-04-27\n",
       "3        Olympiavägen 72         54     4   495    6825000 2017-03-22\n",
       "4       Sandemarsvägen 4         99     7   499   10100000 2017-03-22\n",
       "..                   ...        ...   ...   ...        ...        ...\n",
       "252  VictorBalcksväg 141         66     5   577    4250000 2013-09-13\n",
       "253       Amatörvägen 11         65     4   338    4250000 2013-08-29\n",
       "254       Diskusvägen 32        106     6  1022    5140000 2013-07-05\n",
       "255      Rikstensvägen 6         93     7   623    5250000 2013-06-11\n",
       "256      Träningsvägen 3         50     3   337    4420000 2013-05-31\n",
       "\n",
       "[257 rows x 6 columns]>"
      ]
     },
     "execution_count": 38,
     "metadata": {},
     "output_type": "execute_result"
    }
   ],
   "source": [
    "tallkrogen_sold_prices_df.info"
   ]
  },
  {
   "cell_type": "code",
   "execution_count": 39,
   "metadata": {},
   "outputs": [],
   "source": [
    "tallkrogen_sold_prices_df['soldDate'] = pd.to_datetime(tallkrogen_sold_prices_df['soldDate'], dayfirst=True)"
   ]
  },
  {
   "cell_type": "code",
   "execution_count": 68,
   "metadata": {},
   "outputs": [
    {
     "data": {
      "text/html": [
       "<div>\n",
       "<style scoped>\n",
       "    .dataframe tbody tr th:only-of-type {\n",
       "        vertical-align: middle;\n",
       "    }\n",
       "\n",
       "    .dataframe tbody tr th {\n",
       "        vertical-align: top;\n",
       "    }\n",
       "\n",
       "    .dataframe thead th {\n",
       "        text-align: right;\n",
       "    }\n",
       "</style>\n",
       "<table border=\"1\" class=\"dataframe\">\n",
       "  <thead>\n",
       "    <tr style=\"text-align: right;\">\n",
       "      <th></th>\n",
       "      <th>address</th>\n",
       "      <th>houseArea</th>\n",
       "      <th>rooms</th>\n",
       "      <th>land</th>\n",
       "      <th>soldPrice</th>\n",
       "      <th>soldDate</th>\n",
       "    </tr>\n",
       "  </thead>\n",
       "  <tbody>\n",
       "    <tr>\n",
       "      <th>207</th>\n",
       "      <td>Krokvägen 135</td>\n",
       "      <td>65</td>\n",
       "      <td>6</td>\n",
       "      <td>578</td>\n",
       "      <td>6790000</td>\n",
       "      <td>2015-06-04</td>\n",
       "    </tr>\n",
       "    <tr>\n",
       "      <th>208</th>\n",
       "      <td>Träningsvägen 14</td>\n",
       "      <td>93</td>\n",
       "      <td>6</td>\n",
       "      <td>365</td>\n",
       "      <td>7400000</td>\n",
       "      <td>2015-06-03</td>\n",
       "    </tr>\n",
       "    <tr>\n",
       "      <th>209</th>\n",
       "      <td>Kulstötarvägen 52</td>\n",
       "      <td>525</td>\n",
       "      <td>tomt</td>\n",
       "      <td></td>\n",
       "      <td>3335000</td>\n",
       "      <td>2015-06-03</td>\n",
       "    </tr>\n",
       "    <tr>\n",
       "      <th>210</th>\n",
       "      <td>Mörkövägen 51</td>\n",
       "      <td>70</td>\n",
       "      <td>4</td>\n",
       "      <td>441</td>\n",
       "      <td>4500000</td>\n",
       "      <td>2015-05-30</td>\n",
       "    </tr>\n",
       "    <tr>\n",
       "      <th>211</th>\n",
       "      <td>Diskusvägen 31</td>\n",
       "      <td>83</td>\n",
       "      <td>4</td>\n",
       "      <td>551</td>\n",
       "      <td>5100000</td>\n",
       "      <td>2015-05-26</td>\n",
       "    </tr>\n",
       "    <tr>\n",
       "      <th>212</th>\n",
       "      <td>Rapphönsvägen 5</td>\n",
       "      <td>87</td>\n",
       "      <td>5</td>\n",
       "      <td>499</td>\n",
       "      <td>6900000</td>\n",
       "      <td>2015-05-13</td>\n",
       "    </tr>\n",
       "    <tr>\n",
       "      <th>213</th>\n",
       "      <td>Rapphönsvägen 31</td>\n",
       "      <td>101</td>\n",
       "      <td>6</td>\n",
       "      <td>557</td>\n",
       "      <td>8440000</td>\n",
       "      <td>2015-05-13</td>\n",
       "    </tr>\n",
       "    <tr>\n",
       "      <th>214</th>\n",
       "      <td>Sandemarsvägen 18</td>\n",
       "      <td>205</td>\n",
       "      <td>8</td>\n",
       "      <td>1378</td>\n",
       "      <td>9600000</td>\n",
       "      <td>2015-05-09</td>\n",
       "    </tr>\n",
       "    <tr>\n",
       "      <th>215</th>\n",
       "      <td>Maratonvägen 119</td>\n",
       "      <td>54</td>\n",
       "      <td>4</td>\n",
       "      <td>488</td>\n",
       "      <td>4500000</td>\n",
       "      <td>2015-04-24</td>\n",
       "    </tr>\n",
       "    <tr>\n",
       "      <th>216</th>\n",
       "      <td>Morkullsvägen 15</td>\n",
       "      <td>65</td>\n",
       "      <td>5</td>\n",
       "      <td>543</td>\n",
       "      <td>6750000</td>\n",
       "      <td>2015-04-22</td>\n",
       "    </tr>\n",
       "    <tr>\n",
       "      <th>217</th>\n",
       "      <td>Maratonvägen 49</td>\n",
       "      <td>129</td>\n",
       "      <td>9</td>\n",
       "      <td>501</td>\n",
       "      <td>7900000</td>\n",
       "      <td>2015-04-16</td>\n",
       "    </tr>\n",
       "    <tr>\n",
       "      <th>218</th>\n",
       "      <td>Herrhagsvägen 67</td>\n",
       "      <td>120</td>\n",
       "      <td>5</td>\n",
       "      <td>557</td>\n",
       "      <td>6770000</td>\n",
       "      <td>2015-04-16</td>\n",
       "    </tr>\n",
       "    <tr>\n",
       "      <th>219</th>\n",
       "      <td>Mörkövägen 58</td>\n",
       "      <td>90</td>\n",
       "      <td>5</td>\n",
       "      <td>446</td>\n",
       "      <td>6775000</td>\n",
       "      <td>2015-04-15</td>\n",
       "    </tr>\n",
       "    <tr>\n",
       "      <th>220</th>\n",
       "      <td>Olympiavägen 54</td>\n",
       "      <td>67</td>\n",
       "      <td>5</td>\n",
       "      <td>506</td>\n",
       "      <td>5175000</td>\n",
       "      <td>2015-03-20</td>\n",
       "    </tr>\n",
       "    <tr>\n",
       "      <th>221</th>\n",
       "      <td>Olympiavägen 123</td>\n",
       "      <td>64</td>\n",
       "      <td>4</td>\n",
       "      <td>454</td>\n",
       "      <td>6100000</td>\n",
       "      <td>2015-03-19</td>\n",
       "    </tr>\n",
       "    <tr>\n",
       "      <th>222</th>\n",
       "      <td>Herrhagsvägen 84</td>\n",
       "      <td>68</td>\n",
       "      <td>4</td>\n",
       "      <td>585</td>\n",
       "      <td>5500000</td>\n",
       "      <td>2015-03-16</td>\n",
       "    </tr>\n",
       "    <tr>\n",
       "      <th>223</th>\n",
       "      <td>Tallkrogsvägen 54</td>\n",
       "      <td>130</td>\n",
       "      <td>6</td>\n",
       "      <td>583</td>\n",
       "      <td>6000000</td>\n",
       "      <td>2015-02-11</td>\n",
       "    </tr>\n",
       "    <tr>\n",
       "      <th>224</th>\n",
       "      <td>Olympiavägen 128</td>\n",
       "      <td>110</td>\n",
       "      <td>7</td>\n",
       "      <td>569</td>\n",
       "      <td>5860000</td>\n",
       "      <td>2015-01-30</td>\n",
       "    </tr>\n",
       "    <tr>\n",
       "      <th>225</th>\n",
       "      <td>Hägervägen 15</td>\n",
       "      <td>84</td>\n",
       "      <td>4</td>\n",
       "      <td></td>\n",
       "      <td>3850000</td>\n",
       "      <td>2015-01-04</td>\n",
       "    </tr>\n",
       "    <tr>\n",
       "      <th>226</th>\n",
       "      <td>Maratonvägen 65</td>\n",
       "      <td>90</td>\n",
       "      <td>4</td>\n",
       "      <td>457</td>\n",
       "      <td>5620000</td>\n",
       "      <td>2014-11-20</td>\n",
       "    </tr>\n",
       "    <tr>\n",
       "      <th>227</th>\n",
       "      <td>Hägervägen 29</td>\n",
       "      <td>26</td>\n",
       "      <td>1</td>\n",
       "      <td></td>\n",
       "      <td>1785000</td>\n",
       "      <td>2014-11-14</td>\n",
       "    </tr>\n",
       "    <tr>\n",
       "      <th>228</th>\n",
       "      <td>Lingvägen 78</td>\n",
       "      <td>125</td>\n",
       "      <td>5</td>\n",
       "      <td>568</td>\n",
       "      <td>6100000</td>\n",
       "      <td>2014-10-17</td>\n",
       "    </tr>\n",
       "    <tr>\n",
       "      <th>229</th>\n",
       "      <td>Släggvägen 8</td>\n",
       "      <td>80</td>\n",
       "      <td>6</td>\n",
       "      <td>529</td>\n",
       "      <td>6250000</td>\n",
       "      <td>2014-10-17</td>\n",
       "    </tr>\n",
       "    <tr>\n",
       "      <th>230</th>\n",
       "      <td>Maratonvägen 111</td>\n",
       "      <td>79</td>\n",
       "      <td>6</td>\n",
       "      <td>471</td>\n",
       "      <td>5900000</td>\n",
       "      <td>2014-10-09</td>\n",
       "    </tr>\n",
       "    <tr>\n",
       "      <th>231</th>\n",
       "      <td>Hägervägen 9</td>\n",
       "      <td>84</td>\n",
       "      <td>4</td>\n",
       "      <td></td>\n",
       "      <td>3500000</td>\n",
       "      <td>2014-10-08</td>\n",
       "    </tr>\n",
       "    <tr>\n",
       "      <th>232</th>\n",
       "      <td>Tallkrogsvägen 48</td>\n",
       "      <td>67</td>\n",
       "      <td>5</td>\n",
       "      <td>583</td>\n",
       "      <td>6075000</td>\n",
       "      <td>2014-09-19</td>\n",
       "    </tr>\n",
       "    <tr>\n",
       "      <th>233</th>\n",
       "      <td>Maratonvägen 71</td>\n",
       "      <td>79</td>\n",
       "      <td>4</td>\n",
       "      <td>457</td>\n",
       "      <td>5300000</td>\n",
       "      <td>2014-06-25</td>\n",
       "    </tr>\n",
       "    <tr>\n",
       "      <th>234</th>\n",
       "      <td>Herrhagsvägen 74</td>\n",
       "      <td>68</td>\n",
       "      <td>5</td>\n",
       "      <td>607</td>\n",
       "      <td>5050000</td>\n",
       "      <td>2014-05-14</td>\n",
       "    </tr>\n",
       "    <tr>\n",
       "      <th>235</th>\n",
       "      <td>Hägervägen 1</td>\n",
       "      <td>26</td>\n",
       "      <td>1</td>\n",
       "      <td></td>\n",
       "      <td>1630000</td>\n",
       "      <td>2014-05-02</td>\n",
       "    </tr>\n",
       "    <tr>\n",
       "      <th>236</th>\n",
       "      <td>Herrhagsvägen 90</td>\n",
       "      <td>93</td>\n",
       "      <td>7</td>\n",
       "      <td>585</td>\n",
       "      <td>5000000</td>\n",
       "      <td>2014-03-14</td>\n",
       "    </tr>\n",
       "    <tr>\n",
       "      <th>237</th>\n",
       "      <td>Hägervägen 5</td>\n",
       "      <td>26</td>\n",
       "      <td>1</td>\n",
       "      <td></td>\n",
       "      <td>1650000</td>\n",
       "      <td>2014-02-20</td>\n",
       "    </tr>\n",
       "    <tr>\n",
       "      <th>238</th>\n",
       "      <td>Polovägen 21</td>\n",
       "      <td>86</td>\n",
       "      <td>6</td>\n",
       "      <td>490</td>\n",
       "      <td>5300000</td>\n",
       "      <td>2014-02-19</td>\n",
       "    </tr>\n",
       "    <tr>\n",
       "      <th>239</th>\n",
       "      <td>Diskusvägen 35</td>\n",
       "      <td>69</td>\n",
       "      <td>4</td>\n",
       "      <td>491</td>\n",
       "      <td>4000000</td>\n",
       "      <td>2014-02-05</td>\n",
       "    </tr>\n",
       "    <tr>\n",
       "      <th>240</th>\n",
       "      <td>Polovägen 13</td>\n",
       "      <td>65</td>\n",
       "      <td>5</td>\n",
       "      <td>488</td>\n",
       "      <td>4550000</td>\n",
       "      <td>2014-01-31</td>\n",
       "    </tr>\n",
       "    <tr>\n",
       "      <th>241</th>\n",
       "      <td>Krokvägen 137</td>\n",
       "      <td>54</td>\n",
       "      <td>4</td>\n",
       "      <td>514</td>\n",
       "      <td>4850000</td>\n",
       "      <td>2013-11-28</td>\n",
       "    </tr>\n",
       "    <tr>\n",
       "      <th>242</th>\n",
       "      <td>Hägervägen 3</td>\n",
       "      <td>55</td>\n",
       "      <td>2</td>\n",
       "      <td></td>\n",
       "      <td>2210000</td>\n",
       "      <td>2013-11-27</td>\n",
       "    </tr>\n",
       "    <tr>\n",
       "      <th>243</th>\n",
       "      <td>Träningsvägen 23</td>\n",
       "      <td>75</td>\n",
       "      <td>6</td>\n",
       "      <td>488</td>\n",
       "      <td>5250000</td>\n",
       "      <td>2013-11-22</td>\n",
       "    </tr>\n",
       "    <tr>\n",
       "      <th>244</th>\n",
       "      <td>Häringevägen 4</td>\n",
       "      <td>87</td>\n",
       "      <td>6</td>\n",
       "      <td>485</td>\n",
       "      <td>5750000</td>\n",
       "      <td>2013-11-21</td>\n",
       "    </tr>\n",
       "    <tr>\n",
       "      <th>245</th>\n",
       "      <td>Hägervägen 7</td>\n",
       "      <td>55</td>\n",
       "      <td>2</td>\n",
       "      <td></td>\n",
       "      <td>1930000</td>\n",
       "      <td>2013-10-17</td>\n",
       "    </tr>\n",
       "    <tr>\n",
       "      <th>246</th>\n",
       "      <td>Olympiavägen 82</td>\n",
       "      <td>64</td>\n",
       "      <td>3</td>\n",
       "      <td>476</td>\n",
       "      <td>3160000</td>\n",
       "      <td>2013-10-03</td>\n",
       "    </tr>\n",
       "    <tr>\n",
       "      <th>247</th>\n",
       "      <td>Olympiavägen 67</td>\n",
       "      <td>51</td>\n",
       "      <td>4</td>\n",
       "      <td>327</td>\n",
       "      <td>3860000</td>\n",
       "      <td>2013-10-01</td>\n",
       "    </tr>\n",
       "    <tr>\n",
       "      <th>248</th>\n",
       "      <td>Hägervägen 7</td>\n",
       "      <td>55</td>\n",
       "      <td>2</td>\n",
       "      <td></td>\n",
       "      <td>1800000</td>\n",
       "      <td>2013-09-27</td>\n",
       "    </tr>\n",
       "    <tr>\n",
       "      <th>249</th>\n",
       "      <td>Kulstötarvägen 57</td>\n",
       "      <td>86</td>\n",
       "      <td>5</td>\n",
       "      <td>464</td>\n",
       "      <td>4570000</td>\n",
       "      <td>2013-09-27</td>\n",
       "    </tr>\n",
       "    <tr>\n",
       "      <th>250</th>\n",
       "      <td>Maratonvägen 43</td>\n",
       "      <td>95</td>\n",
       "      <td>4</td>\n",
       "      <td>501</td>\n",
       "      <td>5400000</td>\n",
       "      <td>2013-09-20</td>\n",
       "    </tr>\n",
       "    <tr>\n",
       "      <th>251</th>\n",
       "      <td>Diskusvägen 12</td>\n",
       "      <td>80</td>\n",
       "      <td>6</td>\n",
       "      <td>864</td>\n",
       "      <td>4950000</td>\n",
       "      <td>2013-09-15</td>\n",
       "    </tr>\n",
       "    <tr>\n",
       "      <th>252</th>\n",
       "      <td>VictorBalcksväg 141</td>\n",
       "      <td>66</td>\n",
       "      <td>5</td>\n",
       "      <td>577</td>\n",
       "      <td>4250000</td>\n",
       "      <td>2013-09-13</td>\n",
       "    </tr>\n",
       "    <tr>\n",
       "      <th>253</th>\n",
       "      <td>Amatörvägen 11</td>\n",
       "      <td>65</td>\n",
       "      <td>4</td>\n",
       "      <td>338</td>\n",
       "      <td>4250000</td>\n",
       "      <td>2013-08-29</td>\n",
       "    </tr>\n",
       "    <tr>\n",
       "      <th>254</th>\n",
       "      <td>Diskusvägen 32</td>\n",
       "      <td>106</td>\n",
       "      <td>6</td>\n",
       "      <td>1022</td>\n",
       "      <td>5140000</td>\n",
       "      <td>2013-07-05</td>\n",
       "    </tr>\n",
       "    <tr>\n",
       "      <th>255</th>\n",
       "      <td>Rikstensvägen 6</td>\n",
       "      <td>93</td>\n",
       "      <td>7</td>\n",
       "      <td>623</td>\n",
       "      <td>5250000</td>\n",
       "      <td>2013-06-11</td>\n",
       "    </tr>\n",
       "    <tr>\n",
       "      <th>256</th>\n",
       "      <td>Träningsvägen 3</td>\n",
       "      <td>50</td>\n",
       "      <td>3</td>\n",
       "      <td>337</td>\n",
       "      <td>4420000</td>\n",
       "      <td>2013-05-31</td>\n",
       "    </tr>\n",
       "  </tbody>\n",
       "</table>\n",
       "</div>"
      ],
      "text/plain": [
       "                 address  houseArea rooms  land  soldPrice   soldDate\n",
       "207        Krokvägen 135         65     6   578    6790000 2015-06-04\n",
       "208     Träningsvägen 14         93     6   365    7400000 2015-06-03\n",
       "209    Kulstötarvägen 52        525  tomt          3335000 2015-06-03\n",
       "210        Mörkövägen 51         70     4   441    4500000 2015-05-30\n",
       "211       Diskusvägen 31         83     4   551    5100000 2015-05-26\n",
       "212      Rapphönsvägen 5         87     5   499    6900000 2015-05-13\n",
       "213     Rapphönsvägen 31        101     6   557    8440000 2015-05-13\n",
       "214    Sandemarsvägen 18        205     8  1378    9600000 2015-05-09\n",
       "215     Maratonvägen 119         54     4   488    4500000 2015-04-24\n",
       "216     Morkullsvägen 15         65     5   543    6750000 2015-04-22\n",
       "217      Maratonvägen 49        129     9   501    7900000 2015-04-16\n",
       "218     Herrhagsvägen 67        120     5   557    6770000 2015-04-16\n",
       "219        Mörkövägen 58         90     5   446    6775000 2015-04-15\n",
       "220      Olympiavägen 54         67     5   506    5175000 2015-03-20\n",
       "221     Olympiavägen 123         64     4   454    6100000 2015-03-19\n",
       "222     Herrhagsvägen 84         68     4   585    5500000 2015-03-16\n",
       "223    Tallkrogsvägen 54        130     6   583    6000000 2015-02-11\n",
       "224     Olympiavägen 128        110     7   569    5860000 2015-01-30\n",
       "225        Hägervägen 15         84     4          3850000 2015-01-04\n",
       "226      Maratonvägen 65         90     4   457    5620000 2014-11-20\n",
       "227        Hägervägen 29         26     1          1785000 2014-11-14\n",
       "228         Lingvägen 78        125     5   568    6100000 2014-10-17\n",
       "229         Släggvägen 8         80     6   529    6250000 2014-10-17\n",
       "230     Maratonvägen 111         79     6   471    5900000 2014-10-09\n",
       "231         Hägervägen 9         84     4          3500000 2014-10-08\n",
       "232    Tallkrogsvägen 48         67     5   583    6075000 2014-09-19\n",
       "233      Maratonvägen 71         79     4   457    5300000 2014-06-25\n",
       "234     Herrhagsvägen 74         68     5   607    5050000 2014-05-14\n",
       "235         Hägervägen 1         26     1          1630000 2014-05-02\n",
       "236     Herrhagsvägen 90         93     7   585    5000000 2014-03-14\n",
       "237         Hägervägen 5         26     1          1650000 2014-02-20\n",
       "238         Polovägen 21         86     6   490    5300000 2014-02-19\n",
       "239       Diskusvägen 35         69     4   491    4000000 2014-02-05\n",
       "240         Polovägen 13         65     5   488    4550000 2014-01-31\n",
       "241        Krokvägen 137         54     4   514    4850000 2013-11-28\n",
       "242         Hägervägen 3         55     2          2210000 2013-11-27\n",
       "243     Träningsvägen 23         75     6   488    5250000 2013-11-22\n",
       "244       Häringevägen 4         87     6   485    5750000 2013-11-21\n",
       "245         Hägervägen 7         55     2          1930000 2013-10-17\n",
       "246      Olympiavägen 82         64     3   476    3160000 2013-10-03\n",
       "247      Olympiavägen 67         51     4   327    3860000 2013-10-01\n",
       "248         Hägervägen 7         55     2          1800000 2013-09-27\n",
       "249    Kulstötarvägen 57         86     5   464    4570000 2013-09-27\n",
       "250      Maratonvägen 43         95     4   501    5400000 2013-09-20\n",
       "251       Diskusvägen 12         80     6   864    4950000 2013-09-15\n",
       "252  VictorBalcksväg 141         66     5   577    4250000 2013-09-13\n",
       "253       Amatörvägen 11         65     4   338    4250000 2013-08-29\n",
       "254       Diskusvägen 32        106     6  1022    5140000 2013-07-05\n",
       "255      Rikstensvägen 6         93     7   623    5250000 2013-06-11\n",
       "256      Träningsvägen 3         50     3   337    4420000 2013-05-31"
      ]
     },
     "execution_count": 68,
     "metadata": {},
     "output_type": "execute_result"
    }
   ],
   "source": [
    "tallkrogen_sold_prices_df.tail(50)"
   ]
  },
  {
   "cell_type": "code",
   "execution_count": 42,
   "metadata": {},
   "outputs": [
    {
     "data": {
      "text/plain": [
       "0     2017-04-28\n",
       "1     2017-04-28\n",
       "2     2017-04-27\n",
       "3     2017-03-22\n",
       "4     2017-03-22\n",
       "         ...    \n",
       "252   2013-09-13\n",
       "253   2013-08-29\n",
       "254   2013-07-05\n",
       "255   2013-06-11\n",
       "256   2013-05-31\n",
       "Name: soldDate, Length: 257, dtype: datetime64[ns]"
      ]
     },
     "execution_count": 42,
     "metadata": {},
     "output_type": "execute_result"
    }
   ],
   "source": [
    "tallkrogen_sold_prices_df[\"soldDate\"]"
   ]
  },
  {
   "cell_type": "code",
   "execution_count": 43,
   "metadata": {},
   "outputs": [
    {
     "name": "stdout",
     "output_type": "stream",
     "text": [
      "<class 'pandas.core.frame.DataFrame'>\n",
      "RangeIndex: 257 entries, 0 to 256\n",
      "Data columns (total 6 columns):\n",
      " #   Column     Non-Null Count  Dtype         \n",
      "---  ------     --------------  -----         \n",
      " 0   address    257 non-null    object        \n",
      " 1   houseArea  257 non-null    int64         \n",
      " 2   rooms      257 non-null    object        \n",
      " 3   land       257 non-null    object        \n",
      " 4   soldPrice  257 non-null    int64         \n",
      " 5   soldDate   257 non-null    datetime64[ns]\n",
      "dtypes: datetime64[ns](1), int64(2), object(3)\n",
      "memory usage: 12.2+ KB\n"
     ]
    },
    {
     "data": {
      "image/png": "[encoded data removed]",
      "text/plain": [
       "<Figure size 432x288 with 1 Axes>"
      ]
     },
     "metadata": {
      "needs_background": "light"
     },
     "output_type": "display_data"
    }
   ],
   "source": [
    "tallkrogen_sold_prices_df.info()\n",
    "\n",
    "tallkrogen_sold_prices_df.plot(x='soldDate')\n",
    "plt.show()"
   ]
  },
  {
   "cell_type": "code",
   "execution_count": 44,
   "metadata": {},
   "outputs": [
    {
     "data": {
      "text/plain": [
       "Text(0, 0.5, 'Sq Foot Area')"
      ]
     },
     "execution_count": 44,
     "metadata": {},
     "output_type": "execute_result"
    },
    {
     "data": {
      "image/png": "[encoded data removed]",
      "text/plain": [
       "<Figure size 1600x800 with 1 Axes>"
      ]
     },
     "metadata": {
      "needs_background": "light"
     },
     "output_type": "display_data"
    }
   ],
   "source": [
    "plt.figure(figsize=(20, 10), dpi=80)\n",
    "plt.scatter(x=tallkrogen_sold_prices_df[\"soldPrice\"], y=tallkrogen_sold_prices_df[\"houseArea\"])\n",
    "plt.xlabel(\"Price in SEK\")\n",
    "plt.ylabel(\"Sq Foot Area\")"
   ]
  },
  {
   "cell_type": "code",
   "execution_count": 72,
   "metadata": {},
   "outputs": [
    {
     "data": {
      "text/html": [
       "<div>\n",
       "<style scoped>\n",
       "    .dataframe tbody tr th:only-of-type {\n",
       "        vertical-align: middle;\n",
       "    }\n",
       "\n",
       "    .dataframe tbody tr th {\n",
       "        vertical-align: top;\n",
       "    }\n",
       "\n",
       "    .dataframe thead th {\n",
       "        text-align: right;\n",
       "    }\n",
       "</style>\n",
       "<table border=\"1\" class=\"dataframe\">\n",
       "  <thead>\n",
       "    <tr style=\"text-align: right;\">\n",
       "      <th></th>\n",
       "      <th>address</th>\n",
       "      <th>houseArea</th>\n",
       "      <th>rooms</th>\n",
       "      <th>land</th>\n",
       "      <th>soldPrice</th>\n",
       "      <th>soldDate</th>\n",
       "    </tr>\n",
       "  </thead>\n",
       "  <tbody>\n",
       "    <tr>\n",
       "      <th>209</th>\n",
       "      <td>Kulstötarvägen 52</td>\n",
       "      <td>525</td>\n",
       "      <td>tomt</td>\n",
       "      <td></td>\n",
       "      <td>3335000</td>\n",
       "      <td>2015-06-03</td>\n",
       "    </tr>\n",
       "  </tbody>\n",
       "</table>\n",
       "</div>"
      ],
      "text/plain": [
       "               address  houseArea rooms land  soldPrice   soldDate\n",
       "209  Kulstötarvägen 52        525  tomt         3335000 2015-06-03"
      ]
     },
     "execution_count": 72,
     "metadata": {},
     "output_type": "execute_result"
    }
   ],
   "source": [
    "\n",
    "tallkrogen_sold_prices_df.loc[tallkrogen_sold_prices_df['houseArea'] > 400]"
   ]
  },
  {
   "cell_type": "code",
   "execution_count": 45,
   "metadata": {},
   "outputs": [
    {
     "data": {
      "text/plain": [
       "Text(0, 0.5, 'Date')"
      ]
     },
     "execution_count": 45,
     "metadata": {},
     "output_type": "execute_result"
    },
    {
     "data": {
      "image/png": "[encoded data removed]",
      "text/plain": [
       "<Figure size 1600x800 with 1 Axes>"
      ]
     },
     "metadata": {
      "needs_background": "light"
     },
     "output_type": "display_data"
    }
   ],
   "source": [
    "plt.figure(figsize=(20, 10), dpi=80)\n",
    "plt.scatter(x=tallkrogen_sold_prices_df[\"soldPrice\"], y=tallkrogen_sold_prices_df[\"soldDate\"])\n",
    "plt.xlabel(\"Price in SEK\")\n",
    "plt.ylabel(\"Date\")"
   ]
  },
  {
   "cell_type": "code",
   "execution_count": 52,
   "metadata": {},
   "outputs": [],
   "source": [
    "X = tallkrogen_sold_prices_df[[\"houseArea\"]]\n",
    "y = tallkrogen_sold_prices_df[\"soldPrice\"]\n",
    "reg = LinearRegression().fit(X, y)"
   ]
  },
  {
   "cell_type": "code",
   "execution_count": 53,
   "metadata": {},
   "outputs": [],
   "source": [
    "y_predict = reg.predict(X)\n"
   ]
  },
  {
   "cell_type": "code",
   "execution_count": 55,
   "metadata": {},
   "outputs": [
    {
     "data": {
      "text/plain": [
       "array([7208091.93220485])"
      ]
     },
     "execution_count": 55,
     "metadata": {},
     "output_type": "execute_result"
    }
   ],
   "source": [
    "reg.predict([[147]])"
   ]
  },
  {
   "cell_type": "code",
   "execution_count": 60,
   "metadata": {},
   "outputs": [
    {
     "data": {
      "text/plain": [
       "[<matplotlib.lines.Line2D at 0x7fac60591310>]"
      ]
     },
     "execution_count": 60,
     "metadata": {},
     "output_type": "execute_result"
    },
    {
     "data": {
      "image/png": "[encoded data removed]",
      "text/plain": [
       "<Figure size 1600x800 with 1 Axes>"
      ]
     },
     "metadata": {
      "needs_background": "light"
     },
     "output_type": "display_data"
    }
   ],
   "source": [
    "\n",
    "plt.figure(figsize=(20, 10), dpi=80)\n",
    "plt.scatter(x=tallkrogen_sold_prices_df[\"soldPrice\"], y=tallkrogen_sold_prices_df[\"houseArea\"])\n",
    "plt.xlabel(\"Price in SEK\")\n",
    "plt.ylabel(\"Sq Foot Area\")\n",
    "plt.plot(X[\"houseArea\"], y_predict, '-r', label='linear regression')\n"
   ]
  },
  {
   "cell_type": "code",
   "execution_count": 101,
   "metadata": {},
   "outputs": [],
   "source": [
    "X = tallkrogen_sold_prices_df[[\"soldPrice\"]]\n",
    "y = tallkrogen_sold_prices_df[\"soldDate\"]\n",
    "reg = LinearRegression().fit(X, y)"
   ]
  },
  {
   "cell_type": "code",
   "execution_count": 102,
   "metadata": {},
   "outputs": [],
   "source": [
    "y_predict = reg.predict(X)"
   ]
  },
  {
   "cell_type": "code",
   "execution_count": 61,
   "metadata": {},
   "outputs": [
    {
     "ename": "KeyError",
     "evalue": "'soldPrice'",
     "output_type": "error",
     "traceback": [
      "\u001b[0;31m---------------------------------------------------------------------------\u001b[0m",
      "\u001b[0;31mKeyError\u001b[0m                                  Traceback (most recent call last)",
      "\u001b[0;32m~/opt/anaconda3/lib/python3.8/site-packages/pandas/core/indexes/base.py\u001b[0m in \u001b[0;36mget_loc\u001b[0;34m(self, key, method, tolerance)\u001b[0m\n\u001b[1;32m   2645\u001b[0m             \u001b[0;32mtry\u001b[0m\u001b[0;34m:\u001b[0m\u001b[0;34m\u001b[0m\u001b[0;34m\u001b[0m\u001b[0m\n\u001b[0;32m-> 2646\u001b[0;31m                 \u001b[0;32mreturn\u001b[0m \u001b[0mself\u001b[0m\u001b[0;34m.\u001b[0m\u001b[0m_engine\u001b[0m\u001b[0;34m.\u001b[0m\u001b[0mget_loc\u001b[0m\u001b[0;34m(\u001b[0m\u001b[0mkey\u001b[0m\u001b[0;34m)\u001b[0m\u001b[0;34m\u001b[0m\u001b[0;34m\u001b[0m\u001b[0m\n\u001b[0m\u001b[1;32m   2647\u001b[0m             \u001b[0;32mexcept\u001b[0m \u001b[0mKeyError\u001b[0m\u001b[0;34m:\u001b[0m\u001b[0;34m\u001b[0m\u001b[0;34m\u001b[0m\u001b[0m\n",
      "\u001b[0;32mpandas/_libs/index.pyx\u001b[0m in \u001b[0;36mpandas._libs.index.IndexEngine.get_loc\u001b[0;34m()\u001b[0m\n",
      "\u001b[0;32mpandas/_libs/index.pyx\u001b[0m in \u001b[0;36mpandas._libs.index.IndexEngine.get_loc\u001b[0;34m()\u001b[0m\n",
      "\u001b[0;32mpandas/_libs/hashtable_class_helper.pxi\u001b[0m in \u001b[0;36mpandas._libs.hashtable.PyObjectHashTable.get_item\u001b[0;34m()\u001b[0m\n",
      "\u001b[0;32mpandas/_libs/hashtable_class_helper.pxi\u001b[0m in \u001b[0;36mpandas._libs.hashtable.PyObjectHashTable.get_item\u001b[0;34m()\u001b[0m\n",
      "\u001b[0;31mKeyError\u001b[0m: 'soldPrice'",
      "\nDuring handling of the above exception, another exception occurred:\n",
      "\u001b[0;31mKeyError\u001b[0m                                  Traceback (most recent call last)",
      "\u001b[0;32m<ipython-input-61-e3cabd28837b>\u001b[0m in \u001b[0;36m<module>\u001b[0;34m\u001b[0m\n\u001b[1;32m      3\u001b[0m \u001b[0mplt\u001b[0m\u001b[0;34m.\u001b[0m\u001b[0mxlabel\u001b[0m\u001b[0;34m(\u001b[0m\u001b[0;34m\"Price in SEK\"\u001b[0m\u001b[0;34m)\u001b[0m\u001b[0;34m\u001b[0m\u001b[0;34m\u001b[0m\u001b[0m\n\u001b[1;32m      4\u001b[0m \u001b[0mplt\u001b[0m\u001b[0;34m.\u001b[0m\u001b[0mylabel\u001b[0m\u001b[0;34m(\u001b[0m\u001b[0;34m\"Date\"\u001b[0m\u001b[0;34m)\u001b[0m\u001b[0;34m\u001b[0m\u001b[0;34m\u001b[0m\u001b[0m\n\u001b[0;32m----> 5\u001b[0;31m \u001b[0mplt\u001b[0m\u001b[0;34m.\u001b[0m\u001b[0mplot\u001b[0m\u001b[0;34m(\u001b[0m\u001b[0mX\u001b[0m\u001b[0;34m[\u001b[0m\u001b[0;34m\"soldPrice\"\u001b[0m\u001b[0;34m]\u001b[0m\u001b[0;34m,\u001b[0m \u001b[0my_predict\u001b[0m\u001b[0;34m,\u001b[0m \u001b[0;34m'-r'\u001b[0m\u001b[0;34m,\u001b[0m \u001b[0mlabel\u001b[0m\u001b[0;34m=\u001b[0m\u001b[0;34m'linear regression'\u001b[0m\u001b[0;34m)\u001b[0m\u001b[0;34m\u001b[0m\u001b[0;34m\u001b[0m\u001b[0m\n\u001b[0m",
      "\u001b[0;32m~/opt/anaconda3/lib/python3.8/site-packages/pandas/core/frame.py\u001b[0m in \u001b[0;36m__getitem__\u001b[0;34m(self, key)\u001b[0m\n\u001b[1;32m   2798\u001b[0m             \u001b[0;32mif\u001b[0m \u001b[0mself\u001b[0m\u001b[0;34m.\u001b[0m\u001b[0mcolumns\u001b[0m\u001b[0;34m.\u001b[0m\u001b[0mnlevels\u001b[0m \u001b[0;34m>\u001b[0m \u001b[0;36m1\u001b[0m\u001b[0;34m:\u001b[0m\u001b[0;34m\u001b[0m\u001b[0;34m\u001b[0m\u001b[0m\n\u001b[1;32m   2799\u001b[0m                 \u001b[0;32mreturn\u001b[0m \u001b[0mself\u001b[0m\u001b[0;34m.\u001b[0m\u001b[0m_getitem_multilevel\u001b[0m\u001b[0;34m(\u001b[0m\u001b[0mkey\u001b[0m\u001b[0;34m)\u001b[0m\u001b[0;34m\u001b[0m\u001b[0;34m\u001b[0m\u001b[0m\n\u001b[0;32m-> 2800\u001b[0;31m             \u001b[0mindexer\u001b[0m \u001b[0;34m=\u001b[0m \u001b[0mself\u001b[0m\u001b[0;34m.\u001b[0m\u001b[0mcolumns\u001b[0m\u001b[0;34m.\u001b[0m\u001b[0mget_loc\u001b[0m\u001b[0;34m(\u001b[0m\u001b[0mkey\u001b[0m\u001b[0;34m)\u001b[0m\u001b[0;34m\u001b[0m\u001b[0;34m\u001b[0m\u001b[0m\n\u001b[0m\u001b[1;32m   2801\u001b[0m             \u001b[0;32mif\u001b[0m \u001b[0mis_integer\u001b[0m\u001b[0;34m(\u001b[0m\u001b[0mindexer\u001b[0m\u001b[0;34m)\u001b[0m\u001b[0;34m:\u001b[0m\u001b[0;34m\u001b[0m\u001b[0;34m\u001b[0m\u001b[0m\n\u001b[1;32m   2802\u001b[0m                 \u001b[0mindexer\u001b[0m \u001b[0;34m=\u001b[0m \u001b[0;34m[\u001b[0m\u001b[0mindexer\u001b[0m\u001b[0;34m]\u001b[0m\u001b[0;34m\u001b[0m\u001b[0;34m\u001b[0m\u001b[0m\n",
      "\u001b[0;32m~/opt/anaconda3/lib/python3.8/site-packages/pandas/core/indexes/base.py\u001b[0m in \u001b[0;36mget_loc\u001b[0;34m(self, key, method, tolerance)\u001b[0m\n\u001b[1;32m   2646\u001b[0m                 \u001b[0;32mreturn\u001b[0m \u001b[0mself\u001b[0m\u001b[0;34m.\u001b[0m\u001b[0m_engine\u001b[0m\u001b[0;34m.\u001b[0m\u001b[0mget_loc\u001b[0m\u001b[0;34m(\u001b[0m\u001b[0mkey\u001b[0m\u001b[0;34m)\u001b[0m\u001b[0;34m\u001b[0m\u001b[0;34m\u001b[0m\u001b[0m\n\u001b[1;32m   2647\u001b[0m             \u001b[0;32mexcept\u001b[0m \u001b[0mKeyError\u001b[0m\u001b[0;34m:\u001b[0m\u001b[0;34m\u001b[0m\u001b[0;34m\u001b[0m\u001b[0m\n\u001b[0;32m-> 2648\u001b[0;31m                 \u001b[0;32mreturn\u001b[0m \u001b[0mself\u001b[0m\u001b[0;34m.\u001b[0m\u001b[0m_engine\u001b[0m\u001b[0;34m.\u001b[0m\u001b[0mget_loc\u001b[0m\u001b[0;34m(\u001b[0m\u001b[0mself\u001b[0m\u001b[0;34m.\u001b[0m\u001b[0m_maybe_cast_indexer\u001b[0m\u001b[0;34m(\u001b[0m\u001b[0mkey\u001b[0m\u001b[0;34m)\u001b[0m\u001b[0;34m)\u001b[0m\u001b[0;34m\u001b[0m\u001b[0;34m\u001b[0m\u001b[0m\n\u001b[0m\u001b[1;32m   2649\u001b[0m         \u001b[0mindexer\u001b[0m \u001b[0;34m=\u001b[0m \u001b[0mself\u001b[0m\u001b[0;34m.\u001b[0m\u001b[0mget_indexer\u001b[0m\u001b[0;34m(\u001b[0m\u001b[0;34m[\u001b[0m\u001b[0mkey\u001b[0m\u001b[0;34m]\u001b[0m\u001b[0;34m,\u001b[0m \u001b[0mmethod\u001b[0m\u001b[0;34m=\u001b[0m\u001b[0mmethod\u001b[0m\u001b[0;34m,\u001b[0m \u001b[0mtolerance\u001b[0m\u001b[0;34m=\u001b[0m\u001b[0mtolerance\u001b[0m\u001b[0;34m)\u001b[0m\u001b[0;34m\u001b[0m\u001b[0;34m\u001b[0m\u001b[0m\n\u001b[1;32m   2650\u001b[0m         \u001b[0;32mif\u001b[0m \u001b[0mindexer\u001b[0m\u001b[0;34m.\u001b[0m\u001b[0mndim\u001b[0m \u001b[0;34m>\u001b[0m \u001b[0;36m1\u001b[0m \u001b[0;32mor\u001b[0m \u001b[0mindexer\u001b[0m\u001b[0;34m.\u001b[0m\u001b[0msize\u001b[0m \u001b[0;34m>\u001b[0m \u001b[0;36m1\u001b[0m\u001b[0;34m:\u001b[0m\u001b[0;34m\u001b[0m\u001b[0;34m\u001b[0m\u001b[0m\n",
      "\u001b[0;32mpandas/_libs/index.pyx\u001b[0m in \u001b[0;36mpandas._libs.index.IndexEngine.get_loc\u001b[0;34m()\u001b[0m\n",
      "\u001b[0;32mpandas/_libs/index.pyx\u001b[0m in \u001b[0;36mpandas._libs.index.IndexEngine.get_loc\u001b[0;34m()\u001b[0m\n",
      "\u001b[0;32mpandas/_libs/hashtable_class_helper.pxi\u001b[0m in \u001b[0;36mpandas._libs.hashtable.PyObjectHashTable.get_item\u001b[0;34m()\u001b[0m\n",
      "\u001b[0;32mpandas/_libs/hashtable_class_helper.pxi\u001b[0m in \u001b[0;36mpandas._libs.hashtable.PyObjectHashTable.get_item\u001b[0;34m()\u001b[0m\n",
      "\u001b[0;31mKeyError\u001b[0m: 'soldPrice'"
     ]
    },
    {
     "data": {
      "image/png": "[encoded data removed]",
      "text/plain": [
       "<Figure size 1600x800 with 1 Axes>"
      ]
     },
     "metadata": {
      "needs_background": "light"
     },
     "output_type": "display_data"
    }
   ],
   "source": [
    "plt.figure(figsize=(20, 10), dpi=80)\n",
    "plt.scatter(x=tallkrogen_sold_prices_df[\"soldPrice\"], y=tallkrogen_sold_prices_df[\"soldDate\"])\n",
    "plt.xlabel(\"Price in SEK\")\n",
    "plt.ylabel(\"Date\")\n",
    "plt.plot(X[\"soldPrice\"], y_predict, '-r', label='linear regression')"
   ]
  },
  {
   "cell_type": "markdown",
   "metadata": {},
   "source": [
    "## "
   ]
  },
  {
   "cell_type": "code",
   "execution_count": null,
   "metadata": {},
   "outputs": [],
   "source": []
  },
  {
   "cell_type": "code",
   "execution_count": null,
   "metadata": {},
   "outputs": [],
   "source": []
  }
 ],
 "metadata": {
  "kernelspec": {
   "display_name": "Python 3",
   "language": "python",
   "name": "python3"
  },
  "language_info": {
   "codemirror_mode": {
    "name": "ipython",
    "version": 3
   },
   "file_extension": ".py",
   "mimetype": "text/x-python",
   "name": "python",
   "nbconvert_exporter": "python",
   "pygments_lexer": "ipython3",
   "version": "3.8.3"
  }
 },
 "nbformat": 4,
 "nbformat_minor": 4
}
